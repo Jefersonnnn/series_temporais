{
 "cells": [
  {
   "cell_type": "markdown",
   "metadata": {
    "collapsed": true,
    "pycharm": {
     "name": "#%% md\n"
    }
   },
   "source": [
    "# Dataset Energia LSTM\n",
    "\n",
    "O desafio é prever o próximo preço da energia (na próxima hora)."
   ]
  },
  {
   "cell_type": "code",
   "execution_count": 3,
   "outputs": [],
   "source": [
    "import math\n",
    "import pandas as pd\n",
    "pd.set_option('display.max_columns', 80)\n",
    "import numpy as np\n",
    "import seaborn as sns\n",
    "import matplotlib.pyplot as plt\n",
    "from keras.models import Sequential\n",
    "from keras.layers import Dense\n",
    "import warnings\n",
    "warnings.filterwarnings('ignore')"
   ],
   "metadata": {
    "collapsed": false,
    "pycharm": {
     "name": "#%%\n"
    }
   }
  },
  {
   "cell_type": "code",
   "execution_count": 4,
   "outputs": [],
   "source": [
    "# Dataset: https://www.kaggle.com/datasets/nicholasjhana/energy-consumption-generation-prices-and-weather\n",
    "data_energia = pd.read_csv('data/energy_dataset.csv')\n",
    "data_clima = pd.read_csv('data/weather_features.csv')"
   ],
   "metadata": {
    "collapsed": false,
    "pycharm": {
     "name": "#%%\n"
    }
   }
  },
  {
   "cell_type": "markdown",
   "source": [
    "## Explorando os dados"
   ],
   "metadata": {
    "collapsed": false,
    "pycharm": {
     "name": "#%% md\n"
    }
   }
  },
  {
   "cell_type": "markdown",
   "source": [
    "### Dataset Energia"
   ],
   "metadata": {
    "collapsed": false,
    "pycharm": {
     "name": "#%% md\n"
    }
   }
  },
  {
   "cell_type": "code",
   "execution_count": 5,
   "outputs": [
    {
     "data": {
      "text/plain": "                        time  generation biomass  \\\n0  2015-01-01 00:00:00+01:00               447.0   \n1  2015-01-01 01:00:00+01:00               449.0   \n2  2015-01-01 02:00:00+01:00               448.0   \n3  2015-01-01 03:00:00+01:00               438.0   \n4  2015-01-01 04:00:00+01:00               428.0   \n\n   generation fossil brown coal/lignite  generation fossil coal-derived gas  \\\n0                                 329.0                                 0.0   \n1                                 328.0                                 0.0   \n2                                 323.0                                 0.0   \n3                                 254.0                                 0.0   \n4                                 187.0                                 0.0   \n\n   generation fossil gas  generation fossil hard coal  generation fossil oil  \\\n0                 4844.0                       4821.0                  162.0   \n1                 5196.0                       4755.0                  158.0   \n2                 4857.0                       4581.0                  157.0   \n3                 4314.0                       4131.0                  160.0   \n4                 4130.0                       3840.0                  156.0   \n\n   generation fossil oil shale  generation fossil peat  generation geothermal  \\\n0                          0.0                     0.0                    0.0   \n1                          0.0                     0.0                    0.0   \n2                          0.0                     0.0                    0.0   \n3                          0.0                     0.0                    0.0   \n4                          0.0                     0.0                    0.0   \n\n   generation hydro pumped storage aggregated  \\\n0                                         NaN   \n1                                         NaN   \n2                                         NaN   \n3                                         NaN   \n4                                         NaN   \n\n   generation hydro pumped storage consumption  \\\n0                                        863.0   \n1                                        920.0   \n2                                       1164.0   \n3                                       1503.0   \n4                                       1826.0   \n\n   generation hydro run-of-river and poundage  \\\n0                                      1051.0   \n1                                      1009.0   \n2                                       973.0   \n3                                       949.0   \n4                                       953.0   \n\n   generation hydro water reservoir  generation marine  generation nuclear  \\\n0                            1899.0                0.0              7096.0   \n1                            1658.0                0.0              7096.0   \n2                            1371.0                0.0              7099.0   \n3                             779.0                0.0              7098.0   \n4                             720.0                0.0              7097.0   \n\n   generation other  generation other renewable  generation solar  \\\n0              43.0                        73.0              49.0   \n1              43.0                        71.0              50.0   \n2              43.0                        73.0              50.0   \n3              43.0                        75.0              50.0   \n4              43.0                        74.0              42.0   \n\n   generation waste  generation wind offshore  generation wind onshore  \\\n0             196.0                       0.0                   6378.0   \n1             195.0                       0.0                   5890.0   \n2             196.0                       0.0                   5461.0   \n3             191.0                       0.0                   5238.0   \n4             189.0                       0.0                   4935.0   \n\n   forecast solar day ahead  forecast wind offshore eday ahead  \\\n0                      17.0                                NaN   \n1                      16.0                                NaN   \n2                       8.0                                NaN   \n3                       2.0                                NaN   \n4                       9.0                                NaN   \n\n   forecast wind onshore day ahead  total load forecast  total load actual  \\\n0                           6436.0              26118.0            25385.0   \n1                           5856.0              24934.0            24382.0   \n2                           5454.0              23515.0            22734.0   \n3                           5151.0              22642.0            21286.0   \n4                           4861.0              21785.0            20264.0   \n\n   price day ahead  price actual  \n0            50.10         65.41  \n1            48.10         64.92  \n2            47.33         64.48  \n3            42.27         59.32  \n4            38.41         56.04  ",
      "text/html": "<div>\n<style scoped>\n    .dataframe tbody tr th:only-of-type {\n        vertical-align: middle;\n    }\n\n    .dataframe tbody tr th {\n        vertical-align: top;\n    }\n\n    .dataframe thead th {\n        text-align: right;\n    }\n</style>\n<table border=\"1\" class=\"dataframe\">\n  <thead>\n    <tr style=\"text-align: right;\">\n      <th></th>\n      <th>time</th>\n      <th>generation biomass</th>\n      <th>generation fossil brown coal/lignite</th>\n      <th>generation fossil coal-derived gas</th>\n      <th>generation fossil gas</th>\n      <th>generation fossil hard coal</th>\n      <th>generation fossil oil</th>\n      <th>generation fossil oil shale</th>\n      <th>generation fossil peat</th>\n      <th>generation geothermal</th>\n      <th>generation hydro pumped storage aggregated</th>\n      <th>generation hydro pumped storage consumption</th>\n      <th>generation hydro run-of-river and poundage</th>\n      <th>generation hydro water reservoir</th>\n      <th>generation marine</th>\n      <th>generation nuclear</th>\n      <th>generation other</th>\n      <th>generation other renewable</th>\n      <th>generation solar</th>\n      <th>generation waste</th>\n      <th>generation wind offshore</th>\n      <th>generation wind onshore</th>\n      <th>forecast solar day ahead</th>\n      <th>forecast wind offshore eday ahead</th>\n      <th>forecast wind onshore day ahead</th>\n      <th>total load forecast</th>\n      <th>total load actual</th>\n      <th>price day ahead</th>\n      <th>price actual</th>\n    </tr>\n  </thead>\n  <tbody>\n    <tr>\n      <th>0</th>\n      <td>2015-01-01 00:00:00+01:00</td>\n      <td>447.0</td>\n      <td>329.0</td>\n      <td>0.0</td>\n      <td>4844.0</td>\n      <td>4821.0</td>\n      <td>162.0</td>\n      <td>0.0</td>\n      <td>0.0</td>\n      <td>0.0</td>\n      <td>NaN</td>\n      <td>863.0</td>\n      <td>1051.0</td>\n      <td>1899.0</td>\n      <td>0.0</td>\n      <td>7096.0</td>\n      <td>43.0</td>\n      <td>73.0</td>\n      <td>49.0</td>\n      <td>196.0</td>\n      <td>0.0</td>\n      <td>6378.0</td>\n      <td>17.0</td>\n      <td>NaN</td>\n      <td>6436.0</td>\n      <td>26118.0</td>\n      <td>25385.0</td>\n      <td>50.10</td>\n      <td>65.41</td>\n    </tr>\n    <tr>\n      <th>1</th>\n      <td>2015-01-01 01:00:00+01:00</td>\n      <td>449.0</td>\n      <td>328.0</td>\n      <td>0.0</td>\n      <td>5196.0</td>\n      <td>4755.0</td>\n      <td>158.0</td>\n      <td>0.0</td>\n      <td>0.0</td>\n      <td>0.0</td>\n      <td>NaN</td>\n      <td>920.0</td>\n      <td>1009.0</td>\n      <td>1658.0</td>\n      <td>0.0</td>\n      <td>7096.0</td>\n      <td>43.0</td>\n      <td>71.0</td>\n      <td>50.0</td>\n      <td>195.0</td>\n      <td>0.0</td>\n      <td>5890.0</td>\n      <td>16.0</td>\n      <td>NaN</td>\n      <td>5856.0</td>\n      <td>24934.0</td>\n      <td>24382.0</td>\n      <td>48.10</td>\n      <td>64.92</td>\n    </tr>\n    <tr>\n      <th>2</th>\n      <td>2015-01-01 02:00:00+01:00</td>\n      <td>448.0</td>\n      <td>323.0</td>\n      <td>0.0</td>\n      <td>4857.0</td>\n      <td>4581.0</td>\n      <td>157.0</td>\n      <td>0.0</td>\n      <td>0.0</td>\n      <td>0.0</td>\n      <td>NaN</td>\n      <td>1164.0</td>\n      <td>973.0</td>\n      <td>1371.0</td>\n      <td>0.0</td>\n      <td>7099.0</td>\n      <td>43.0</td>\n      <td>73.0</td>\n      <td>50.0</td>\n      <td>196.0</td>\n      <td>0.0</td>\n      <td>5461.0</td>\n      <td>8.0</td>\n      <td>NaN</td>\n      <td>5454.0</td>\n      <td>23515.0</td>\n      <td>22734.0</td>\n      <td>47.33</td>\n      <td>64.48</td>\n    </tr>\n    <tr>\n      <th>3</th>\n      <td>2015-01-01 03:00:00+01:00</td>\n      <td>438.0</td>\n      <td>254.0</td>\n      <td>0.0</td>\n      <td>4314.0</td>\n      <td>4131.0</td>\n      <td>160.0</td>\n      <td>0.0</td>\n      <td>0.0</td>\n      <td>0.0</td>\n      <td>NaN</td>\n      <td>1503.0</td>\n      <td>949.0</td>\n      <td>779.0</td>\n      <td>0.0</td>\n      <td>7098.0</td>\n      <td>43.0</td>\n      <td>75.0</td>\n      <td>50.0</td>\n      <td>191.0</td>\n      <td>0.0</td>\n      <td>5238.0</td>\n      <td>2.0</td>\n      <td>NaN</td>\n      <td>5151.0</td>\n      <td>22642.0</td>\n      <td>21286.0</td>\n      <td>42.27</td>\n      <td>59.32</td>\n    </tr>\n    <tr>\n      <th>4</th>\n      <td>2015-01-01 04:00:00+01:00</td>\n      <td>428.0</td>\n      <td>187.0</td>\n      <td>0.0</td>\n      <td>4130.0</td>\n      <td>3840.0</td>\n      <td>156.0</td>\n      <td>0.0</td>\n      <td>0.0</td>\n      <td>0.0</td>\n      <td>NaN</td>\n      <td>1826.0</td>\n      <td>953.0</td>\n      <td>720.0</td>\n      <td>0.0</td>\n      <td>7097.0</td>\n      <td>43.0</td>\n      <td>74.0</td>\n      <td>42.0</td>\n      <td>189.0</td>\n      <td>0.0</td>\n      <td>4935.0</td>\n      <td>9.0</td>\n      <td>NaN</td>\n      <td>4861.0</td>\n      <td>21785.0</td>\n      <td>20264.0</td>\n      <td>38.41</td>\n      <td>56.04</td>\n    </tr>\n  </tbody>\n</table>\n</div>"
     },
     "execution_count": 5,
     "metadata": {},
     "output_type": "execute_result"
    }
   ],
   "source": [
    "data_energia.head()"
   ],
   "metadata": {
    "collapsed": false,
    "pycharm": {
     "name": "#%%\n"
    }
   }
  },
  {
   "cell_type": "code",
   "execution_count": 6,
   "outputs": [
    {
     "name": "stdout",
     "output_type": "stream",
     "text": [
      "<class 'pandas.core.frame.DataFrame'>\n",
      "RangeIndex: 35064 entries, 0 to 35063\n",
      "Data columns (total 29 columns):\n",
      " #   Column                                       Non-Null Count  Dtype  \n",
      "---  ------                                       --------------  -----  \n",
      " 0   time                                         35064 non-null  object \n",
      " 1   generation biomass                           35045 non-null  float64\n",
      " 2   generation fossil brown coal/lignite         35046 non-null  float64\n",
      " 3   generation fossil coal-derived gas           35046 non-null  float64\n",
      " 4   generation fossil gas                        35046 non-null  float64\n",
      " 5   generation fossil hard coal                  35046 non-null  float64\n",
      " 6   generation fossil oil                        35045 non-null  float64\n",
      " 7   generation fossil oil shale                  35046 non-null  float64\n",
      " 8   generation fossil peat                       35046 non-null  float64\n",
      " 9   generation geothermal                        35046 non-null  float64\n",
      " 10  generation hydro pumped storage aggregated   0 non-null      float64\n",
      " 11  generation hydro pumped storage consumption  35045 non-null  float64\n",
      " 12  generation hydro run-of-river and poundage   35045 non-null  float64\n",
      " 13  generation hydro water reservoir             35046 non-null  float64\n",
      " 14  generation marine                            35045 non-null  float64\n",
      " 15  generation nuclear                           35047 non-null  float64\n",
      " 16  generation other                             35046 non-null  float64\n",
      " 17  generation other renewable                   35046 non-null  float64\n",
      " 18  generation solar                             35046 non-null  float64\n",
      " 19  generation waste                             35045 non-null  float64\n",
      " 20  generation wind offshore                     35046 non-null  float64\n",
      " 21  generation wind onshore                      35046 non-null  float64\n",
      " 22  forecast solar day ahead                     35064 non-null  float64\n",
      " 23  forecast wind offshore eday ahead            0 non-null      float64\n",
      " 24  forecast wind onshore day ahead              35064 non-null  float64\n",
      " 25  total load forecast                          35064 non-null  float64\n",
      " 26  total load actual                            35028 non-null  float64\n",
      " 27  price day ahead                              35064 non-null  float64\n",
      " 28  price actual                                 35064 non-null  float64\n",
      "dtypes: float64(28), object(1)\n",
      "memory usage: 7.8+ MB\n"
     ]
    }
   ],
   "source": [
    "data_energia.info()"
   ],
   "metadata": {
    "collapsed": false,
    "pycharm": {
     "name": "#%%\n"
    }
   }
  },
  {
   "cell_type": "code",
   "execution_count": 7,
   "outputs": [
    {
     "data": {
      "text/plain": "                             time  generation biomass  \\\ncount                       35064        35045.000000   \nunique                      35064                 NaN   \ntop     2015-01-01 00:00:00+01:00                 NaN   \nfreq                            1                 NaN   \nmean                          NaN          383.513540   \nstd                           NaN           85.353943   \nmin                           NaN            0.000000   \n25%                           NaN          333.000000   \n50%                           NaN          367.000000   \n75%                           NaN          433.000000   \nmax                           NaN          592.000000   \n\n        generation fossil brown coal/lignite  \\\ncount                           35046.000000   \nunique                                   NaN   \ntop                                      NaN   \nfreq                                     NaN   \nmean                              448.059208   \nstd                               354.568590   \nmin                                 0.000000   \n25%                                 0.000000   \n50%                               509.000000   \n75%                               757.000000   \nmax                               999.000000   \n\n        generation fossil coal-derived gas  generation fossil gas  \\\ncount                              35046.0           35046.000000   \nunique                                 NaN                    NaN   \ntop                                    NaN                    NaN   \nfreq                                   NaN                    NaN   \nmean                                   0.0            5622.737488   \nstd                                    0.0            2201.830478   \nmin                                    0.0               0.000000   \n25%                                    0.0            4126.000000   \n50%                                    0.0            4969.000000   \n75%                                    0.0            6429.000000   \nmax                                    0.0           20034.000000   \n\n        generation fossil hard coal  generation fossil oil  \\\ncount                  35046.000000           35045.000000   \nunique                          NaN                    NaN   \ntop                             NaN                    NaN   \nfreq                            NaN                    NaN   \nmean                    4256.065742             298.319789   \nstd                     1961.601013              52.520673   \nmin                        0.000000               0.000000   \n25%                     2527.000000             263.000000   \n50%                     4474.000000             300.000000   \n75%                     5838.750000             330.000000   \nmax                     8359.000000             449.000000   \n\n        generation fossil oil shale  generation fossil peat  \\\ncount                       35046.0                 35046.0   \nunique                          NaN                     NaN   \ntop                             NaN                     NaN   \nfreq                            NaN                     NaN   \nmean                            0.0                     0.0   \nstd                             0.0                     0.0   \nmin                             0.0                     0.0   \n25%                             0.0                     0.0   \n50%                             0.0                     0.0   \n75%                             0.0                     0.0   \nmax                             0.0                     0.0   \n\n        generation geothermal  generation hydro pumped storage aggregated  \\\ncount                 35046.0                                         0.0   \nunique                    NaN                                         NaN   \ntop                       NaN                                         NaN   \nfreq                      NaN                                         NaN   \nmean                      0.0                                         NaN   \nstd                       0.0                                         NaN   \nmin                       0.0                                         NaN   \n25%                       0.0                                         NaN   \n50%                       0.0                                         NaN   \n75%                       0.0                                         NaN   \nmax                       0.0                                         NaN   \n\n        generation hydro pumped storage consumption  \\\ncount                                  35045.000000   \nunique                                          NaN   \ntop                                             NaN   \nfreq                                            NaN   \nmean                                     475.577343   \nstd                                      792.406614   \nmin                                        0.000000   \n25%                                        0.000000   \n50%                                       68.000000   \n75%                                      616.000000   \nmax                                     4523.000000   \n\n        generation hydro run-of-river and poundage  \\\ncount                                 35045.000000   \nunique                                         NaN   \ntop                                            NaN   \nfreq                                           NaN   \nmean                                    972.116108   \nstd                                     400.777536   \nmin                                       0.000000   \n25%                                     637.000000   \n50%                                     906.000000   \n75%                                    1250.000000   \nmax                                    2000.000000   \n\n        generation hydro water reservoir  generation marine  \\\ncount                       35046.000000            35045.0   \nunique                               NaN                NaN   \ntop                                  NaN                NaN   \nfreq                                 NaN                NaN   \nmean                         2605.114735                0.0   \nstd                          1835.199745                0.0   \nmin                             0.000000                0.0   \n25%                          1077.250000                0.0   \n50%                          2164.000000                0.0   \n75%                          3757.000000                0.0   \nmax                          9728.000000                0.0   \n\n        generation nuclear  generation other  generation other renewable  \\\ncount         35047.000000      35046.000000                35046.000000   \nunique                 NaN               NaN                         NaN   \ntop                    NaN               NaN                         NaN   \nfreq                   NaN               NaN                         NaN   \nmean           6263.907039         60.228585                   85.639702   \nstd             839.667958         20.238381                   14.077554   \nmin               0.000000          0.000000                    0.000000   \n25%            5760.000000         53.000000                   73.000000   \n50%            6566.000000         57.000000                   88.000000   \n75%            7025.000000         80.000000                   97.000000   \nmax            7117.000000        106.000000                  119.000000   \n\n        generation solar  generation waste  generation wind offshore  \\\ncount       35046.000000      35045.000000                   35046.0   \nunique               NaN               NaN                       NaN   \ntop                  NaN               NaN                       NaN   \nfreq                 NaN               NaN                       NaN   \nmean         1432.665925        269.452133                       0.0   \nstd          1680.119887         50.195536                       0.0   \nmin             0.000000          0.000000                       0.0   \n25%            71.000000        240.000000                       0.0   \n50%           616.000000        279.000000                       0.0   \n75%          2578.000000        310.000000                       0.0   \nmax          5792.000000        357.000000                       0.0   \n\n        generation wind onshore  forecast solar day ahead  \\\ncount              35046.000000              35064.000000   \nunique                      NaN                       NaN   \ntop                         NaN                       NaN   \nfreq                        NaN                       NaN   \nmean                5464.479769               1439.066735   \nstd                 3213.691587               1677.703355   \nmin                    0.000000                  0.000000   \n25%                 2933.000000                 69.000000   \n50%                 4849.000000                576.000000   \n75%                 7398.000000               2636.000000   \nmax                17436.000000               5836.000000   \n\n        forecast wind offshore eday ahead  forecast wind onshore day ahead  \\\ncount                                 0.0                     35064.000000   \nunique                                NaN                              NaN   \ntop                                   NaN                              NaN   \nfreq                                  NaN                              NaN   \nmean                                  NaN                      5471.216689   \nstd                                   NaN                      3176.312853   \nmin                                   NaN                       237.000000   \n25%                                   NaN                      2979.000000   \n50%                                   NaN                      4855.000000   \n75%                                   NaN                      7353.000000   \nmax                                   NaN                     17430.000000   \n\n        total load forecast  total load actual  price day ahead  price actual  \ncount          35064.000000       35028.000000     35064.000000  35064.000000  \nunique                  NaN                NaN              NaN           NaN  \ntop                     NaN                NaN              NaN           NaN  \nfreq                    NaN                NaN              NaN           NaN  \nmean           28712.129962       28696.939905        49.874341     57.884023  \nstd             4594.100854        4574.987950        14.618900     14.204083  \nmin            18105.000000       18041.000000         2.060000      9.330000  \n25%            24793.750000       24807.750000        41.490000     49.347500  \n50%            28906.000000       28901.000000        50.520000     58.020000  \n75%            32263.250000       32192.000000        60.530000     68.010000  \nmax            41390.000000       41015.000000       101.990000    116.800000  ",
      "text/html": "<div>\n<style scoped>\n    .dataframe tbody tr th:only-of-type {\n        vertical-align: middle;\n    }\n\n    .dataframe tbody tr th {\n        vertical-align: top;\n    }\n\n    .dataframe thead th {\n        text-align: right;\n    }\n</style>\n<table border=\"1\" class=\"dataframe\">\n  <thead>\n    <tr style=\"text-align: right;\">\n      <th></th>\n      <th>time</th>\n      <th>generation biomass</th>\n      <th>generation fossil brown coal/lignite</th>\n      <th>generation fossil coal-derived gas</th>\n      <th>generation fossil gas</th>\n      <th>generation fossil hard coal</th>\n      <th>generation fossil oil</th>\n      <th>generation fossil oil shale</th>\n      <th>generation fossil peat</th>\n      <th>generation geothermal</th>\n      <th>generation hydro pumped storage aggregated</th>\n      <th>generation hydro pumped storage consumption</th>\n      <th>generation hydro run-of-river and poundage</th>\n      <th>generation hydro water reservoir</th>\n      <th>generation marine</th>\n      <th>generation nuclear</th>\n      <th>generation other</th>\n      <th>generation other renewable</th>\n      <th>generation solar</th>\n      <th>generation waste</th>\n      <th>generation wind offshore</th>\n      <th>generation wind onshore</th>\n      <th>forecast solar day ahead</th>\n      <th>forecast wind offshore eday ahead</th>\n      <th>forecast wind onshore day ahead</th>\n      <th>total load forecast</th>\n      <th>total load actual</th>\n      <th>price day ahead</th>\n      <th>price actual</th>\n    </tr>\n  </thead>\n  <tbody>\n    <tr>\n      <th>count</th>\n      <td>35064</td>\n      <td>35045.000000</td>\n      <td>35046.000000</td>\n      <td>35046.0</td>\n      <td>35046.000000</td>\n      <td>35046.000000</td>\n      <td>35045.000000</td>\n      <td>35046.0</td>\n      <td>35046.0</td>\n      <td>35046.0</td>\n      <td>0.0</td>\n      <td>35045.000000</td>\n      <td>35045.000000</td>\n      <td>35046.000000</td>\n      <td>35045.0</td>\n      <td>35047.000000</td>\n      <td>35046.000000</td>\n      <td>35046.000000</td>\n      <td>35046.000000</td>\n      <td>35045.000000</td>\n      <td>35046.0</td>\n      <td>35046.000000</td>\n      <td>35064.000000</td>\n      <td>0.0</td>\n      <td>35064.000000</td>\n      <td>35064.000000</td>\n      <td>35028.000000</td>\n      <td>35064.000000</td>\n      <td>35064.000000</td>\n    </tr>\n    <tr>\n      <th>unique</th>\n      <td>35064</td>\n      <td>NaN</td>\n      <td>NaN</td>\n      <td>NaN</td>\n      <td>NaN</td>\n      <td>NaN</td>\n      <td>NaN</td>\n      <td>NaN</td>\n      <td>NaN</td>\n      <td>NaN</td>\n      <td>NaN</td>\n      <td>NaN</td>\n      <td>NaN</td>\n      <td>NaN</td>\n      <td>NaN</td>\n      <td>NaN</td>\n      <td>NaN</td>\n      <td>NaN</td>\n      <td>NaN</td>\n      <td>NaN</td>\n      <td>NaN</td>\n      <td>NaN</td>\n      <td>NaN</td>\n      <td>NaN</td>\n      <td>NaN</td>\n      <td>NaN</td>\n      <td>NaN</td>\n      <td>NaN</td>\n      <td>NaN</td>\n    </tr>\n    <tr>\n      <th>top</th>\n      <td>2015-01-01 00:00:00+01:00</td>\n      <td>NaN</td>\n      <td>NaN</td>\n      <td>NaN</td>\n      <td>NaN</td>\n      <td>NaN</td>\n      <td>NaN</td>\n      <td>NaN</td>\n      <td>NaN</td>\n      <td>NaN</td>\n      <td>NaN</td>\n      <td>NaN</td>\n      <td>NaN</td>\n      <td>NaN</td>\n      <td>NaN</td>\n      <td>NaN</td>\n      <td>NaN</td>\n      <td>NaN</td>\n      <td>NaN</td>\n      <td>NaN</td>\n      <td>NaN</td>\n      <td>NaN</td>\n      <td>NaN</td>\n      <td>NaN</td>\n      <td>NaN</td>\n      <td>NaN</td>\n      <td>NaN</td>\n      <td>NaN</td>\n      <td>NaN</td>\n    </tr>\n    <tr>\n      <th>freq</th>\n      <td>1</td>\n      <td>NaN</td>\n      <td>NaN</td>\n      <td>NaN</td>\n      <td>NaN</td>\n      <td>NaN</td>\n      <td>NaN</td>\n      <td>NaN</td>\n      <td>NaN</td>\n      <td>NaN</td>\n      <td>NaN</td>\n      <td>NaN</td>\n      <td>NaN</td>\n      <td>NaN</td>\n      <td>NaN</td>\n      <td>NaN</td>\n      <td>NaN</td>\n      <td>NaN</td>\n      <td>NaN</td>\n      <td>NaN</td>\n      <td>NaN</td>\n      <td>NaN</td>\n      <td>NaN</td>\n      <td>NaN</td>\n      <td>NaN</td>\n      <td>NaN</td>\n      <td>NaN</td>\n      <td>NaN</td>\n      <td>NaN</td>\n    </tr>\n    <tr>\n      <th>mean</th>\n      <td>NaN</td>\n      <td>383.513540</td>\n      <td>448.059208</td>\n      <td>0.0</td>\n      <td>5622.737488</td>\n      <td>4256.065742</td>\n      <td>298.319789</td>\n      <td>0.0</td>\n      <td>0.0</td>\n      <td>0.0</td>\n      <td>NaN</td>\n      <td>475.577343</td>\n      <td>972.116108</td>\n      <td>2605.114735</td>\n      <td>0.0</td>\n      <td>6263.907039</td>\n      <td>60.228585</td>\n      <td>85.639702</td>\n      <td>1432.665925</td>\n      <td>269.452133</td>\n      <td>0.0</td>\n      <td>5464.479769</td>\n      <td>1439.066735</td>\n      <td>NaN</td>\n      <td>5471.216689</td>\n      <td>28712.129962</td>\n      <td>28696.939905</td>\n      <td>49.874341</td>\n      <td>57.884023</td>\n    </tr>\n    <tr>\n      <th>std</th>\n      <td>NaN</td>\n      <td>85.353943</td>\n      <td>354.568590</td>\n      <td>0.0</td>\n      <td>2201.830478</td>\n      <td>1961.601013</td>\n      <td>52.520673</td>\n      <td>0.0</td>\n      <td>0.0</td>\n      <td>0.0</td>\n      <td>NaN</td>\n      <td>792.406614</td>\n      <td>400.777536</td>\n      <td>1835.199745</td>\n      <td>0.0</td>\n      <td>839.667958</td>\n      <td>20.238381</td>\n      <td>14.077554</td>\n      <td>1680.119887</td>\n      <td>50.195536</td>\n      <td>0.0</td>\n      <td>3213.691587</td>\n      <td>1677.703355</td>\n      <td>NaN</td>\n      <td>3176.312853</td>\n      <td>4594.100854</td>\n      <td>4574.987950</td>\n      <td>14.618900</td>\n      <td>14.204083</td>\n    </tr>\n    <tr>\n      <th>min</th>\n      <td>NaN</td>\n      <td>0.000000</td>\n      <td>0.000000</td>\n      <td>0.0</td>\n      <td>0.000000</td>\n      <td>0.000000</td>\n      <td>0.000000</td>\n      <td>0.0</td>\n      <td>0.0</td>\n      <td>0.0</td>\n      <td>NaN</td>\n      <td>0.000000</td>\n      <td>0.000000</td>\n      <td>0.000000</td>\n      <td>0.0</td>\n      <td>0.000000</td>\n      <td>0.000000</td>\n      <td>0.000000</td>\n      <td>0.000000</td>\n      <td>0.000000</td>\n      <td>0.0</td>\n      <td>0.000000</td>\n      <td>0.000000</td>\n      <td>NaN</td>\n      <td>237.000000</td>\n      <td>18105.000000</td>\n      <td>18041.000000</td>\n      <td>2.060000</td>\n      <td>9.330000</td>\n    </tr>\n    <tr>\n      <th>25%</th>\n      <td>NaN</td>\n      <td>333.000000</td>\n      <td>0.000000</td>\n      <td>0.0</td>\n      <td>4126.000000</td>\n      <td>2527.000000</td>\n      <td>263.000000</td>\n      <td>0.0</td>\n      <td>0.0</td>\n      <td>0.0</td>\n      <td>NaN</td>\n      <td>0.000000</td>\n      <td>637.000000</td>\n      <td>1077.250000</td>\n      <td>0.0</td>\n      <td>5760.000000</td>\n      <td>53.000000</td>\n      <td>73.000000</td>\n      <td>71.000000</td>\n      <td>240.000000</td>\n      <td>0.0</td>\n      <td>2933.000000</td>\n      <td>69.000000</td>\n      <td>NaN</td>\n      <td>2979.000000</td>\n      <td>24793.750000</td>\n      <td>24807.750000</td>\n      <td>41.490000</td>\n      <td>49.347500</td>\n    </tr>\n    <tr>\n      <th>50%</th>\n      <td>NaN</td>\n      <td>367.000000</td>\n      <td>509.000000</td>\n      <td>0.0</td>\n      <td>4969.000000</td>\n      <td>4474.000000</td>\n      <td>300.000000</td>\n      <td>0.0</td>\n      <td>0.0</td>\n      <td>0.0</td>\n      <td>NaN</td>\n      <td>68.000000</td>\n      <td>906.000000</td>\n      <td>2164.000000</td>\n      <td>0.0</td>\n      <td>6566.000000</td>\n      <td>57.000000</td>\n      <td>88.000000</td>\n      <td>616.000000</td>\n      <td>279.000000</td>\n      <td>0.0</td>\n      <td>4849.000000</td>\n      <td>576.000000</td>\n      <td>NaN</td>\n      <td>4855.000000</td>\n      <td>28906.000000</td>\n      <td>28901.000000</td>\n      <td>50.520000</td>\n      <td>58.020000</td>\n    </tr>\n    <tr>\n      <th>75%</th>\n      <td>NaN</td>\n      <td>433.000000</td>\n      <td>757.000000</td>\n      <td>0.0</td>\n      <td>6429.000000</td>\n      <td>5838.750000</td>\n      <td>330.000000</td>\n      <td>0.0</td>\n      <td>0.0</td>\n      <td>0.0</td>\n      <td>NaN</td>\n      <td>616.000000</td>\n      <td>1250.000000</td>\n      <td>3757.000000</td>\n      <td>0.0</td>\n      <td>7025.000000</td>\n      <td>80.000000</td>\n      <td>97.000000</td>\n      <td>2578.000000</td>\n      <td>310.000000</td>\n      <td>0.0</td>\n      <td>7398.000000</td>\n      <td>2636.000000</td>\n      <td>NaN</td>\n      <td>7353.000000</td>\n      <td>32263.250000</td>\n      <td>32192.000000</td>\n      <td>60.530000</td>\n      <td>68.010000</td>\n    </tr>\n    <tr>\n      <th>max</th>\n      <td>NaN</td>\n      <td>592.000000</td>\n      <td>999.000000</td>\n      <td>0.0</td>\n      <td>20034.000000</td>\n      <td>8359.000000</td>\n      <td>449.000000</td>\n      <td>0.0</td>\n      <td>0.0</td>\n      <td>0.0</td>\n      <td>NaN</td>\n      <td>4523.000000</td>\n      <td>2000.000000</td>\n      <td>9728.000000</td>\n      <td>0.0</td>\n      <td>7117.000000</td>\n      <td>106.000000</td>\n      <td>119.000000</td>\n      <td>5792.000000</td>\n      <td>357.000000</td>\n      <td>0.0</td>\n      <td>17436.000000</td>\n      <td>5836.000000</td>\n      <td>NaN</td>\n      <td>17430.000000</td>\n      <td>41390.000000</td>\n      <td>41015.000000</td>\n      <td>101.990000</td>\n      <td>116.800000</td>\n    </tr>\n  </tbody>\n</table>\n</div>"
     },
     "execution_count": 7,
     "metadata": {},
     "output_type": "execute_result"
    }
   ],
   "source": [
    "# É possivel notar que algumas colunas estão com valores nulos e/ou zerados.\n",
    "# Ex: \"generation fossil coal-derived gas\", \"generation fossil oil shale\", \"generation fossil peat\", \"generation geothermal\", \"generation hydro pumped storage aggregated\"\n",
    "# \"generation marine\", \"generation wind offshore\", \"forecast wind offshore eday ahead\",\n",
    "# no dataset de clima foi removido a coluna \"weather_icon\"\n",
    "data_energia.describe(include='all')"
   ],
   "metadata": {
    "collapsed": false,
    "pycharm": {
     "name": "#%%\n"
    }
   }
  },
  {
   "cell_type": "code",
   "execution_count": 8,
   "outputs": [
    {
     "data": {
      "text/plain": "                                                  Nulls\ntime                                           0.000000\ngeneration biomass                             0.054187\ngeneration fossil brown coal/lignite           0.051335\ngeneration fossil coal-derived gas             0.051335\ngeneration fossil gas                          0.051335\ngeneration fossil hard coal                    0.051335\ngeneration fossil oil                          0.054187\ngeneration fossil oil shale                    0.051335\ngeneration fossil peat                         0.051335\ngeneration geothermal                          0.051335\ngeneration hydro pumped storage aggregated   100.000000\ngeneration hydro pumped storage consumption    0.054187\ngeneration hydro run-of-river and poundage     0.054187\ngeneration hydro water reservoir               0.051335\ngeneration marine                              0.054187\ngeneration nuclear                             0.048483\ngeneration other                               0.051335\ngeneration other renewable                     0.051335\ngeneration solar                               0.051335\ngeneration waste                               0.054187\ngeneration wind offshore                       0.051335\ngeneration wind onshore                        0.051335\nforecast solar day ahead                       0.000000\nforecast wind offshore eday ahead            100.000000\nforecast wind onshore day ahead                0.000000\ntotal load forecast                            0.000000\ntotal load actual                              0.102669\nprice day ahead                                0.000000\nprice actual                                   0.000000",
      "text/html": "<div>\n<style scoped>\n    .dataframe tbody tr th:only-of-type {\n        vertical-align: middle;\n    }\n\n    .dataframe tbody tr th {\n        vertical-align: top;\n    }\n\n    .dataframe thead th {\n        text-align: right;\n    }\n</style>\n<table border=\"1\" class=\"dataframe\">\n  <thead>\n    <tr style=\"text-align: right;\">\n      <th></th>\n      <th>Nulls</th>\n    </tr>\n  </thead>\n  <tbody>\n    <tr>\n      <th>time</th>\n      <td>0.000000</td>\n    </tr>\n    <tr>\n      <th>generation biomass</th>\n      <td>0.054187</td>\n    </tr>\n    <tr>\n      <th>generation fossil brown coal/lignite</th>\n      <td>0.051335</td>\n    </tr>\n    <tr>\n      <th>generation fossil coal-derived gas</th>\n      <td>0.051335</td>\n    </tr>\n    <tr>\n      <th>generation fossil gas</th>\n      <td>0.051335</td>\n    </tr>\n    <tr>\n      <th>generation fossil hard coal</th>\n      <td>0.051335</td>\n    </tr>\n    <tr>\n      <th>generation fossil oil</th>\n      <td>0.054187</td>\n    </tr>\n    <tr>\n      <th>generation fossil oil shale</th>\n      <td>0.051335</td>\n    </tr>\n    <tr>\n      <th>generation fossil peat</th>\n      <td>0.051335</td>\n    </tr>\n    <tr>\n      <th>generation geothermal</th>\n      <td>0.051335</td>\n    </tr>\n    <tr>\n      <th>generation hydro pumped storage aggregated</th>\n      <td>100.000000</td>\n    </tr>\n    <tr>\n      <th>generation hydro pumped storage consumption</th>\n      <td>0.054187</td>\n    </tr>\n    <tr>\n      <th>generation hydro run-of-river and poundage</th>\n      <td>0.054187</td>\n    </tr>\n    <tr>\n      <th>generation hydro water reservoir</th>\n      <td>0.051335</td>\n    </tr>\n    <tr>\n      <th>generation marine</th>\n      <td>0.054187</td>\n    </tr>\n    <tr>\n      <th>generation nuclear</th>\n      <td>0.048483</td>\n    </tr>\n    <tr>\n      <th>generation other</th>\n      <td>0.051335</td>\n    </tr>\n    <tr>\n      <th>generation other renewable</th>\n      <td>0.051335</td>\n    </tr>\n    <tr>\n      <th>generation solar</th>\n      <td>0.051335</td>\n    </tr>\n    <tr>\n      <th>generation waste</th>\n      <td>0.054187</td>\n    </tr>\n    <tr>\n      <th>generation wind offshore</th>\n      <td>0.051335</td>\n    </tr>\n    <tr>\n      <th>generation wind onshore</th>\n      <td>0.051335</td>\n    </tr>\n    <tr>\n      <th>forecast solar day ahead</th>\n      <td>0.000000</td>\n    </tr>\n    <tr>\n      <th>forecast wind offshore eday ahead</th>\n      <td>100.000000</td>\n    </tr>\n    <tr>\n      <th>forecast wind onshore day ahead</th>\n      <td>0.000000</td>\n    </tr>\n    <tr>\n      <th>total load forecast</th>\n      <td>0.000000</td>\n    </tr>\n    <tr>\n      <th>total load actual</th>\n      <td>0.102669</td>\n    </tr>\n    <tr>\n      <th>price day ahead</th>\n      <td>0.000000</td>\n    </tr>\n    <tr>\n      <th>price actual</th>\n      <td>0.000000</td>\n    </tr>\n  </tbody>\n</table>\n</div>"
     },
     "metadata": {},
     "output_type": "display_data"
    },
    {
     "data": {
      "text/plain": "                                                 Zeros\ntime                                          0.000000\ngeneration biomass                            0.011408\ngeneration fossil brown coal/lignite         29.993726\ngeneration fossil coal-derived gas           99.948665\ngeneration fossil gas                         0.002852\ngeneration fossil hard coal                   0.008556\ngeneration fossil oil                         0.008556\ngeneration fossil oil shale                  99.948665\ngeneration fossil peat                       99.948665\ngeneration geothermal                        99.948665\ngeneration hydro pumped storage aggregated    0.000000\ngeneration hydro pumped storage consumption  35.954255\ngeneration hydro run-of-river and poundage    0.008556\ngeneration hydro water reservoir              0.008556\ngeneration marine                            99.945813\ngeneration nuclear                            0.008556\ngeneration other                              0.011408\ngeneration other renewable                    0.008556\ngeneration solar                              0.008556\ngeneration waste                              0.008556\ngeneration wind offshore                     99.948665\ngeneration wind onshore                       0.008556\nforecast solar day ahead                      1.537189\nforecast wind offshore eday ahead             0.000000\nforecast wind onshore day ahead               0.000000\ntotal load forecast                           0.000000\ntotal load actual                             0.000000\nprice day ahead                               0.000000\nprice actual                                  0.000000",
      "text/html": "<div>\n<style scoped>\n    .dataframe tbody tr th:only-of-type {\n        vertical-align: middle;\n    }\n\n    .dataframe tbody tr th {\n        vertical-align: top;\n    }\n\n    .dataframe thead th {\n        text-align: right;\n    }\n</style>\n<table border=\"1\" class=\"dataframe\">\n  <thead>\n    <tr style=\"text-align: right;\">\n      <th></th>\n      <th>Zeros</th>\n    </tr>\n  </thead>\n  <tbody>\n    <tr>\n      <th>time</th>\n      <td>0.000000</td>\n    </tr>\n    <tr>\n      <th>generation biomass</th>\n      <td>0.011408</td>\n    </tr>\n    <tr>\n      <th>generation fossil brown coal/lignite</th>\n      <td>29.993726</td>\n    </tr>\n    <tr>\n      <th>generation fossil coal-derived gas</th>\n      <td>99.948665</td>\n    </tr>\n    <tr>\n      <th>generation fossil gas</th>\n      <td>0.002852</td>\n    </tr>\n    <tr>\n      <th>generation fossil hard coal</th>\n      <td>0.008556</td>\n    </tr>\n    <tr>\n      <th>generation fossil oil</th>\n      <td>0.008556</td>\n    </tr>\n    <tr>\n      <th>generation fossil oil shale</th>\n      <td>99.948665</td>\n    </tr>\n    <tr>\n      <th>generation fossil peat</th>\n      <td>99.948665</td>\n    </tr>\n    <tr>\n      <th>generation geothermal</th>\n      <td>99.948665</td>\n    </tr>\n    <tr>\n      <th>generation hydro pumped storage aggregated</th>\n      <td>0.000000</td>\n    </tr>\n    <tr>\n      <th>generation hydro pumped storage consumption</th>\n      <td>35.954255</td>\n    </tr>\n    <tr>\n      <th>generation hydro run-of-river and poundage</th>\n      <td>0.008556</td>\n    </tr>\n    <tr>\n      <th>generation hydro water reservoir</th>\n      <td>0.008556</td>\n    </tr>\n    <tr>\n      <th>generation marine</th>\n      <td>99.945813</td>\n    </tr>\n    <tr>\n      <th>generation nuclear</th>\n      <td>0.008556</td>\n    </tr>\n    <tr>\n      <th>generation other</th>\n      <td>0.011408</td>\n    </tr>\n    <tr>\n      <th>generation other renewable</th>\n      <td>0.008556</td>\n    </tr>\n    <tr>\n      <th>generation solar</th>\n      <td>0.008556</td>\n    </tr>\n    <tr>\n      <th>generation waste</th>\n      <td>0.008556</td>\n    </tr>\n    <tr>\n      <th>generation wind offshore</th>\n      <td>99.948665</td>\n    </tr>\n    <tr>\n      <th>generation wind onshore</th>\n      <td>0.008556</td>\n    </tr>\n    <tr>\n      <th>forecast solar day ahead</th>\n      <td>1.537189</td>\n    </tr>\n    <tr>\n      <th>forecast wind offshore eday ahead</th>\n      <td>0.000000</td>\n    </tr>\n    <tr>\n      <th>forecast wind onshore day ahead</th>\n      <td>0.000000</td>\n    </tr>\n    <tr>\n      <th>total load forecast</th>\n      <td>0.000000</td>\n    </tr>\n    <tr>\n      <th>total load actual</th>\n      <td>0.000000</td>\n    </tr>\n    <tr>\n      <th>price day ahead</th>\n      <td>0.000000</td>\n    </tr>\n    <tr>\n      <th>price actual</th>\n      <td>0.000000</td>\n    </tr>\n  </tbody>\n</table>\n</div>"
     },
     "execution_count": 8,
     "metadata": {},
     "output_type": "execute_result"
    }
   ],
   "source": [
    "# contar o número de valores nulos\n",
    "display(data_energia.isnull().sum().to_frame(name='Nulls') / data_energia.shape[0] * 100)\n",
    "# Verificando quantidade de zeros\n",
    "data_energia.eq(0).sum().to_frame(name='Zeros') / data_energia.shape[0] * 100"
   ],
   "metadata": {
    "collapsed": false,
    "pycharm": {
     "name": "#%%\n"
    }
   }
  },
  {
   "cell_type": "code",
   "execution_count": 9,
   "outputs": [],
   "source": [
    "# Converter a coluna \"time\" para data\n",
    "#data_energia['time'] = pd.to_datetime(data_energia['time'], utc=True)"
   ],
   "metadata": {
    "collapsed": false,
    "pycharm": {
     "name": "#%%\n"
    }
   }
  },
  {
   "cell_type": "markdown",
   "source": [
    "#### Dropar as colunas que não são relevantes"
   ],
   "metadata": {
    "collapsed": false,
    "pycharm": {
     "name": "#%% md\n"
    }
   }
  },
  {
   "cell_type": "code",
   "execution_count": 10,
   "outputs": [],
   "source": [
    "# dropar as colunas que não são relevantes\n",
    "data_energia.drop(['generation fossil coal-derived gas', 'generation fossil oil shale', 'generation fossil peat',\n",
    "                'generation geothermal', 'generation hydro pumped storage aggregated', 'generation marine',\n",
    "                'generation wind offshore', 'forecast wind offshore eday ahead',\n",
    "                'total load forecast', 'forecast solar day ahead', 'forecast wind onshore day ahead'], axis=1, inplace=True)"
   ],
   "metadata": {
    "collapsed": false,
    "pycharm": {
     "name": "#%%\n"
    }
   }
  },
  {
   "cell_type": "markdown",
   "source": [
    "#### Dados missing"
   ],
   "metadata": {
    "collapsed": false,
    "pycharm": {
     "name": "#%% md\n"
    }
   }
  },
  {
   "cell_type": "code",
   "execution_count": 11,
   "outputs": [
    {
     "data": {
      "text/plain": "[<matplotlib.lines.Line2D at 0x1eca9e5ee50>]"
     },
     "execution_count": 11,
     "metadata": {},
     "output_type": "execute_result"
    },
    {
     "data": {
      "text/plain": "<Figure size 1440x360 with 1 Axes>",
      "image/png": "[encoded data removed]"
     },
     "metadata": {
      "needs_background": "light"
     },
     "output_type": "display_data"
    }
   ],
   "source": [
    "# Visualizando alguns dados missing\n",
    "x = data_energia[:24*7]['time']\n",
    "y = data_energia[:24*7]['generation biomass']\n",
    "plt.figure(figsize=(20, 5))\n",
    "plt.plot(x, y)"
   ],
   "metadata": {
    "collapsed": false,
    "pycharm": {
     "name": "#%%\n"
    }
   }
  },
  {
   "cell_type": "code",
   "execution_count": 12,
   "outputs": [],
   "source": [
    "# Como existem poucos dados faltantes, uma interpolação não deve afetar a performance do modelo.\n",
    "# Uma interpolação linear liga dois pontos por uma reta.\n",
    "data_energia.interpolate(method='linear', limit_direction='forward', inplace=True)"
   ],
   "metadata": {
    "collapsed": false,
    "pycharm": {
     "name": "#%%\n"
    }
   }
  },
  {
   "cell_type": "code",
   "execution_count": 13,
   "outputs": [
    {
     "data": {
      "text/plain": "[<matplotlib.lines.Line2D at 0x1ecab12e490>]"
     },
     "execution_count": 13,
     "metadata": {},
     "output_type": "execute_result"
    },
    {
     "data": {
      "text/plain": "<Figure size 1440x360 with 1 Axes>",
      "image/png": "[encoded data removed]"
     },
     "metadata": {
      "needs_background": "light"
     },
     "output_type": "display_data"
    }
   ],
   "source": [
    "x = data_energia[:24*7]['time']\n",
    "y = data_energia[:24*7]['generation biomass']\n",
    "plt.figure(figsize=(20, 5))\n",
    "plt.plot(x, y)"
   ],
   "metadata": {
    "collapsed": false,
    "pycharm": {
     "name": "#%%\n"
    }
   }
  },
  {
   "cell_type": "code",
   "execution_count": 14,
   "outputs": [],
   "source": [
    "# Converter a coluna \"time\" para data\n",
    "data_energia['time'] = pd.to_datetime(data_energia['time'], utc=True)\n",
    "data_energia = data_energia.set_index('time')"
   ],
   "metadata": {
    "collapsed": false,
    "pycharm": {
     "name": "#%%\n"
    }
   }
  },
  {
   "cell_type": "markdown",
   "source": [
    "### Dataset Clima"
   ],
   "metadata": {
    "collapsed": false,
    "pycharm": {
     "name": "#%% md\n"
    }
   }
  },
  {
   "cell_type": "code",
   "execution_count": 15,
   "outputs": [
    {
     "data": {
      "text/plain": "                      dt_iso city_name     temp  temp_min  temp_max  pressure  \\\n0  2015-01-01 00:00:00+01:00  Valencia  270.475   270.475   270.475      1001   \n1  2015-01-01 01:00:00+01:00  Valencia  270.475   270.475   270.475      1001   \n2  2015-01-01 02:00:00+01:00  Valencia  269.686   269.686   269.686      1002   \n3  2015-01-01 03:00:00+01:00  Valencia  269.686   269.686   269.686      1002   \n4  2015-01-01 04:00:00+01:00  Valencia  269.686   269.686   269.686      1002   \n\n   humidity  wind_speed  wind_deg  rain_1h  rain_3h  snow_3h  clouds_all  \\\n0        77           1        62      0.0      0.0      0.0           0   \n1        77           1        62      0.0      0.0      0.0           0   \n2        78           0        23      0.0      0.0      0.0           0   \n3        78           0        23      0.0      0.0      0.0           0   \n4        78           0        23      0.0      0.0      0.0           0   \n\n   weather_id weather_main weather_description weather_icon  \n0         800        clear        sky is clear          01n  \n1         800        clear        sky is clear          01n  \n2         800        clear        sky is clear          01n  \n3         800        clear        sky is clear          01n  \n4         800        clear        sky is clear          01n  ",
      "text/html": "<div>\n<style scoped>\n    .dataframe tbody tr th:only-of-type {\n        vertical-align: middle;\n    }\n\n    .dataframe tbody tr th {\n        vertical-align: top;\n    }\n\n    .dataframe thead th {\n        text-align: right;\n    }\n</style>\n<table border=\"1\" class=\"dataframe\">\n  <thead>\n    <tr style=\"text-align: right;\">\n      <th></th>\n      <th>dt_iso</th>\n      <th>city_name</th>\n      <th>temp</th>\n      <th>temp_min</th>\n      <th>temp_max</th>\n      <th>pressure</th>\n      <th>humidity</th>\n      <th>wind_speed</th>\n      <th>wind_deg</th>\n      <th>rain_1h</th>\n      <th>rain_3h</th>\n      <th>snow_3h</th>\n      <th>clouds_all</th>\n      <th>weather_id</th>\n      <th>weather_main</th>\n      <th>weather_description</th>\n      <th>weather_icon</th>\n    </tr>\n  </thead>\n  <tbody>\n    <tr>\n      <th>0</th>\n      <td>2015-01-01 00:00:00+01:00</td>\n      <td>Valencia</td>\n      <td>270.475</td>\n      <td>270.475</td>\n      <td>270.475</td>\n      <td>1001</td>\n      <td>77</td>\n      <td>1</td>\n      <td>62</td>\n      <td>0.0</td>\n      <td>0.0</td>\n      <td>0.0</td>\n      <td>0</td>\n      <td>800</td>\n      <td>clear</td>\n      <td>sky is clear</td>\n      <td>01n</td>\n    </tr>\n    <tr>\n      <th>1</th>\n      <td>2015-01-01 01:00:00+01:00</td>\n      <td>Valencia</td>\n      <td>270.475</td>\n      <td>270.475</td>\n      <td>270.475</td>\n      <td>1001</td>\n      <td>77</td>\n      <td>1</td>\n      <td>62</td>\n      <td>0.0</td>\n      <td>0.0</td>\n      <td>0.0</td>\n      <td>0</td>\n      <td>800</td>\n      <td>clear</td>\n      <td>sky is clear</td>\n      <td>01n</td>\n    </tr>\n    <tr>\n      <th>2</th>\n      <td>2015-01-01 02:00:00+01:00</td>\n      <td>Valencia</td>\n      <td>269.686</td>\n      <td>269.686</td>\n      <td>269.686</td>\n      <td>1002</td>\n      <td>78</td>\n      <td>0</td>\n      <td>23</td>\n      <td>0.0</td>\n      <td>0.0</td>\n      <td>0.0</td>\n      <td>0</td>\n      <td>800</td>\n      <td>clear</td>\n      <td>sky is clear</td>\n      <td>01n</td>\n    </tr>\n    <tr>\n      <th>3</th>\n      <td>2015-01-01 03:00:00+01:00</td>\n      <td>Valencia</td>\n      <td>269.686</td>\n      <td>269.686</td>\n      <td>269.686</td>\n      <td>1002</td>\n      <td>78</td>\n      <td>0</td>\n      <td>23</td>\n      <td>0.0</td>\n      <td>0.0</td>\n      <td>0.0</td>\n      <td>0</td>\n      <td>800</td>\n      <td>clear</td>\n      <td>sky is clear</td>\n      <td>01n</td>\n    </tr>\n    <tr>\n      <th>4</th>\n      <td>2015-01-01 04:00:00+01:00</td>\n      <td>Valencia</td>\n      <td>269.686</td>\n      <td>269.686</td>\n      <td>269.686</td>\n      <td>1002</td>\n      <td>78</td>\n      <td>0</td>\n      <td>23</td>\n      <td>0.0</td>\n      <td>0.0</td>\n      <td>0.0</td>\n      <td>0</td>\n      <td>800</td>\n      <td>clear</td>\n      <td>sky is clear</td>\n      <td>01n</td>\n    </tr>\n  </tbody>\n</table>\n</div>"
     },
     "execution_count": 15,
     "metadata": {},
     "output_type": "execute_result"
    }
   ],
   "source": [
    "# Iniciando a Exploração dos dados de clima\n",
    "data_clima.head()"
   ],
   "metadata": {
    "collapsed": false,
    "pycharm": {
     "name": "#%%\n"
    }
   }
  },
  {
   "cell_type": "code",
   "execution_count": 16,
   "outputs": [
    {
     "data": {
      "text/plain": "dt_iso                  object\ncity_name               object\ntemp                   float64\ntemp_min               float64\ntemp_max               float64\npressure                 int64\nhumidity                 int64\nwind_speed               int64\nwind_deg                 int64\nrain_1h                float64\nrain_3h                float64\nsnow_3h                float64\nclouds_all               int64\nweather_id               int64\nweather_main            object\nweather_description     object\nweather_icon            object\ndtype: object"
     },
     "execution_count": 16,
     "metadata": {},
     "output_type": "execute_result"
    }
   ],
   "source": [
    "data_clima.dtypes"
   ],
   "metadata": {
    "collapsed": false,
    "pycharm": {
     "name": "#%%\n"
    }
   }
  },
  {
   "cell_type": "code",
   "execution_count": 17,
   "outputs": [
    {
     "data": {
      "text/plain": "Index(['pressure', 'humidity', 'wind_speed', 'wind_deg', 'clouds_all',\n       'weather_id'],\n      dtype='object')"
     },
     "execution_count": 17,
     "metadata": {},
     "output_type": "execute_result"
    }
   ],
   "source": [
    "# Convertendo as colunas do type int para o type float\n",
    "colunas_int = data_clima.select_dtypes(include=[np.int64]).columns # Seleciona as colunas do tipo int (nome das colunas)\n",
    "data_clima[colunas_int] = data_clima[colunas_int].astype(np.float64) # Muda o type das colunas para float\n",
    "colunas_int"
   ],
   "metadata": {
    "collapsed": false,
    "pycharm": {
     "name": "#%%\n"
    }
   }
  },
  {
   "cell_type": "code",
   "execution_count": 18,
   "outputs": [],
   "source": [
    "# Convertendo os dados temporais para o tipo datetime\n",
    "data_clima['time'] = pd.to_datetime(data_clima['dt_iso'], utc=True)\n",
    "data_clima.drop(['dt_iso'], axis=1, inplace=True)"
   ],
   "metadata": {
    "collapsed": false,
    "pycharm": {
     "name": "#%%\n"
    }
   }
  },
  {
   "cell_type": "code",
   "execution_count": 19,
   "outputs": [
    {
     "data": {
      "text/plain": "                     Nulls\ncity_name              0.0\ntemp                   0.0\ntemp_min               0.0\ntemp_max               0.0\npressure               0.0\nhumidity               0.0\nwind_speed             0.0\nwind_deg               0.0\nrain_1h                0.0\nrain_3h                0.0\nsnow_3h                0.0\nclouds_all             0.0\nweather_id             0.0\nweather_main           0.0\nweather_description    0.0\nweather_icon           0.0\ntime                   0.0",
      "text/html": "<div>\n<style scoped>\n    .dataframe tbody tr th:only-of-type {\n        vertical-align: middle;\n    }\n\n    .dataframe tbody tr th {\n        vertical-align: top;\n    }\n\n    .dataframe thead th {\n        text-align: right;\n    }\n</style>\n<table border=\"1\" class=\"dataframe\">\n  <thead>\n    <tr style=\"text-align: right;\">\n      <th></th>\n      <th>Nulls</th>\n    </tr>\n  </thead>\n  <tbody>\n    <tr>\n      <th>city_name</th>\n      <td>0.0</td>\n    </tr>\n    <tr>\n      <th>temp</th>\n      <td>0.0</td>\n    </tr>\n    <tr>\n      <th>temp_min</th>\n      <td>0.0</td>\n    </tr>\n    <tr>\n      <th>temp_max</th>\n      <td>0.0</td>\n    </tr>\n    <tr>\n      <th>pressure</th>\n      <td>0.0</td>\n    </tr>\n    <tr>\n      <th>humidity</th>\n      <td>0.0</td>\n    </tr>\n    <tr>\n      <th>wind_speed</th>\n      <td>0.0</td>\n    </tr>\n    <tr>\n      <th>wind_deg</th>\n      <td>0.0</td>\n    </tr>\n    <tr>\n      <th>rain_1h</th>\n      <td>0.0</td>\n    </tr>\n    <tr>\n      <th>rain_3h</th>\n      <td>0.0</td>\n    </tr>\n    <tr>\n      <th>snow_3h</th>\n      <td>0.0</td>\n    </tr>\n    <tr>\n      <th>clouds_all</th>\n      <td>0.0</td>\n    </tr>\n    <tr>\n      <th>weather_id</th>\n      <td>0.0</td>\n    </tr>\n    <tr>\n      <th>weather_main</th>\n      <td>0.0</td>\n    </tr>\n    <tr>\n      <th>weather_description</th>\n      <td>0.0</td>\n    </tr>\n    <tr>\n      <th>weather_icon</th>\n      <td>0.0</td>\n    </tr>\n    <tr>\n      <th>time</th>\n      <td>0.0</td>\n    </tr>\n  </tbody>\n</table>\n</div>"
     },
     "metadata": {},
     "output_type": "display_data"
    },
    {
     "data": {
      "text/plain": "                         Zeros\ncity_name             0.000000\ntemp                  0.000000\ntemp_min              0.000000\ntemp_max              0.000000\npressure              0.001121\nhumidity              0.035315\nwind_speed           10.364582\nwind_deg             13.968923\nrain_1h              89.132043\nrain_3h              98.960178\nsnow_3h              99.850333\nclouds_all           46.073903\nweather_id            0.000000\nweather_main          0.000000\nweather_description   0.000000\nweather_icon          0.000000\ntime                  0.000000",
      "text/html": "<div>\n<style scoped>\n    .dataframe tbody tr th:only-of-type {\n        vertical-align: middle;\n    }\n\n    .dataframe tbody tr th {\n        vertical-align: top;\n    }\n\n    .dataframe thead th {\n        text-align: right;\n    }\n</style>\n<table border=\"1\" class=\"dataframe\">\n  <thead>\n    <tr style=\"text-align: right;\">\n      <th></th>\n      <th>Zeros</th>\n    </tr>\n  </thead>\n  <tbody>\n    <tr>\n      <th>city_name</th>\n      <td>0.000000</td>\n    </tr>\n    <tr>\n      <th>temp</th>\n      <td>0.000000</td>\n    </tr>\n    <tr>\n      <th>temp_min</th>\n      <td>0.000000</td>\n    </tr>\n    <tr>\n      <th>temp_max</th>\n      <td>0.000000</td>\n    </tr>\n    <tr>\n      <th>pressure</th>\n      <td>0.001121</td>\n    </tr>\n    <tr>\n      <th>humidity</th>\n      <td>0.035315</td>\n    </tr>\n    <tr>\n      <th>wind_speed</th>\n      <td>10.364582</td>\n    </tr>\n    <tr>\n      <th>wind_deg</th>\n      <td>13.968923</td>\n    </tr>\n    <tr>\n      <th>rain_1h</th>\n      <td>89.132043</td>\n    </tr>\n    <tr>\n      <th>rain_3h</th>\n      <td>98.960178</td>\n    </tr>\n    <tr>\n      <th>snow_3h</th>\n      <td>99.850333</td>\n    </tr>\n    <tr>\n      <th>clouds_all</th>\n      <td>46.073903</td>\n    </tr>\n    <tr>\n      <th>weather_id</th>\n      <td>0.000000</td>\n    </tr>\n    <tr>\n      <th>weather_main</th>\n      <td>0.000000</td>\n    </tr>\n    <tr>\n      <th>weather_description</th>\n      <td>0.000000</td>\n    </tr>\n    <tr>\n      <th>weather_icon</th>\n      <td>0.000000</td>\n    </tr>\n    <tr>\n      <th>time</th>\n      <td>0.000000</td>\n    </tr>\n  </tbody>\n</table>\n</div>"
     },
     "execution_count": 19,
     "metadata": {},
     "output_type": "execute_result"
    }
   ],
   "source": [
    "# Verificando dados missing\n",
    "display(data_clima.isnull().sum().to_frame(name='Nulls') / data_clima.shape[0] * 100)\n",
    "data_clima.eq(0).sum().to_frame(name='Zeros') / data_clima.shape[0] * 100"
   ],
   "metadata": {
    "collapsed": false,
    "pycharm": {
     "name": "#%%\n"
    }
   }
  },
  {
   "cell_type": "markdown",
   "source": [
    "#### Variaveis do tipo object (categóricas)"
   ],
   "metadata": {
    "collapsed": false,
    "pycharm": {
     "name": "#%% md\n"
    }
   }
  },
  {
   "cell_type": "code",
   "execution_count": 20,
   "outputs": [
    {
     "name": "stdout",
     "output_type": "stream",
     "text": [
      "Quantidade de categorias 43\n"
     ]
    },
    {
     "data": {
      "text/plain": "sky is clear                    82685\nfew clouds                      32101\nbroken clouds                   17448\nscattered clouds                15945\nlight rain                      10905\nmist                             3908\nmoderate rain                    3621\novercast clouds                  2561\nfog                              2506\nlight intensity drizzle          1241\nheavy intensity rain             1142\nlight intensity shower rain       657\nproximity thunderstorm            480\nproximity shower rain             476\nhaze                              435\nshower rain                       426\ndrizzle                           369\ndust                              345\nthunderstorm                      309\nlight snow                        140\nthunderstorm with rain            127\nthunderstorm with light rain       92\nheavy intensity shower rain        81\nlight intensity drizzle rain       79\nvery heavy rain                    78\nsnow                               74\nsmoke                              33\nthunderstorm with heavy rain       31\nlight rain and snow                20\nrain and drizzle                   19\nheavy intensity drizzle            14\nrain and snow                      13\nsleet                              13\nproximity moderate rain             4\nheavy snow                          3\nlight shower sleet                  3\nlight shower snow                   3\nlight thunderstorm                  2\nsand dust whirls                    2\nproximity drizzle                   2\nshower sleet                        1\nragged shower rain                  1\nsqualls                             1\nName: weather_description, dtype: int64"
     },
     "execution_count": 20,
     "metadata": {},
     "output_type": "execute_result"
    }
   ],
   "source": [
    "# Verificando as variaveis categoricas\n",
    "weather_description = data_clima['weather_description'].value_counts()\n",
    "print('Quantidade de categorias', weather_description.shape[0])\n",
    "weather_description"
   ],
   "metadata": {
    "collapsed": false,
    "pycharm": {
     "name": "#%%\n"
    }
   }
  },
  {
   "cell_type": "code",
   "execution_count": 21,
   "outputs": [
    {
     "name": "stdout",
     "output_type": "stream",
     "text": [
      "Quantidade de categorias 12\n"
     ]
    },
    {
     "data": {
      "text/plain": "clear           82685\nclouds          68055\nrain            17391\nmist             3908\nfog              2506\ndrizzle          1724\nthunderstorm     1041\nhaze              435\ndust              347\nsnow              270\nsmoke              33\nsquall              1\nName: weather_main, dtype: int64"
     },
     "execution_count": 21,
     "metadata": {},
     "output_type": "execute_result"
    }
   ],
   "source": [
    "weather_main = data_clima['weather_main'].value_counts()\n",
    "print('Quantidade de categorias', weather_main.shape[0])\n",
    "weather_main"
   ],
   "metadata": {
    "collapsed": false,
    "pycharm": {
     "name": "#%%\n"
    }
   }
  },
  {
   "cell_type": "code",
   "execution_count": 22,
   "outputs": [
    {
     "name": "stdout",
     "output_type": "stream",
     "text": [
      "Quantidade de categorias 24\n"
     ]
    },
    {
     "data": {
      "text/plain": "01n    38541\n01d    34830\n02d    19199\n02n    12368\n04d     9137\n04n     8403\n03d     7870\n10n     5951\n01      5946\n03n     5833\n10      4917\n10d     4882\n50n     4288\n02      3902\n50d     2942\n04      2469\n03      2242\n09d     1976\n09n     1389\n11d      624\n11n      417\n13d      130\n13n      103\n13        37\nName: weather_icon, dtype: int64"
     },
     "execution_count": 22,
     "metadata": {},
     "output_type": "execute_result"
    }
   ],
   "source": [
    "weather_icon = data_clima['weather_icon'].value_counts()\n",
    "print('Quantidade de categorias', weather_icon.shape[0])\n",
    "weather_icon"
   ],
   "metadata": {
    "collapsed": false,
    "pycharm": {
     "name": "#%%\n"
    }
   }
  },
  {
   "cell_type": "code",
   "execution_count": 23,
   "outputs": [
    {
     "name": "stdout",
     "output_type": "stream",
     "text": [
      "Quantidade de categorias 38\n"
     ]
    },
    {
     "data": {
      "text/plain": "800.0    82685\n801.0    32101\n803.0    17448\n802.0    15945\n500.0    10905\n701.0     3908\n501.0     3625\n804.0     2561\n741.0     2506\n300.0     1241\n502.0     1142\n521.0      902\n211.0      789\n520.0      657\n721.0      435\n301.0      371\n761.0      345\n600.0      140\n201.0      127\n200.0       92\n522.0       81\n310.0       79\n503.0       78\n601.0       74\n711.0       33\n202.0       31\n615.0       20\n311.0       19\n302.0       14\n616.0       13\n611.0       13\n612.0        4\n602.0        3\n620.0        3\n210.0        2\n731.0        2\n531.0        1\n771.0        1\nName: weather_id, dtype: int64"
     },
     "execution_count": 23,
     "metadata": {},
     "output_type": "execute_result"
    }
   ],
   "source": [
    "weather_id = data_clima['weather_id'].value_counts()\n",
    "print('Quantidade de categorias', weather_id.shape[0])\n",
    "weather_id"
   ],
   "metadata": {
    "collapsed": false,
    "pycharm": {
     "name": "#%%\n"
    }
   }
  },
  {
   "cell_type": "code",
   "execution_count": 24,
   "outputs": [],
   "source": [
    "# Aparentemente essas variaveis são correlacionadas, ou seja, a variável \"weather_description\" aparente ser uma variável com mais detalhes referentes ao clima.\n",
    "# Iremos remover as outras\n",
    "data_clima.drop(['weather_main', 'weather_icon', 'weather_id'], axis=1, inplace=True)\n",
    "# Drop columns com muitos valores 0 ou nulos\n",
    "data_clima.drop(['snow_3h', 'rain_3h'], axis=1, inplace=True)"
   ],
   "metadata": {
    "collapsed": false,
    "pycharm": {
     "name": "#%%\n"
    }
   }
  },
  {
   "cell_type": "markdown",
   "source": [
    "#### Amostras em cada cidade"
   ],
   "metadata": {
    "collapsed": false,
    "pycharm": {
     "name": "#%% md\n"
    }
   }
  },
  {
   "cell_type": "code",
   "execution_count": 25,
   "outputs": [
    {
     "name": "stdout",
     "output_type": "stream",
     "text": [
      "Valencia 35145\n",
      "Madrid 36267\n",
      "Bilbao 35951\n",
      " Barcelona 35476\n",
      "Seville 35557\n",
      "Dataset Energia: 35064\n"
     ]
    }
   ],
   "source": [
    "# Verificando a quantidade de amostras por cidade\n",
    "clima_agrupado = data_clima.groupby('city_name')\n",
    "nomes_cidades = data_clima['city_name'].unique()\n",
    "for nome in nomes_cidades:\n",
    "    print(nome, clima_agrupado.get_group(nome).shape[0])\n",
    "print('Dataset Energia:', data_energia.shape[0])\n",
    "\n",
    "# Existem mais amostras de clima que de energia, pode ser que existam dados duplicados"
   ],
   "metadata": {
    "collapsed": false,
    "pycharm": {
     "name": "#%%\n"
    }
   }
  },
  {
   "cell_type": "code",
   "execution_count": 26,
   "outputs": [],
   "source": [
    "# Removendo linhas duplicadas\n",
    "data_clima.drop_duplicates(subset=['time', 'city_name'], keep='first', inplace=True)\n",
    "data_clima.set_index('time', inplace=True) # Setando o index como time"
   ],
   "metadata": {
    "collapsed": false,
    "pycharm": {
     "name": "#%%\n"
    }
   }
  },
  {
   "cell_type": "code",
   "execution_count": 27,
   "outputs": [
    {
     "name": "stdout",
     "output_type": "stream",
     "text": [
      "Valencia 35064\n",
      "Madrid 35064\n",
      "Bilbao 35064\n",
      " Barcelona 35064\n",
      "Seville 35064\n",
      "Dataset Energia: 35064\n"
     ]
    }
   ],
   "source": [
    "# Verificando novamente a quantidade de amostras por cidade\n",
    "clima_agrupado = data_clima.groupby('city_name')\n",
    "nomes_cidades = data_clima['city_name'].unique()\n",
    "for nome in nomes_cidades:\n",
    "    print(nome, clima_agrupado.get_group(nome).shape[0])\n",
    "print('Dataset Energia:', data_energia.shape[0])"
   ],
   "metadata": {
    "collapsed": false,
    "pycharm": {
     "name": "#%%\n"
    }
   }
  },
  {
   "cell_type": "markdown",
   "source": [
    "#### Label Encoding"
   ],
   "metadata": {
    "collapsed": false,
    "pycharm": {
     "name": "#%% md\n"
    }
   }
  },
  {
   "cell_type": "code",
   "execution_count": 28,
   "outputs": [],
   "source": [
    "# Aplicando lqbel encoding na variável \"weather_description\"\n",
    "from sklearn.preprocessing import LabelEncoder\n",
    "le = LabelEncoder()\n",
    "data_clima['weather_description'] = le.fit_transform(data_clima['weather_description'])"
   ],
   "metadata": {
    "collapsed": false,
    "pycharm": {
     "name": "#%%\n"
    }
   }
  },
  {
   "cell_type": "code",
   "execution_count": 29,
   "outputs": [
    {
     "data": {
      "text/plain": "                          city_name     temp  temp_min  temp_max  pressure  \\\ntime                                                                         \n2014-12-31 23:00:00+00:00  Valencia  270.475   270.475   270.475    1001.0   \n2015-01-01 00:00:00+00:00  Valencia  270.475   270.475   270.475    1001.0   \n2015-01-01 01:00:00+00:00  Valencia  269.686   269.686   269.686    1002.0   \n2015-01-01 02:00:00+00:00  Valencia  269.686   269.686   269.686    1002.0   \n2015-01-01 03:00:00+00:00  Valencia  269.686   269.686   269.686    1002.0   \n\n                           humidity  wind_speed  wind_deg  rain_1h  \\\ntime                                                                 \n2014-12-31 23:00:00+00:00      77.0         1.0      62.0      0.0   \n2015-01-01 00:00:00+00:00      77.0         1.0      62.0      0.0   \n2015-01-01 01:00:00+00:00      78.0         0.0      23.0      0.0   \n2015-01-01 02:00:00+00:00      78.0         0.0      23.0      0.0   \n2015-01-01 03:00:00+00:00      78.0         0.0      23.0      0.0   \n\n                           clouds_all  weather_description  \ntime                                                        \n2014-12-31 23:00:00+00:00         0.0                   31  \n2015-01-01 00:00:00+00:00         0.0                   31  \n2015-01-01 01:00:00+00:00         0.0                   31  \n2015-01-01 02:00:00+00:00         0.0                   31  \n2015-01-01 03:00:00+00:00         0.0                   31  ",
      "text/html": "<div>\n<style scoped>\n    .dataframe tbody tr th:only-of-type {\n        vertical-align: middle;\n    }\n\n    .dataframe tbody tr th {\n        vertical-align: top;\n    }\n\n    .dataframe thead th {\n        text-align: right;\n    }\n</style>\n<table border=\"1\" class=\"dataframe\">\n  <thead>\n    <tr style=\"text-align: right;\">\n      <th></th>\n      <th>city_name</th>\n      <th>temp</th>\n      <th>temp_min</th>\n      <th>temp_max</th>\n      <th>pressure</th>\n      <th>humidity</th>\n      <th>wind_speed</th>\n      <th>wind_deg</th>\n      <th>rain_1h</th>\n      <th>clouds_all</th>\n      <th>weather_description</th>\n    </tr>\n    <tr>\n      <th>time</th>\n      <th></th>\n      <th></th>\n      <th></th>\n      <th></th>\n      <th></th>\n      <th></th>\n      <th></th>\n      <th></th>\n      <th></th>\n      <th></th>\n      <th></th>\n    </tr>\n  </thead>\n  <tbody>\n    <tr>\n      <th>2014-12-31 23:00:00+00:00</th>\n      <td>Valencia</td>\n      <td>270.475</td>\n      <td>270.475</td>\n      <td>270.475</td>\n      <td>1001.0</td>\n      <td>77.0</td>\n      <td>1.0</td>\n      <td>62.0</td>\n      <td>0.0</td>\n      <td>0.0</td>\n      <td>31</td>\n    </tr>\n    <tr>\n      <th>2015-01-01 00:00:00+00:00</th>\n      <td>Valencia</td>\n      <td>270.475</td>\n      <td>270.475</td>\n      <td>270.475</td>\n      <td>1001.0</td>\n      <td>77.0</td>\n      <td>1.0</td>\n      <td>62.0</td>\n      <td>0.0</td>\n      <td>0.0</td>\n      <td>31</td>\n    </tr>\n    <tr>\n      <th>2015-01-01 01:00:00+00:00</th>\n      <td>Valencia</td>\n      <td>269.686</td>\n      <td>269.686</td>\n      <td>269.686</td>\n      <td>1002.0</td>\n      <td>78.0</td>\n      <td>0.0</td>\n      <td>23.0</td>\n      <td>0.0</td>\n      <td>0.0</td>\n      <td>31</td>\n    </tr>\n    <tr>\n      <th>2015-01-01 02:00:00+00:00</th>\n      <td>Valencia</td>\n      <td>269.686</td>\n      <td>269.686</td>\n      <td>269.686</td>\n      <td>1002.0</td>\n      <td>78.0</td>\n      <td>0.0</td>\n      <td>23.0</td>\n      <td>0.0</td>\n      <td>0.0</td>\n      <td>31</td>\n    </tr>\n    <tr>\n      <th>2015-01-01 03:00:00+00:00</th>\n      <td>Valencia</td>\n      <td>269.686</td>\n      <td>269.686</td>\n      <td>269.686</td>\n      <td>1002.0</td>\n      <td>78.0</td>\n      <td>0.0</td>\n      <td>23.0</td>\n      <td>0.0</td>\n      <td>0.0</td>\n      <td>31</td>\n    </tr>\n  </tbody>\n</table>\n</div>"
     },
     "execution_count": 29,
     "metadata": {},
     "output_type": "execute_result"
    }
   ],
   "source": [
    "data_clima.head()"
   ],
   "metadata": {
    "collapsed": false,
    "pycharm": {
     "name": "#%%\n"
    }
   }
  },
  {
   "cell_type": "markdown",
   "source": [
    "#### Datasets distintos"
   ],
   "metadata": {
    "collapsed": false,
    "pycharm": {
     "name": "#%% md\n"
    }
   }
  },
  {
   "cell_type": "code",
   "execution_count": 30,
   "outputs": [],
   "source": [
    "# Criando 5 datasets distintos (um para cada cidade):\n",
    "df1, df2, df3, df4, df5 = [x for _, x in data_clima.groupby('city_name')] # x é o dataset agrupado da cidade e _ é o nome da cidade\n",
    "datasets_clima = [df1, df2, df3, df4, df5]"
   ],
   "metadata": {
    "collapsed": false,
    "pycharm": {
     "name": "#%%\n"
    }
   }
  },
  {
   "cell_type": "code",
   "execution_count": 31,
   "outputs": [],
   "source": [
    "dataset_final = data_energia.copy()\n",
    "\n",
    "for df in datasets_clima:\n",
    "    nome_cidade = str(df['city_name'][0]).replace(\"'\", \"\").replace(\" \", \"\") # Eliminando as aspas e espaços\n",
    "    df = df.add_suffix(f'_{nome_cidade}') # Adicionando o nome da cidade ao final do nome das colunas\n",
    "    dataset_final = dataset_final.merge(df, on='time') # Juntando os datasets\n",
    "    dataset_final = dataset_final.drop([f'city_name_{nome_cidade}'], axis=1) # Removendo a coluna \"city_name\""
   ],
   "metadata": {
    "collapsed": false,
    "pycharm": {
     "name": "#%%\n"
    }
   }
  },
  {
   "cell_type": "code",
   "execution_count": 32,
   "outputs": [
    {
     "data": {
      "text/plain": "                           generation biomass  \\\ntime                                            \n2014-12-31 23:00:00+00:00               447.0   \n2015-01-01 00:00:00+00:00               449.0   \n2015-01-01 01:00:00+00:00               448.0   \n2015-01-01 02:00:00+00:00               438.0   \n2015-01-01 03:00:00+00:00               428.0   \n\n                           generation fossil brown coal/lignite  \\\ntime                                                              \n2014-12-31 23:00:00+00:00                                 329.0   \n2015-01-01 00:00:00+00:00                                 328.0   \n2015-01-01 01:00:00+00:00                                 323.0   \n2015-01-01 02:00:00+00:00                                 254.0   \n2015-01-01 03:00:00+00:00                                 187.0   \n\n                           generation fossil gas  generation fossil hard coal  \\\ntime                                                                            \n2014-12-31 23:00:00+00:00                 4844.0                       4821.0   \n2015-01-01 00:00:00+00:00                 5196.0                       4755.0   \n2015-01-01 01:00:00+00:00                 4857.0                       4581.0   \n2015-01-01 02:00:00+00:00                 4314.0                       4131.0   \n2015-01-01 03:00:00+00:00                 4130.0                       3840.0   \n\n                           generation fossil oil  \\\ntime                                               \n2014-12-31 23:00:00+00:00                  162.0   \n2015-01-01 00:00:00+00:00                  158.0   \n2015-01-01 01:00:00+00:00                  157.0   \n2015-01-01 02:00:00+00:00                  160.0   \n2015-01-01 03:00:00+00:00                  156.0   \n\n                           generation hydro pumped storage consumption  \\\ntime                                                                     \n2014-12-31 23:00:00+00:00                                        863.0   \n2015-01-01 00:00:00+00:00                                        920.0   \n2015-01-01 01:00:00+00:00                                       1164.0   \n2015-01-01 02:00:00+00:00                                       1503.0   \n2015-01-01 03:00:00+00:00                                       1826.0   \n\n                           generation hydro run-of-river and poundage  \\\ntime                                                                    \n2014-12-31 23:00:00+00:00                                      1051.0   \n2015-01-01 00:00:00+00:00                                      1009.0   \n2015-01-01 01:00:00+00:00                                       973.0   \n2015-01-01 02:00:00+00:00                                       949.0   \n2015-01-01 03:00:00+00:00                                       953.0   \n\n                           generation hydro water reservoir  \\\ntime                                                          \n2014-12-31 23:00:00+00:00                            1899.0   \n2015-01-01 00:00:00+00:00                            1658.0   \n2015-01-01 01:00:00+00:00                            1371.0   \n2015-01-01 02:00:00+00:00                             779.0   \n2015-01-01 03:00:00+00:00                             720.0   \n\n                           generation nuclear  generation other  \\\ntime                                                              \n2014-12-31 23:00:00+00:00              7096.0              43.0   \n2015-01-01 00:00:00+00:00              7096.0              43.0   \n2015-01-01 01:00:00+00:00              7099.0              43.0   \n2015-01-01 02:00:00+00:00              7098.0              43.0   \n2015-01-01 03:00:00+00:00              7097.0              43.0   \n\n                           generation other renewable  generation solar  \\\ntime                                                                      \n2014-12-31 23:00:00+00:00                        73.0              49.0   \n2015-01-01 00:00:00+00:00                        71.0              50.0   \n2015-01-01 01:00:00+00:00                        73.0              50.0   \n2015-01-01 02:00:00+00:00                        75.0              50.0   \n2015-01-01 03:00:00+00:00                        74.0              42.0   \n\n                           generation waste  generation wind onshore  \\\ntime                                                                   \n2014-12-31 23:00:00+00:00             196.0                   6378.0   \n2015-01-01 00:00:00+00:00             195.0                   5890.0   \n2015-01-01 01:00:00+00:00             196.0                   5461.0   \n2015-01-01 02:00:00+00:00             191.0                   5238.0   \n2015-01-01 03:00:00+00:00             189.0                   4935.0   \n\n                           total load actual  price day ahead  price actual  \\\ntime                                                                          \n2014-12-31 23:00:00+00:00            25385.0            50.10         65.41   \n2015-01-01 00:00:00+00:00            24382.0            48.10         64.92   \n2015-01-01 01:00:00+00:00            22734.0            47.33         64.48   \n2015-01-01 02:00:00+00:00            21286.0            42.27         59.32   \n2015-01-01 03:00:00+00:00            20264.0            38.41         56.04   \n\n                           temp_Barcelona  temp_min_Barcelona  \\\ntime                                                            \n2014-12-31 23:00:00+00:00         281.625             281.625   \n2015-01-01 00:00:00+00:00         281.625             281.625   \n2015-01-01 01:00:00+00:00         281.286             281.286   \n2015-01-01 02:00:00+00:00         281.286             281.286   \n2015-01-01 03:00:00+00:00         281.286             281.286   \n\n                           temp_max_Barcelona  pressure_Barcelona  \\\ntime                                                                \n2014-12-31 23:00:00+00:00             281.625              1035.0   \n2015-01-01 00:00:00+00:00             281.625              1035.0   \n2015-01-01 01:00:00+00:00             281.286              1036.0   \n2015-01-01 02:00:00+00:00             281.286              1036.0   \n2015-01-01 03:00:00+00:00             281.286              1036.0   \n\n                           humidity_Barcelona  wind_speed_Barcelona  \\\ntime                                                                  \n2014-12-31 23:00:00+00:00               100.0                   7.0   \n2015-01-01 00:00:00+00:00               100.0                   7.0   \n2015-01-01 01:00:00+00:00               100.0                   7.0   \n2015-01-01 02:00:00+00:00               100.0                   7.0   \n2015-01-01 03:00:00+00:00               100.0                   7.0   \n\n                           wind_deg_Barcelona  rain_1h_Barcelona  \\\ntime                                                               \n2014-12-31 23:00:00+00:00                58.0                0.0   \n2015-01-01 00:00:00+00:00                58.0                0.0   \n2015-01-01 01:00:00+00:00                48.0                0.0   \n2015-01-01 02:00:00+00:00                48.0                0.0   \n2015-01-01 03:00:00+00:00                48.0                0.0   \n\n                           clouds_all_Barcelona  \\\ntime                                              \n2014-12-31 23:00:00+00:00                   0.0   \n2015-01-01 00:00:00+00:00                   0.0   \n2015-01-01 01:00:00+00:00                   0.0   \n2015-01-01 02:00:00+00:00                   0.0   \n2015-01-01 03:00:00+00:00                   0.0   \n\n                           weather_description_Barcelona  temp_Bilbao  \\\ntime                                                                    \n2014-12-31 23:00:00+00:00                             31   269.657312   \n2015-01-01 00:00:00+00:00                             31   269.763500   \n2015-01-01 01:00:00+00:00                             31   269.251688   \n2015-01-01 02:00:00+00:00                             31   269.203344   \n2015-01-01 03:00:00+00:00                             31   269.485500   \n\n                           temp_min_Bilbao  temp_max_Bilbao  pressure_Bilbao  \\\ntime                                                                           \n2014-12-31 23:00:00+00:00       269.657312       269.657312           1036.0   \n2015-01-01 00:00:00+00:00       269.763500       269.763500           1035.0   \n2015-01-01 01:00:00+00:00       269.251688       269.251688           1036.0   \n2015-01-01 02:00:00+00:00       269.203344       269.203344           1035.0   \n2015-01-01 03:00:00+00:00       269.485500       269.485500           1035.0   \n\n                           humidity_Bilbao  wind_speed_Bilbao  \\\ntime                                                            \n2014-12-31 23:00:00+00:00             97.0                0.0   \n2015-01-01 00:00:00+00:00             97.0                0.0   \n2015-01-01 01:00:00+00:00             97.0                1.0   \n2015-01-01 02:00:00+00:00             97.0                1.0   \n2015-01-01 03:00:00+00:00             97.0                1.0   \n\n                           wind_deg_Bilbao  rain_1h_Bilbao  clouds_all_Bilbao  \\\ntime                                                                            \n2014-12-31 23:00:00+00:00            226.0             0.0                0.0   \n2015-01-01 00:00:00+00:00            229.0             0.0                0.0   \n2015-01-01 01:00:00+00:00            224.0             0.0                0.0   \n2015-01-01 02:00:00+00:00            225.0             0.0                0.0   \n2015-01-01 03:00:00+00:00            221.0             0.0                0.0   \n\n                           weather_description_Bilbao  temp_Madrid  \\\ntime                                                                 \n2014-12-31 23:00:00+00:00                          31      267.325   \n2015-01-01 00:00:00+00:00                          31      267.325   \n2015-01-01 01:00:00+00:00                          31      266.186   \n2015-01-01 02:00:00+00:00                          31      266.186   \n2015-01-01 03:00:00+00:00                          31      266.186   \n\n                           temp_min_Madrid  temp_max_Madrid  pressure_Madrid  \\\ntime                                                                           \n2014-12-31 23:00:00+00:00          267.325          267.325            971.0   \n2015-01-01 00:00:00+00:00          267.325          267.325            971.0   \n2015-01-01 01:00:00+00:00          266.186          266.186            971.0   \n2015-01-01 02:00:00+00:00          266.186          266.186            971.0   \n2015-01-01 03:00:00+00:00          266.186          266.186            971.0   \n\n                           humidity_Madrid  wind_speed_Madrid  \\\ntime                                                            \n2014-12-31 23:00:00+00:00             63.0                1.0   \n2015-01-01 00:00:00+00:00             63.0                1.0   \n2015-01-01 01:00:00+00:00             64.0                1.0   \n2015-01-01 02:00:00+00:00             64.0                1.0   \n2015-01-01 03:00:00+00:00             64.0                1.0   \n\n                           wind_deg_Madrid  rain_1h_Madrid  clouds_all_Madrid  \\\ntime                                                                            \n2014-12-31 23:00:00+00:00            309.0             0.0                0.0   \n2015-01-01 00:00:00+00:00            309.0             0.0                0.0   \n2015-01-01 01:00:00+00:00            273.0             0.0                0.0   \n2015-01-01 02:00:00+00:00            273.0             0.0                0.0   \n2015-01-01 03:00:00+00:00            273.0             0.0                0.0   \n\n                           weather_description_Madrid  temp_Seville  \\\ntime                                                                  \n2014-12-31 23:00:00+00:00                          31       273.375   \n2015-01-01 00:00:00+00:00                          31       273.375   \n2015-01-01 01:00:00+00:00                          31       274.086   \n2015-01-01 02:00:00+00:00                          31       274.086   \n2015-01-01 03:00:00+00:00                          31       274.086   \n\n                           temp_min_Seville  temp_max_Seville  \\\ntime                                                            \n2014-12-31 23:00:00+00:00           273.375           273.375   \n2015-01-01 00:00:00+00:00           273.375           273.375   \n2015-01-01 01:00:00+00:00           274.086           274.086   \n2015-01-01 02:00:00+00:00           274.086           274.086   \n2015-01-01 03:00:00+00:00           274.086           274.086   \n\n                           pressure_Seville  humidity_Seville  \\\ntime                                                            \n2014-12-31 23:00:00+00:00            1039.0              75.0   \n2015-01-01 00:00:00+00:00            1039.0              75.0   \n2015-01-01 01:00:00+00:00            1039.0              71.0   \n2015-01-01 02:00:00+00:00            1039.0              71.0   \n2015-01-01 03:00:00+00:00            1039.0              71.0   \n\n                           wind_speed_Seville  wind_deg_Seville  \\\ntime                                                              \n2014-12-31 23:00:00+00:00                 1.0              21.0   \n2015-01-01 00:00:00+00:00                 1.0              21.0   \n2015-01-01 01:00:00+00:00                 3.0              27.0   \n2015-01-01 02:00:00+00:00                 3.0              27.0   \n2015-01-01 03:00:00+00:00                 3.0              27.0   \n\n                           rain_1h_Seville  clouds_all_Seville  \\\ntime                                                             \n2014-12-31 23:00:00+00:00              0.0                 0.0   \n2015-01-01 00:00:00+00:00              0.0                 0.0   \n2015-01-01 01:00:00+00:00              0.0                 0.0   \n2015-01-01 02:00:00+00:00              0.0                 0.0   \n2015-01-01 03:00:00+00:00              0.0                 0.0   \n\n                           weather_description_Seville  temp_Valencia  \\\ntime                                                                    \n2014-12-31 23:00:00+00:00                           31        270.475   \n2015-01-01 00:00:00+00:00                           31        270.475   \n2015-01-01 01:00:00+00:00                           31        269.686   \n2015-01-01 02:00:00+00:00                           31        269.686   \n2015-01-01 03:00:00+00:00                           31        269.686   \n\n                           temp_min_Valencia  temp_max_Valencia  \\\ntime                                                              \n2014-12-31 23:00:00+00:00            270.475            270.475   \n2015-01-01 00:00:00+00:00            270.475            270.475   \n2015-01-01 01:00:00+00:00            269.686            269.686   \n2015-01-01 02:00:00+00:00            269.686            269.686   \n2015-01-01 03:00:00+00:00            269.686            269.686   \n\n                           pressure_Valencia  humidity_Valencia  \\\ntime                                                              \n2014-12-31 23:00:00+00:00             1001.0               77.0   \n2015-01-01 00:00:00+00:00             1001.0               77.0   \n2015-01-01 01:00:00+00:00             1002.0               78.0   \n2015-01-01 02:00:00+00:00             1002.0               78.0   \n2015-01-01 03:00:00+00:00             1002.0               78.0   \n\n                           wind_speed_Valencia  wind_deg_Valencia  \\\ntime                                                                \n2014-12-31 23:00:00+00:00                  1.0               62.0   \n2015-01-01 00:00:00+00:00                  1.0               62.0   \n2015-01-01 01:00:00+00:00                  0.0               23.0   \n2015-01-01 02:00:00+00:00                  0.0               23.0   \n2015-01-01 03:00:00+00:00                  0.0               23.0   \n\n                           rain_1h_Valencia  clouds_all_Valencia  \\\ntime                                                               \n2014-12-31 23:00:00+00:00               0.0                  0.0   \n2015-01-01 00:00:00+00:00               0.0                  0.0   \n2015-01-01 01:00:00+00:00               0.0                  0.0   \n2015-01-01 02:00:00+00:00               0.0                  0.0   \n2015-01-01 03:00:00+00:00               0.0                  0.0   \n\n                           weather_description_Valencia  \ntime                                                     \n2014-12-31 23:00:00+00:00                            31  \n2015-01-01 00:00:00+00:00                            31  \n2015-01-01 01:00:00+00:00                            31  \n2015-01-01 02:00:00+00:00                            31  \n2015-01-01 03:00:00+00:00                            31  ",
      "text/html": "<div>\n<style scoped>\n    .dataframe tbody tr th:only-of-type {\n        vertical-align: middle;\n    }\n\n    .dataframe tbody tr th {\n        vertical-align: top;\n    }\n\n    .dataframe thead th {\n        text-align: right;\n    }\n</style>\n<table border=\"1\" class=\"dataframe\">\n  <thead>\n    <tr style=\"text-align: right;\">\n      <th></th>\n      <th>generation biomass</th>\n      <th>generation fossil brown coal/lignite</th>\n      <th>generation fossil gas</th>\n      <th>generation fossil hard coal</th>\n      <th>generation fossil oil</th>\n      <th>generation hydro pumped storage consumption</th>\n      <th>generation hydro run-of-river and poundage</th>\n      <th>generation hydro water reservoir</th>\n      <th>generation nuclear</th>\n      <th>generation other</th>\n      <th>generation other renewable</th>\n      <th>generation solar</th>\n      <th>generation waste</th>\n      <th>generation wind onshore</th>\n      <th>total load actual</th>\n      <th>price day ahead</th>\n      <th>price actual</th>\n      <th>temp_Barcelona</th>\n      <th>temp_min_Barcelona</th>\n      <th>temp_max_Barcelona</th>\n      <th>pressure_Barcelona</th>\n      <th>humidity_Barcelona</th>\n      <th>wind_speed_Barcelona</th>\n      <th>wind_deg_Barcelona</th>\n      <th>rain_1h_Barcelona</th>\n      <th>clouds_all_Barcelona</th>\n      <th>weather_description_Barcelona</th>\n      <th>temp_Bilbao</th>\n      <th>temp_min_Bilbao</th>\n      <th>temp_max_Bilbao</th>\n      <th>pressure_Bilbao</th>\n      <th>humidity_Bilbao</th>\n      <th>wind_speed_Bilbao</th>\n      <th>wind_deg_Bilbao</th>\n      <th>rain_1h_Bilbao</th>\n      <th>clouds_all_Bilbao</th>\n      <th>weather_description_Bilbao</th>\n      <th>temp_Madrid</th>\n      <th>temp_min_Madrid</th>\n      <th>temp_max_Madrid</th>\n      <th>pressure_Madrid</th>\n      <th>humidity_Madrid</th>\n      <th>wind_speed_Madrid</th>\n      <th>wind_deg_Madrid</th>\n      <th>rain_1h_Madrid</th>\n      <th>clouds_all_Madrid</th>\n      <th>weather_description_Madrid</th>\n      <th>temp_Seville</th>\n      <th>temp_min_Seville</th>\n      <th>temp_max_Seville</th>\n      <th>pressure_Seville</th>\n      <th>humidity_Seville</th>\n      <th>wind_speed_Seville</th>\n      <th>wind_deg_Seville</th>\n      <th>rain_1h_Seville</th>\n      <th>clouds_all_Seville</th>\n      <th>weather_description_Seville</th>\n      <th>temp_Valencia</th>\n      <th>temp_min_Valencia</th>\n      <th>temp_max_Valencia</th>\n      <th>pressure_Valencia</th>\n      <th>humidity_Valencia</th>\n      <th>wind_speed_Valencia</th>\n      <th>wind_deg_Valencia</th>\n      <th>rain_1h_Valencia</th>\n      <th>clouds_all_Valencia</th>\n      <th>weather_description_Valencia</th>\n    </tr>\n    <tr>\n      <th>time</th>\n      <th></th>\n      <th></th>\n      <th></th>\n      <th></th>\n      <th></th>\n      <th></th>\n      <th></th>\n      <th></th>\n      <th></th>\n      <th></th>\n      <th></th>\n      <th></th>\n      <th></th>\n      <th></th>\n      <th></th>\n      <th></th>\n      <th></th>\n      <th></th>\n      <th></th>\n      <th></th>\n      <th></th>\n      <th></th>\n      <th></th>\n      <th></th>\n      <th></th>\n      <th></th>\n      <th></th>\n      <th></th>\n      <th></th>\n      <th></th>\n      <th></th>\n      <th></th>\n      <th></th>\n      <th></th>\n      <th></th>\n      <th></th>\n      <th></th>\n      <th></th>\n      <th></th>\n      <th></th>\n      <th></th>\n      <th></th>\n      <th></th>\n      <th></th>\n      <th></th>\n      <th></th>\n      <th></th>\n      <th></th>\n      <th></th>\n      <th></th>\n      <th></th>\n      <th></th>\n      <th></th>\n      <th></th>\n      <th></th>\n      <th></th>\n      <th></th>\n      <th></th>\n      <th></th>\n      <th></th>\n      <th></th>\n      <th></th>\n      <th></th>\n      <th></th>\n      <th></th>\n      <th></th>\n      <th></th>\n    </tr>\n  </thead>\n  <tbody>\n    <tr>\n      <th>2014-12-31 23:00:00+00:00</th>\n      <td>447.0</td>\n      <td>329.0</td>\n      <td>4844.0</td>\n      <td>4821.0</td>\n      <td>162.0</td>\n      <td>863.0</td>\n      <td>1051.0</td>\n      <td>1899.0</td>\n      <td>7096.0</td>\n      <td>43.0</td>\n      <td>73.0</td>\n      <td>49.0</td>\n      <td>196.0</td>\n      <td>6378.0</td>\n      <td>25385.0</td>\n      <td>50.10</td>\n      <td>65.41</td>\n      <td>281.625</td>\n      <td>281.625</td>\n      <td>281.625</td>\n      <td>1035.0</td>\n      <td>100.0</td>\n      <td>7.0</td>\n      <td>58.0</td>\n      <td>0.0</td>\n      <td>0.0</td>\n      <td>31</td>\n      <td>269.657312</td>\n      <td>269.657312</td>\n      <td>269.657312</td>\n      <td>1036.0</td>\n      <td>97.0</td>\n      <td>0.0</td>\n      <td>226.0</td>\n      <td>0.0</td>\n      <td>0.0</td>\n      <td>31</td>\n      <td>267.325</td>\n      <td>267.325</td>\n      <td>267.325</td>\n      <td>971.0</td>\n      <td>63.0</td>\n      <td>1.0</td>\n      <td>309.0</td>\n      <td>0.0</td>\n      <td>0.0</td>\n      <td>31</td>\n      <td>273.375</td>\n      <td>273.375</td>\n      <td>273.375</td>\n      <td>1039.0</td>\n      <td>75.0</td>\n      <td>1.0</td>\n      <td>21.0</td>\n      <td>0.0</td>\n      <td>0.0</td>\n      <td>31</td>\n      <td>270.475</td>\n      <td>270.475</td>\n      <td>270.475</td>\n      <td>1001.0</td>\n      <td>77.0</td>\n      <td>1.0</td>\n      <td>62.0</td>\n      <td>0.0</td>\n      <td>0.0</td>\n      <td>31</td>\n    </tr>\n    <tr>\n      <th>2015-01-01 00:00:00+00:00</th>\n      <td>449.0</td>\n      <td>328.0</td>\n      <td>5196.0</td>\n      <td>4755.0</td>\n      <td>158.0</td>\n      <td>920.0</td>\n      <td>1009.0</td>\n      <td>1658.0</td>\n      <td>7096.0</td>\n      <td>43.0</td>\n      <td>71.0</td>\n      <td>50.0</td>\n      <td>195.0</td>\n      <td>5890.0</td>\n      <td>24382.0</td>\n      <td>48.10</td>\n      <td>64.92</td>\n      <td>281.625</td>\n      <td>281.625</td>\n      <td>281.625</td>\n      <td>1035.0</td>\n      <td>100.0</td>\n      <td>7.0</td>\n      <td>58.0</td>\n      <td>0.0</td>\n      <td>0.0</td>\n      <td>31</td>\n      <td>269.763500</td>\n      <td>269.763500</td>\n      <td>269.763500</td>\n      <td>1035.0</td>\n      <td>97.0</td>\n      <td>0.0</td>\n      <td>229.0</td>\n      <td>0.0</td>\n      <td>0.0</td>\n      <td>31</td>\n      <td>267.325</td>\n      <td>267.325</td>\n      <td>267.325</td>\n      <td>971.0</td>\n      <td>63.0</td>\n      <td>1.0</td>\n      <td>309.0</td>\n      <td>0.0</td>\n      <td>0.0</td>\n      <td>31</td>\n      <td>273.375</td>\n      <td>273.375</td>\n      <td>273.375</td>\n      <td>1039.0</td>\n      <td>75.0</td>\n      <td>1.0</td>\n      <td>21.0</td>\n      <td>0.0</td>\n      <td>0.0</td>\n      <td>31</td>\n      <td>270.475</td>\n      <td>270.475</td>\n      <td>270.475</td>\n      <td>1001.0</td>\n      <td>77.0</td>\n      <td>1.0</td>\n      <td>62.0</td>\n      <td>0.0</td>\n      <td>0.0</td>\n      <td>31</td>\n    </tr>\n    <tr>\n      <th>2015-01-01 01:00:00+00:00</th>\n      <td>448.0</td>\n      <td>323.0</td>\n      <td>4857.0</td>\n      <td>4581.0</td>\n      <td>157.0</td>\n      <td>1164.0</td>\n      <td>973.0</td>\n      <td>1371.0</td>\n      <td>7099.0</td>\n      <td>43.0</td>\n      <td>73.0</td>\n      <td>50.0</td>\n      <td>196.0</td>\n      <td>5461.0</td>\n      <td>22734.0</td>\n      <td>47.33</td>\n      <td>64.48</td>\n      <td>281.286</td>\n      <td>281.286</td>\n      <td>281.286</td>\n      <td>1036.0</td>\n      <td>100.0</td>\n      <td>7.0</td>\n      <td>48.0</td>\n      <td>0.0</td>\n      <td>0.0</td>\n      <td>31</td>\n      <td>269.251688</td>\n      <td>269.251688</td>\n      <td>269.251688</td>\n      <td>1036.0</td>\n      <td>97.0</td>\n      <td>1.0</td>\n      <td>224.0</td>\n      <td>0.0</td>\n      <td>0.0</td>\n      <td>31</td>\n      <td>266.186</td>\n      <td>266.186</td>\n      <td>266.186</td>\n      <td>971.0</td>\n      <td>64.0</td>\n      <td>1.0</td>\n      <td>273.0</td>\n      <td>0.0</td>\n      <td>0.0</td>\n      <td>31</td>\n      <td>274.086</td>\n      <td>274.086</td>\n      <td>274.086</td>\n      <td>1039.0</td>\n      <td>71.0</td>\n      <td>3.0</td>\n      <td>27.0</td>\n      <td>0.0</td>\n      <td>0.0</td>\n      <td>31</td>\n      <td>269.686</td>\n      <td>269.686</td>\n      <td>269.686</td>\n      <td>1002.0</td>\n      <td>78.0</td>\n      <td>0.0</td>\n      <td>23.0</td>\n      <td>0.0</td>\n      <td>0.0</td>\n      <td>31</td>\n    </tr>\n    <tr>\n      <th>2015-01-01 02:00:00+00:00</th>\n      <td>438.0</td>\n      <td>254.0</td>\n      <td>4314.0</td>\n      <td>4131.0</td>\n      <td>160.0</td>\n      <td>1503.0</td>\n      <td>949.0</td>\n      <td>779.0</td>\n      <td>7098.0</td>\n      <td>43.0</td>\n      <td>75.0</td>\n      <td>50.0</td>\n      <td>191.0</td>\n      <td>5238.0</td>\n      <td>21286.0</td>\n      <td>42.27</td>\n      <td>59.32</td>\n      <td>281.286</td>\n      <td>281.286</td>\n      <td>281.286</td>\n      <td>1036.0</td>\n      <td>100.0</td>\n      <td>7.0</td>\n      <td>48.0</td>\n      <td>0.0</td>\n      <td>0.0</td>\n      <td>31</td>\n      <td>269.203344</td>\n      <td>269.203344</td>\n      <td>269.203344</td>\n      <td>1035.0</td>\n      <td>97.0</td>\n      <td>1.0</td>\n      <td>225.0</td>\n      <td>0.0</td>\n      <td>0.0</td>\n      <td>31</td>\n      <td>266.186</td>\n      <td>266.186</td>\n      <td>266.186</td>\n      <td>971.0</td>\n      <td>64.0</td>\n      <td>1.0</td>\n      <td>273.0</td>\n      <td>0.0</td>\n      <td>0.0</td>\n      <td>31</td>\n      <td>274.086</td>\n      <td>274.086</td>\n      <td>274.086</td>\n      <td>1039.0</td>\n      <td>71.0</td>\n      <td>3.0</td>\n      <td>27.0</td>\n      <td>0.0</td>\n      <td>0.0</td>\n      <td>31</td>\n      <td>269.686</td>\n      <td>269.686</td>\n      <td>269.686</td>\n      <td>1002.0</td>\n      <td>78.0</td>\n      <td>0.0</td>\n      <td>23.0</td>\n      <td>0.0</td>\n      <td>0.0</td>\n      <td>31</td>\n    </tr>\n    <tr>\n      <th>2015-01-01 03:00:00+00:00</th>\n      <td>428.0</td>\n      <td>187.0</td>\n      <td>4130.0</td>\n      <td>3840.0</td>\n      <td>156.0</td>\n      <td>1826.0</td>\n      <td>953.0</td>\n      <td>720.0</td>\n      <td>7097.0</td>\n      <td>43.0</td>\n      <td>74.0</td>\n      <td>42.0</td>\n      <td>189.0</td>\n      <td>4935.0</td>\n      <td>20264.0</td>\n      <td>38.41</td>\n      <td>56.04</td>\n      <td>281.286</td>\n      <td>281.286</td>\n      <td>281.286</td>\n      <td>1036.0</td>\n      <td>100.0</td>\n      <td>7.0</td>\n      <td>48.0</td>\n      <td>0.0</td>\n      <td>0.0</td>\n      <td>31</td>\n      <td>269.485500</td>\n      <td>269.485500</td>\n      <td>269.485500</td>\n      <td>1035.0</td>\n      <td>97.0</td>\n      <td>1.0</td>\n      <td>221.0</td>\n      <td>0.0</td>\n      <td>0.0</td>\n      <td>31</td>\n      <td>266.186</td>\n      <td>266.186</td>\n      <td>266.186</td>\n      <td>971.0</td>\n      <td>64.0</td>\n      <td>1.0</td>\n      <td>273.0</td>\n      <td>0.0</td>\n      <td>0.0</td>\n      <td>31</td>\n      <td>274.086</td>\n      <td>274.086</td>\n      <td>274.086</td>\n      <td>1039.0</td>\n      <td>71.0</td>\n      <td>3.0</td>\n      <td>27.0</td>\n      <td>0.0</td>\n      <td>0.0</td>\n      <td>31</td>\n      <td>269.686</td>\n      <td>269.686</td>\n      <td>269.686</td>\n      <td>1002.0</td>\n      <td>78.0</td>\n      <td>0.0</td>\n      <td>23.0</td>\n      <td>0.0</td>\n      <td>0.0</td>\n      <td>31</td>\n    </tr>\n  </tbody>\n</table>\n</div>"
     },
     "execution_count": 32,
     "metadata": {},
     "output_type": "execute_result"
    }
   ],
   "source": [
    "dataset_final.head()"
   ],
   "metadata": {
    "collapsed": false,
    "pycharm": {
     "name": "#%%\n"
    }
   }
  },
  {
   "cell_type": "code",
   "execution_count": 33,
   "outputs": [
    {
     "data": {
      "text/plain": "(35064, 17)"
     },
     "execution_count": 33,
     "metadata": {},
     "output_type": "execute_result"
    }
   ],
   "source": [
    "data_energia.shape"
   ],
   "metadata": {
    "collapsed": false,
    "pycharm": {
     "name": "#%%\n"
    }
   }
  },
  {
   "cell_type": "code",
   "execution_count": 34,
   "outputs": [
    {
     "data": {
      "text/plain": "(175320, 11)"
     },
     "execution_count": 34,
     "metadata": {},
     "output_type": "execute_result"
    }
   ],
   "source": [
    "data_clima.shape"
   ],
   "metadata": {
    "collapsed": false,
    "pycharm": {
     "name": "#%%\n"
    }
   }
  },
  {
   "cell_type": "code",
   "execution_count": 35,
   "outputs": [
    {
     "data": {
      "text/plain": "(35064, 67)"
     },
     "execution_count": 35,
     "metadata": {},
     "output_type": "execute_result"
    }
   ],
   "source": [
    "dataset_final.shape"
   ],
   "metadata": {
    "collapsed": false,
    "pycharm": {
     "name": "#%%\n"
    }
   }
  },
  {
   "cell_type": "markdown",
   "source": [
    "## Correlação entre as variáveis"
   ],
   "metadata": {
    "collapsed": false,
    "pycharm": {
     "name": "#%% md\n"
    }
   }
  },
  {
   "cell_type": "code",
   "execution_count": 36,
   "outputs": [
    {
     "data": {
      "text/plain": "price actual                                   1.000000\nprice day ahead                                0.732155\ngeneration fossil hard coal                    0.465637\ngeneration fossil gas                          0.461452\ntotal load actual                              0.435253\n                                                 ...   \nwind_speed_Barcelona                          -0.138658\nwind_speed_Bilbao                             -0.143327\ngeneration wind onshore                       -0.220497\nwind_speed_Madrid                             -0.245861\ngeneration hydro pumped storage consumption   -0.426196\nName: price actual, Length: 67, dtype: float64"
     },
     "metadata": {},
     "output_type": "display_data"
    }
   ],
   "source": [
    "# Correlação entre as colunas do dataset energia\n",
    "display(dataset_final.corr(method='pearson')['price actual'].sort_values(ascending=False))\n",
    "\n",
    "# Heatmap das correlações\n",
    "# plt.figure(figsize=(30,15))\n",
    "# sns.heatmap(dataset_final.corr(method='pearson'), annot=True, cmap='BuPu', linewidths=0.5)\n",
    "# plt.show()"
   ],
   "metadata": {
    "collapsed": false,
    "pycharm": {
     "name": "#%%\n"
    }
   }
  },
  {
   "cell_type": "markdown",
   "source": [
    "# Treinando o modelo LSTM"
   ],
   "metadata": {
    "collapsed": false,
    "pycharm": {
     "name": "#%% md\n"
    }
   }
  },
  {
   "cell_type": "code",
   "execution_count": 37,
   "outputs": [],
   "source": [
    "# Função para calcular a performance das previsões\n",
    "from sklearn.metrics import mean_squared_error\n",
    "from math import sqrt\n",
    "\n",
    "def rmse(y_true, y_pred):\n",
    "    rmse = sqrt(mean_squared_error(y_true, y_pred))\n",
    "    print(f'O RMSE calculado é: {rmse:.2f}')"
   ],
   "metadata": {
    "collapsed": false,
    "pycharm": {
     "name": "#%%\n"
    }
   }
  },
  {
   "cell_type": "code",
   "execution_count": 38,
   "outputs": [
    {
     "name": "stdout",
     "output_type": "stream",
     "text": [
      "O RMSE calculado é: 13.25\n"
     ]
    }
   ],
   "source": [
    "# Verificando a previsão do modelo do Transmission Service Operator (TSO)\n",
    "rmse(dataset_final['price day ahead'], dataset_final['price actual'])"
   ],
   "metadata": {
    "collapsed": false,
    "pycharm": {
     "name": "#%%\n"
    }
   }
  },
  {
   "cell_type": "code",
   "execution_count": 39,
   "outputs": [],
   "source": [
    "# Excluindo a coluna de previsão de preço feita pelo TSO\n",
    "dataset = dataset_final.drop(['price day ahead'], axis=1)"
   ],
   "metadata": {
    "collapsed": false,
    "pycharm": {
     "name": "#%%\n"
    }
   }
  },
  {
   "cell_type": "code",
   "execution_count": 40,
   "outputs": [
    {
     "data": {
      "text/plain": "                           generation biomass  \\\ntime                                            \n2014-12-31 23:00:00+00:00               447.0   \n2015-01-01 00:00:00+00:00               449.0   \n2015-01-01 01:00:00+00:00               448.0   \n2015-01-01 02:00:00+00:00               438.0   \n2015-01-01 03:00:00+00:00               428.0   \n\n                           generation fossil brown coal/lignite  \\\ntime                                                              \n2014-12-31 23:00:00+00:00                                 329.0   \n2015-01-01 00:00:00+00:00                                 328.0   \n2015-01-01 01:00:00+00:00                                 323.0   \n2015-01-01 02:00:00+00:00                                 254.0   \n2015-01-01 03:00:00+00:00                                 187.0   \n\n                           generation fossil gas  generation fossil hard coal  \\\ntime                                                                            \n2014-12-31 23:00:00+00:00                 4844.0                       4821.0   \n2015-01-01 00:00:00+00:00                 5196.0                       4755.0   \n2015-01-01 01:00:00+00:00                 4857.0                       4581.0   \n2015-01-01 02:00:00+00:00                 4314.0                       4131.0   \n2015-01-01 03:00:00+00:00                 4130.0                       3840.0   \n\n                           generation fossil oil  \\\ntime                                               \n2014-12-31 23:00:00+00:00                  162.0   \n2015-01-01 00:00:00+00:00                  158.0   \n2015-01-01 01:00:00+00:00                  157.0   \n2015-01-01 02:00:00+00:00                  160.0   \n2015-01-01 03:00:00+00:00                  156.0   \n\n                           generation hydro pumped storage consumption  \\\ntime                                                                     \n2014-12-31 23:00:00+00:00                                        863.0   \n2015-01-01 00:00:00+00:00                                        920.0   \n2015-01-01 01:00:00+00:00                                       1164.0   \n2015-01-01 02:00:00+00:00                                       1503.0   \n2015-01-01 03:00:00+00:00                                       1826.0   \n\n                           generation hydro run-of-river and poundage  \\\ntime                                                                    \n2014-12-31 23:00:00+00:00                                      1051.0   \n2015-01-01 00:00:00+00:00                                      1009.0   \n2015-01-01 01:00:00+00:00                                       973.0   \n2015-01-01 02:00:00+00:00                                       949.0   \n2015-01-01 03:00:00+00:00                                       953.0   \n\n                           generation hydro water reservoir  \\\ntime                                                          \n2014-12-31 23:00:00+00:00                            1899.0   \n2015-01-01 00:00:00+00:00                            1658.0   \n2015-01-01 01:00:00+00:00                            1371.0   \n2015-01-01 02:00:00+00:00                             779.0   \n2015-01-01 03:00:00+00:00                             720.0   \n\n                           generation nuclear  generation other  \\\ntime                                                              \n2014-12-31 23:00:00+00:00              7096.0              43.0   \n2015-01-01 00:00:00+00:00              7096.0              43.0   \n2015-01-01 01:00:00+00:00              7099.0              43.0   \n2015-01-01 02:00:00+00:00              7098.0              43.0   \n2015-01-01 03:00:00+00:00              7097.0              43.0   \n\n                           generation other renewable  generation solar  \\\ntime                                                                      \n2014-12-31 23:00:00+00:00                        73.0              49.0   \n2015-01-01 00:00:00+00:00                        71.0              50.0   \n2015-01-01 01:00:00+00:00                        73.0              50.0   \n2015-01-01 02:00:00+00:00                        75.0              50.0   \n2015-01-01 03:00:00+00:00                        74.0              42.0   \n\n                           generation waste  generation wind onshore  \\\ntime                                                                   \n2014-12-31 23:00:00+00:00             196.0                   6378.0   \n2015-01-01 00:00:00+00:00             195.0                   5890.0   \n2015-01-01 01:00:00+00:00             196.0                   5461.0   \n2015-01-01 02:00:00+00:00             191.0                   5238.0   \n2015-01-01 03:00:00+00:00             189.0                   4935.0   \n\n                           total load actual  price actual  temp_Barcelona  \\\ntime                                                                         \n2014-12-31 23:00:00+00:00            25385.0         65.41         281.625   \n2015-01-01 00:00:00+00:00            24382.0         64.92         281.625   \n2015-01-01 01:00:00+00:00            22734.0         64.48         281.286   \n2015-01-01 02:00:00+00:00            21286.0         59.32         281.286   \n2015-01-01 03:00:00+00:00            20264.0         56.04         281.286   \n\n                           temp_min_Barcelona  temp_max_Barcelona  \\\ntime                                                                \n2014-12-31 23:00:00+00:00             281.625             281.625   \n2015-01-01 00:00:00+00:00             281.625             281.625   \n2015-01-01 01:00:00+00:00             281.286             281.286   \n2015-01-01 02:00:00+00:00             281.286             281.286   \n2015-01-01 03:00:00+00:00             281.286             281.286   \n\n                           pressure_Barcelona  humidity_Barcelona  \\\ntime                                                                \n2014-12-31 23:00:00+00:00              1035.0               100.0   \n2015-01-01 00:00:00+00:00              1035.0               100.0   \n2015-01-01 01:00:00+00:00              1036.0               100.0   \n2015-01-01 02:00:00+00:00              1036.0               100.0   \n2015-01-01 03:00:00+00:00              1036.0               100.0   \n\n                           wind_speed_Barcelona  wind_deg_Barcelona  \\\ntime                                                                  \n2014-12-31 23:00:00+00:00                   7.0                58.0   \n2015-01-01 00:00:00+00:00                   7.0                58.0   \n2015-01-01 01:00:00+00:00                   7.0                48.0   \n2015-01-01 02:00:00+00:00                   7.0                48.0   \n2015-01-01 03:00:00+00:00                   7.0                48.0   \n\n                           rain_1h_Barcelona  clouds_all_Barcelona  \\\ntime                                                                 \n2014-12-31 23:00:00+00:00                0.0                   0.0   \n2015-01-01 00:00:00+00:00                0.0                   0.0   \n2015-01-01 01:00:00+00:00                0.0                   0.0   \n2015-01-01 02:00:00+00:00                0.0                   0.0   \n2015-01-01 03:00:00+00:00                0.0                   0.0   \n\n                           weather_description_Barcelona  temp_Bilbao  \\\ntime                                                                    \n2014-12-31 23:00:00+00:00                             31   269.657312   \n2015-01-01 00:00:00+00:00                             31   269.763500   \n2015-01-01 01:00:00+00:00                             31   269.251688   \n2015-01-01 02:00:00+00:00                             31   269.203344   \n2015-01-01 03:00:00+00:00                             31   269.485500   \n\n                           temp_min_Bilbao  temp_max_Bilbao  pressure_Bilbao  \\\ntime                                                                           \n2014-12-31 23:00:00+00:00       269.657312       269.657312           1036.0   \n2015-01-01 00:00:00+00:00       269.763500       269.763500           1035.0   \n2015-01-01 01:00:00+00:00       269.251688       269.251688           1036.0   \n2015-01-01 02:00:00+00:00       269.203344       269.203344           1035.0   \n2015-01-01 03:00:00+00:00       269.485500       269.485500           1035.0   \n\n                           humidity_Bilbao  wind_speed_Bilbao  \\\ntime                                                            \n2014-12-31 23:00:00+00:00             97.0                0.0   \n2015-01-01 00:00:00+00:00             97.0                0.0   \n2015-01-01 01:00:00+00:00             97.0                1.0   \n2015-01-01 02:00:00+00:00             97.0                1.0   \n2015-01-01 03:00:00+00:00             97.0                1.0   \n\n                           wind_deg_Bilbao  rain_1h_Bilbao  clouds_all_Bilbao  \\\ntime                                                                            \n2014-12-31 23:00:00+00:00            226.0             0.0                0.0   \n2015-01-01 00:00:00+00:00            229.0             0.0                0.0   \n2015-01-01 01:00:00+00:00            224.0             0.0                0.0   \n2015-01-01 02:00:00+00:00            225.0             0.0                0.0   \n2015-01-01 03:00:00+00:00            221.0             0.0                0.0   \n\n                           weather_description_Bilbao  temp_Madrid  \\\ntime                                                                 \n2014-12-31 23:00:00+00:00                          31      267.325   \n2015-01-01 00:00:00+00:00                          31      267.325   \n2015-01-01 01:00:00+00:00                          31      266.186   \n2015-01-01 02:00:00+00:00                          31      266.186   \n2015-01-01 03:00:00+00:00                          31      266.186   \n\n                           temp_min_Madrid  temp_max_Madrid  pressure_Madrid  \\\ntime                                                                           \n2014-12-31 23:00:00+00:00          267.325          267.325            971.0   \n2015-01-01 00:00:00+00:00          267.325          267.325            971.0   \n2015-01-01 01:00:00+00:00          266.186          266.186            971.0   \n2015-01-01 02:00:00+00:00          266.186          266.186            971.0   \n2015-01-01 03:00:00+00:00          266.186          266.186            971.0   \n\n                           humidity_Madrid  wind_speed_Madrid  \\\ntime                                                            \n2014-12-31 23:00:00+00:00             63.0                1.0   \n2015-01-01 00:00:00+00:00             63.0                1.0   \n2015-01-01 01:00:00+00:00             64.0                1.0   \n2015-01-01 02:00:00+00:00             64.0                1.0   \n2015-01-01 03:00:00+00:00             64.0                1.0   \n\n                           wind_deg_Madrid  rain_1h_Madrid  clouds_all_Madrid  \\\ntime                                                                            \n2014-12-31 23:00:00+00:00            309.0             0.0                0.0   \n2015-01-01 00:00:00+00:00            309.0             0.0                0.0   \n2015-01-01 01:00:00+00:00            273.0             0.0                0.0   \n2015-01-01 02:00:00+00:00            273.0             0.0                0.0   \n2015-01-01 03:00:00+00:00            273.0             0.0                0.0   \n\n                           weather_description_Madrid  temp_Seville  \\\ntime                                                                  \n2014-12-31 23:00:00+00:00                          31       273.375   \n2015-01-01 00:00:00+00:00                          31       273.375   \n2015-01-01 01:00:00+00:00                          31       274.086   \n2015-01-01 02:00:00+00:00                          31       274.086   \n2015-01-01 03:00:00+00:00                          31       274.086   \n\n                           temp_min_Seville  temp_max_Seville  \\\ntime                                                            \n2014-12-31 23:00:00+00:00           273.375           273.375   \n2015-01-01 00:00:00+00:00           273.375           273.375   \n2015-01-01 01:00:00+00:00           274.086           274.086   \n2015-01-01 02:00:00+00:00           274.086           274.086   \n2015-01-01 03:00:00+00:00           274.086           274.086   \n\n                           pressure_Seville  humidity_Seville  \\\ntime                                                            \n2014-12-31 23:00:00+00:00            1039.0              75.0   \n2015-01-01 00:00:00+00:00            1039.0              75.0   \n2015-01-01 01:00:00+00:00            1039.0              71.0   \n2015-01-01 02:00:00+00:00            1039.0              71.0   \n2015-01-01 03:00:00+00:00            1039.0              71.0   \n\n                           wind_speed_Seville  wind_deg_Seville  \\\ntime                                                              \n2014-12-31 23:00:00+00:00                 1.0              21.0   \n2015-01-01 00:00:00+00:00                 1.0              21.0   \n2015-01-01 01:00:00+00:00                 3.0              27.0   \n2015-01-01 02:00:00+00:00                 3.0              27.0   \n2015-01-01 03:00:00+00:00                 3.0              27.0   \n\n                           rain_1h_Seville  clouds_all_Seville  \\\ntime                                                             \n2014-12-31 23:00:00+00:00              0.0                 0.0   \n2015-01-01 00:00:00+00:00              0.0                 0.0   \n2015-01-01 01:00:00+00:00              0.0                 0.0   \n2015-01-01 02:00:00+00:00              0.0                 0.0   \n2015-01-01 03:00:00+00:00              0.0                 0.0   \n\n                           weather_description_Seville  temp_Valencia  \\\ntime                                                                    \n2014-12-31 23:00:00+00:00                           31        270.475   \n2015-01-01 00:00:00+00:00                           31        270.475   \n2015-01-01 01:00:00+00:00                           31        269.686   \n2015-01-01 02:00:00+00:00                           31        269.686   \n2015-01-01 03:00:00+00:00                           31        269.686   \n\n                           temp_min_Valencia  temp_max_Valencia  \\\ntime                                                              \n2014-12-31 23:00:00+00:00            270.475            270.475   \n2015-01-01 00:00:00+00:00            270.475            270.475   \n2015-01-01 01:00:00+00:00            269.686            269.686   \n2015-01-01 02:00:00+00:00            269.686            269.686   \n2015-01-01 03:00:00+00:00            269.686            269.686   \n\n                           pressure_Valencia  humidity_Valencia  \\\ntime                                                              \n2014-12-31 23:00:00+00:00             1001.0               77.0   \n2015-01-01 00:00:00+00:00             1001.0               77.0   \n2015-01-01 01:00:00+00:00             1002.0               78.0   \n2015-01-01 02:00:00+00:00             1002.0               78.0   \n2015-01-01 03:00:00+00:00             1002.0               78.0   \n\n                           wind_speed_Valencia  wind_deg_Valencia  \\\ntime                                                                \n2014-12-31 23:00:00+00:00                  1.0               62.0   \n2015-01-01 00:00:00+00:00                  1.0               62.0   \n2015-01-01 01:00:00+00:00                  0.0               23.0   \n2015-01-01 02:00:00+00:00                  0.0               23.0   \n2015-01-01 03:00:00+00:00                  0.0               23.0   \n\n                           rain_1h_Valencia  clouds_all_Valencia  \\\ntime                                                               \n2014-12-31 23:00:00+00:00               0.0                  0.0   \n2015-01-01 00:00:00+00:00               0.0                  0.0   \n2015-01-01 01:00:00+00:00               0.0                  0.0   \n2015-01-01 02:00:00+00:00               0.0                  0.0   \n2015-01-01 03:00:00+00:00               0.0                  0.0   \n\n                           weather_description_Valencia  \ntime                                                     \n2014-12-31 23:00:00+00:00                            31  \n2015-01-01 00:00:00+00:00                            31  \n2015-01-01 01:00:00+00:00                            31  \n2015-01-01 02:00:00+00:00                            31  \n2015-01-01 03:00:00+00:00                            31  ",
      "text/html": "<div>\n<style scoped>\n    .dataframe tbody tr th:only-of-type {\n        vertical-align: middle;\n    }\n\n    .dataframe tbody tr th {\n        vertical-align: top;\n    }\n\n    .dataframe thead th {\n        text-align: right;\n    }\n</style>\n<table border=\"1\" class=\"dataframe\">\n  <thead>\n    <tr style=\"text-align: right;\">\n      <th></th>\n      <th>generation biomass</th>\n      <th>generation fossil brown coal/lignite</th>\n      <th>generation fossil gas</th>\n      <th>generation fossil hard coal</th>\n      <th>generation fossil oil</th>\n      <th>generation hydro pumped storage consumption</th>\n      <th>generation hydro run-of-river and poundage</th>\n      <th>generation hydro water reservoir</th>\n      <th>generation nuclear</th>\n      <th>generation other</th>\n      <th>generation other renewable</th>\n      <th>generation solar</th>\n      <th>generation waste</th>\n      <th>generation wind onshore</th>\n      <th>total load actual</th>\n      <th>price actual</th>\n      <th>temp_Barcelona</th>\n      <th>temp_min_Barcelona</th>\n      <th>temp_max_Barcelona</th>\n      <th>pressure_Barcelona</th>\n      <th>humidity_Barcelona</th>\n      <th>wind_speed_Barcelona</th>\n      <th>wind_deg_Barcelona</th>\n      <th>rain_1h_Barcelona</th>\n      <th>clouds_all_Barcelona</th>\n      <th>weather_description_Barcelona</th>\n      <th>temp_Bilbao</th>\n      <th>temp_min_Bilbao</th>\n      <th>temp_max_Bilbao</th>\n      <th>pressure_Bilbao</th>\n      <th>humidity_Bilbao</th>\n      <th>wind_speed_Bilbao</th>\n      <th>wind_deg_Bilbao</th>\n      <th>rain_1h_Bilbao</th>\n      <th>clouds_all_Bilbao</th>\n      <th>weather_description_Bilbao</th>\n      <th>temp_Madrid</th>\n      <th>temp_min_Madrid</th>\n      <th>temp_max_Madrid</th>\n      <th>pressure_Madrid</th>\n      <th>humidity_Madrid</th>\n      <th>wind_speed_Madrid</th>\n      <th>wind_deg_Madrid</th>\n      <th>rain_1h_Madrid</th>\n      <th>clouds_all_Madrid</th>\n      <th>weather_description_Madrid</th>\n      <th>temp_Seville</th>\n      <th>temp_min_Seville</th>\n      <th>temp_max_Seville</th>\n      <th>pressure_Seville</th>\n      <th>humidity_Seville</th>\n      <th>wind_speed_Seville</th>\n      <th>wind_deg_Seville</th>\n      <th>rain_1h_Seville</th>\n      <th>clouds_all_Seville</th>\n      <th>weather_description_Seville</th>\n      <th>temp_Valencia</th>\n      <th>temp_min_Valencia</th>\n      <th>temp_max_Valencia</th>\n      <th>pressure_Valencia</th>\n      <th>humidity_Valencia</th>\n      <th>wind_speed_Valencia</th>\n      <th>wind_deg_Valencia</th>\n      <th>rain_1h_Valencia</th>\n      <th>clouds_all_Valencia</th>\n      <th>weather_description_Valencia</th>\n    </tr>\n    <tr>\n      <th>time</th>\n      <th></th>\n      <th></th>\n      <th></th>\n      <th></th>\n      <th></th>\n      <th></th>\n      <th></th>\n      <th></th>\n      <th></th>\n      <th></th>\n      <th></th>\n      <th></th>\n      <th></th>\n      <th></th>\n      <th></th>\n      <th></th>\n      <th></th>\n      <th></th>\n      <th></th>\n      <th></th>\n      <th></th>\n      <th></th>\n      <th></th>\n      <th></th>\n      <th></th>\n      <th></th>\n      <th></th>\n      <th></th>\n      <th></th>\n      <th></th>\n      <th></th>\n      <th></th>\n      <th></th>\n      <th></th>\n      <th></th>\n      <th></th>\n      <th></th>\n      <th></th>\n      <th></th>\n      <th></th>\n      <th></th>\n      <th></th>\n      <th></th>\n      <th></th>\n      <th></th>\n      <th></th>\n      <th></th>\n      <th></th>\n      <th></th>\n      <th></th>\n      <th></th>\n      <th></th>\n      <th></th>\n      <th></th>\n      <th></th>\n      <th></th>\n      <th></th>\n      <th></th>\n      <th></th>\n      <th></th>\n      <th></th>\n      <th></th>\n      <th></th>\n      <th></th>\n      <th></th>\n      <th></th>\n    </tr>\n  </thead>\n  <tbody>\n    <tr>\n      <th>2014-12-31 23:00:00+00:00</th>\n      <td>447.0</td>\n      <td>329.0</td>\n      <td>4844.0</td>\n      <td>4821.0</td>\n      <td>162.0</td>\n      <td>863.0</td>\n      <td>1051.0</td>\n      <td>1899.0</td>\n      <td>7096.0</td>\n      <td>43.0</td>\n      <td>73.0</td>\n      <td>49.0</td>\n      <td>196.0</td>\n      <td>6378.0</td>\n      <td>25385.0</td>\n      <td>65.41</td>\n      <td>281.625</td>\n      <td>281.625</td>\n      <td>281.625</td>\n      <td>1035.0</td>\n      <td>100.0</td>\n      <td>7.0</td>\n      <td>58.0</td>\n      <td>0.0</td>\n      <td>0.0</td>\n      <td>31</td>\n      <td>269.657312</td>\n      <td>269.657312</td>\n      <td>269.657312</td>\n      <td>1036.0</td>\n      <td>97.0</td>\n      <td>0.0</td>\n      <td>226.0</td>\n      <td>0.0</td>\n      <td>0.0</td>\n      <td>31</td>\n      <td>267.325</td>\n      <td>267.325</td>\n      <td>267.325</td>\n      <td>971.0</td>\n      <td>63.0</td>\n      <td>1.0</td>\n      <td>309.0</td>\n      <td>0.0</td>\n      <td>0.0</td>\n      <td>31</td>\n      <td>273.375</td>\n      <td>273.375</td>\n      <td>273.375</td>\n      <td>1039.0</td>\n      <td>75.0</td>\n      <td>1.0</td>\n      <td>21.0</td>\n      <td>0.0</td>\n      <td>0.0</td>\n      <td>31</td>\n      <td>270.475</td>\n      <td>270.475</td>\n      <td>270.475</td>\n      <td>1001.0</td>\n      <td>77.0</td>\n      <td>1.0</td>\n      <td>62.0</td>\n      <td>0.0</td>\n      <td>0.0</td>\n      <td>31</td>\n    </tr>\n    <tr>\n      <th>2015-01-01 00:00:00+00:00</th>\n      <td>449.0</td>\n      <td>328.0</td>\n      <td>5196.0</td>\n      <td>4755.0</td>\n      <td>158.0</td>\n      <td>920.0</td>\n      <td>1009.0</td>\n      <td>1658.0</td>\n      <td>7096.0</td>\n      <td>43.0</td>\n      <td>71.0</td>\n      <td>50.0</td>\n      <td>195.0</td>\n      <td>5890.0</td>\n      <td>24382.0</td>\n      <td>64.92</td>\n      <td>281.625</td>\n      <td>281.625</td>\n      <td>281.625</td>\n      <td>1035.0</td>\n      <td>100.0</td>\n      <td>7.0</td>\n      <td>58.0</td>\n      <td>0.0</td>\n      <td>0.0</td>\n      <td>31</td>\n      <td>269.763500</td>\n      <td>269.763500</td>\n      <td>269.763500</td>\n      <td>1035.0</td>\n      <td>97.0</td>\n      <td>0.0</td>\n      <td>229.0</td>\n      <td>0.0</td>\n      <td>0.0</td>\n      <td>31</td>\n      <td>267.325</td>\n      <td>267.325</td>\n      <td>267.325</td>\n      <td>971.0</td>\n      <td>63.0</td>\n      <td>1.0</td>\n      <td>309.0</td>\n      <td>0.0</td>\n      <td>0.0</td>\n      <td>31</td>\n      <td>273.375</td>\n      <td>273.375</td>\n      <td>273.375</td>\n      <td>1039.0</td>\n      <td>75.0</td>\n      <td>1.0</td>\n      <td>21.0</td>\n      <td>0.0</td>\n      <td>0.0</td>\n      <td>31</td>\n      <td>270.475</td>\n      <td>270.475</td>\n      <td>270.475</td>\n      <td>1001.0</td>\n      <td>77.0</td>\n      <td>1.0</td>\n      <td>62.0</td>\n      <td>0.0</td>\n      <td>0.0</td>\n      <td>31</td>\n    </tr>\n    <tr>\n      <th>2015-01-01 01:00:00+00:00</th>\n      <td>448.0</td>\n      <td>323.0</td>\n      <td>4857.0</td>\n      <td>4581.0</td>\n      <td>157.0</td>\n      <td>1164.0</td>\n      <td>973.0</td>\n      <td>1371.0</td>\n      <td>7099.0</td>\n      <td>43.0</td>\n      <td>73.0</td>\n      <td>50.0</td>\n      <td>196.0</td>\n      <td>5461.0</td>\n      <td>22734.0</td>\n      <td>64.48</td>\n      <td>281.286</td>\n      <td>281.286</td>\n      <td>281.286</td>\n      <td>1036.0</td>\n      <td>100.0</td>\n      <td>7.0</td>\n      <td>48.0</td>\n      <td>0.0</td>\n      <td>0.0</td>\n      <td>31</td>\n      <td>269.251688</td>\n      <td>269.251688</td>\n      <td>269.251688</td>\n      <td>1036.0</td>\n      <td>97.0</td>\n      <td>1.0</td>\n      <td>224.0</td>\n      <td>0.0</td>\n      <td>0.0</td>\n      <td>31</td>\n      <td>266.186</td>\n      <td>266.186</td>\n      <td>266.186</td>\n      <td>971.0</td>\n      <td>64.0</td>\n      <td>1.0</td>\n      <td>273.0</td>\n      <td>0.0</td>\n      <td>0.0</td>\n      <td>31</td>\n      <td>274.086</td>\n      <td>274.086</td>\n      <td>274.086</td>\n      <td>1039.0</td>\n      <td>71.0</td>\n      <td>3.0</td>\n      <td>27.0</td>\n      <td>0.0</td>\n      <td>0.0</td>\n      <td>31</td>\n      <td>269.686</td>\n      <td>269.686</td>\n      <td>269.686</td>\n      <td>1002.0</td>\n      <td>78.0</td>\n      <td>0.0</td>\n      <td>23.0</td>\n      <td>0.0</td>\n      <td>0.0</td>\n      <td>31</td>\n    </tr>\n    <tr>\n      <th>2015-01-01 02:00:00+00:00</th>\n      <td>438.0</td>\n      <td>254.0</td>\n      <td>4314.0</td>\n      <td>4131.0</td>\n      <td>160.0</td>\n      <td>1503.0</td>\n      <td>949.0</td>\n      <td>779.0</td>\n      <td>7098.0</td>\n      <td>43.0</td>\n      <td>75.0</td>\n      <td>50.0</td>\n      <td>191.0</td>\n      <td>5238.0</td>\n      <td>21286.0</td>\n      <td>59.32</td>\n      <td>281.286</td>\n      <td>281.286</td>\n      <td>281.286</td>\n      <td>1036.0</td>\n      <td>100.0</td>\n      <td>7.0</td>\n      <td>48.0</td>\n      <td>0.0</td>\n      <td>0.0</td>\n      <td>31</td>\n      <td>269.203344</td>\n      <td>269.203344</td>\n      <td>269.203344</td>\n      <td>1035.0</td>\n      <td>97.0</td>\n      <td>1.0</td>\n      <td>225.0</td>\n      <td>0.0</td>\n      <td>0.0</td>\n      <td>31</td>\n      <td>266.186</td>\n      <td>266.186</td>\n      <td>266.186</td>\n      <td>971.0</td>\n      <td>64.0</td>\n      <td>1.0</td>\n      <td>273.0</td>\n      <td>0.0</td>\n      <td>0.0</td>\n      <td>31</td>\n      <td>274.086</td>\n      <td>274.086</td>\n      <td>274.086</td>\n      <td>1039.0</td>\n      <td>71.0</td>\n      <td>3.0</td>\n      <td>27.0</td>\n      <td>0.0</td>\n      <td>0.0</td>\n      <td>31</td>\n      <td>269.686</td>\n      <td>269.686</td>\n      <td>269.686</td>\n      <td>1002.0</td>\n      <td>78.0</td>\n      <td>0.0</td>\n      <td>23.0</td>\n      <td>0.0</td>\n      <td>0.0</td>\n      <td>31</td>\n    </tr>\n    <tr>\n      <th>2015-01-01 03:00:00+00:00</th>\n      <td>428.0</td>\n      <td>187.0</td>\n      <td>4130.0</td>\n      <td>3840.0</td>\n      <td>156.0</td>\n      <td>1826.0</td>\n      <td>953.0</td>\n      <td>720.0</td>\n      <td>7097.0</td>\n      <td>43.0</td>\n      <td>74.0</td>\n      <td>42.0</td>\n      <td>189.0</td>\n      <td>4935.0</td>\n      <td>20264.0</td>\n      <td>56.04</td>\n      <td>281.286</td>\n      <td>281.286</td>\n      <td>281.286</td>\n      <td>1036.0</td>\n      <td>100.0</td>\n      <td>7.0</td>\n      <td>48.0</td>\n      <td>0.0</td>\n      <td>0.0</td>\n      <td>31</td>\n      <td>269.485500</td>\n      <td>269.485500</td>\n      <td>269.485500</td>\n      <td>1035.0</td>\n      <td>97.0</td>\n      <td>1.0</td>\n      <td>221.0</td>\n      <td>0.0</td>\n      <td>0.0</td>\n      <td>31</td>\n      <td>266.186</td>\n      <td>266.186</td>\n      <td>266.186</td>\n      <td>971.0</td>\n      <td>64.0</td>\n      <td>1.0</td>\n      <td>273.0</td>\n      <td>0.0</td>\n      <td>0.0</td>\n      <td>31</td>\n      <td>274.086</td>\n      <td>274.086</td>\n      <td>274.086</td>\n      <td>1039.0</td>\n      <td>71.0</td>\n      <td>3.0</td>\n      <td>27.0</td>\n      <td>0.0</td>\n      <td>0.0</td>\n      <td>31</td>\n      <td>269.686</td>\n      <td>269.686</td>\n      <td>269.686</td>\n      <td>1002.0</td>\n      <td>78.0</td>\n      <td>0.0</td>\n      <td>23.0</td>\n      <td>0.0</td>\n      <td>0.0</td>\n      <td>31</td>\n    </tr>\n  </tbody>\n</table>\n</div>"
     },
     "execution_count": 40,
     "metadata": {},
     "output_type": "execute_result"
    }
   ],
   "source": [
    "dataset.head()"
   ],
   "metadata": {
    "collapsed": false,
    "pycharm": {
     "name": "#%%\n"
    }
   }
  },
  {
   "cell_type": "code",
   "execution_count": 96,
   "outputs": [],
   "source": [
    "X = dataset[dataset.columns.drop('price actual')]\n",
    "y = dataset['price actual']"
   ],
   "metadata": {
    "collapsed": false,
    "pycharm": {
     "name": "#%%\n"
    }
   }
  },
  {
   "cell_type": "code",
   "execution_count": 97,
   "outputs": [
    {
     "name": "stdout",
     "output_type": "stream",
     "text": [
      "(35064, 65) (35064, 1)\n"
     ]
    }
   ],
   "source": [
    "from sklearn.preprocessing import MinMaxScaler\n",
    "# Normalizando os dados\n",
    "scaler_X = MinMaxScaler(feature_range=(0, 1))\n",
    "scaler_y = MinMaxScaler(feature_range=(0, 1))\n",
    "\n",
    "dataset_X = scaler_X.fit_transform(X.values) # Transformando os dados em um array de vetores\n",
    "dataset_y = scaler_y.fit_transform(y.values.reshape(-1, 1)) # Transformando os dados em um array de vetores\n",
    "print(dataset_X.shape, dataset_y.shape)\n",
    "\n",
    "# Transformando em dataframe novamente\n",
    "dataset_X = pd.DataFrame(dataset_X, index=X.index, columns=X.columns)\n",
    "dataset_y = pd.DataFrame(dataset_y, index=y.index)"
   ],
   "metadata": {
    "collapsed": false,
    "pycharm": {
     "name": "#%%\n"
    }
   }
  },
  {
   "cell_type": "code",
   "execution_count": 98,
   "outputs": [],
   "source": [
    "# Separando os dados em treino e teste\n",
    "train_size = int(len(dataset) * 0.7)\n",
    "\n",
    "X_treino, X_teste = dataset_X[:train_size].copy(), dataset_X[train_size:].copy()\n",
    "y_treino, y_teste = dataset_y[:train_size].copy(), dataset_y[train_size:].copy()\n",
    "\n",
    "X_treino = X_treino.reset_index(drop=True)\n",
    "X_teste = X_teste.reset_index(drop=True) # Como depois iremos usar o comando .loc, precisaremos que os indices estejam iniciando em i\n",
    "y_treino = y_treino.reset_index(drop=True)\n",
    "y_teste = y_teste.reset_index(drop=True)"
   ],
   "metadata": {
    "collapsed": false,
    "pycharm": {
     "name": "#%%\n"
    }
   }
  },
  {
   "cell_type": "code",
   "execution_count": 44,
   "outputs": [],
   "source": [
    "# Criando uma função para as janelas temporais. A saída será dois arrays, o primeiro contendo várias janelas do dataset,\n",
    "# o segundo contendo valores a serem previstos\n",
    "def create_dataset(dataset, target, look_back=1):\n",
    "    dataX, dataY = [], []\n",
    "    for i in range(len(dataset)-look_back): # Lembrando que os datasets têm índices iniciando em 0\n",
    "        dataX.append(dataset[i:(i+look_back)].to_numpy())\n",
    "        dataY.append(target.loc[i + look_back].values)\n",
    "    return np.asarray(dataX, dtype=np.float), np.asarray(dataY, dtype=np.float)"
   ],
   "metadata": {
    "collapsed": false,
    "pycharm": {
     "name": "#%%\n"
    }
   }
  },
  {
   "cell_type": "code",
   "execution_count": 99,
   "outputs": [],
   "source": [
    "# Aplicando a função nos datasets de treino e teste\n",
    "look_back = 10\n",
    "\n",
    "X_treino, y_treino = create_dataset(X_treino, y_treino, look_back=look_back)\n",
    "X_teste, y_teste = create_dataset(X_teste, y_teste, look_back=look_back)"
   ],
   "metadata": {
    "collapsed": false,
    "pycharm": {
     "name": "#%%\n"
    }
   }
  },
  {
   "cell_type": "code",
   "execution_count": 100,
   "outputs": [
    {
     "data": {
      "text/plain": "((24534, 10, 65), (24534, 1))"
     },
     "execution_count": 100,
     "metadata": {},
     "output_type": "execute_result"
    }
   ],
   "source": [
    "X_treino.shape, y_treino.shape"
   ],
   "metadata": {
    "collapsed": false,
    "pycharm": {
     "name": "#%%\n"
    }
   }
  },
  {
   "cell_type": "code",
   "execution_count": 101,
   "outputs": [
    {
     "data": {
      "text/plain": "((10510, 10, 65), (10510, 1))"
     },
     "execution_count": 101,
     "metadata": {},
     "output_type": "execute_result"
    }
   ],
   "source": [
    "X_teste.shape, y_teste.shape"
   ],
   "metadata": {
    "collapsed": false,
    "pycharm": {
     "name": "#%%\n"
    }
   }
  },
  {
   "cell_type": "code",
   "execution_count": 102,
   "outputs": [],
   "source": [
    "# Utilizando LSTM\n",
    "from keras.layers import LSTM"
   ],
   "metadata": {
    "collapsed": false,
    "pycharm": {
     "name": "#%%\n"
    }
   }
  },
  {
   "cell_type": "code",
   "execution_count": 49,
   "outputs": [],
   "source": [
    "# Criando o modelo sem return_sequences\n",
    "model = Sequential()\n",
    "model.add(LSTM(20, input_shape=(X_treino.shape[1], X_treino.shape[2])))\n",
    "\n",
    "# Em input_shape precisamos informar apenas 2 valores: n_timesteps e n_features da variável X (entrada)\n",
    "\n",
    "model.add(Dense(1)) # Saída da LSTM\n",
    "model.compile(loss='mean_squared_error', optimizer='adam')"
   ],
   "metadata": {
    "collapsed": false,
    "pycharm": {
     "name": "#%%\n"
    }
   }
  },
  {
   "cell_type": "code",
   "execution_count": 50,
   "outputs": [
    {
     "name": "stdout",
     "output_type": "stream",
     "text": [
      "Epoch 1/200\n",
      "50/50 - 1s - loss: 0.1032 - 1s/epoch - 28ms/step\n",
      "Epoch 2/200\n",
      "50/50 - 0s - loss: 0.0145 - 262ms/epoch - 5ms/step\n",
      "Epoch 3/200\n",
      "50/50 - 0s - loss: 0.0130 - 228ms/epoch - 5ms/step\n",
      "Epoch 4/200\n",
      "50/50 - 0s - loss: 0.0121 - 234ms/epoch - 5ms/step\n",
      "Epoch 5/200\n",
      "50/50 - 0s - loss: 0.0115 - 233ms/epoch - 5ms/step\n",
      "Epoch 6/200\n",
      "50/50 - 0s - loss: 0.0110 - 233ms/epoch - 5ms/step\n",
      "Epoch 7/200\n",
      "50/50 - 0s - loss: 0.0107 - 247ms/epoch - 5ms/step\n",
      "Epoch 8/200\n",
      "50/50 - 0s - loss: 0.0104 - 238ms/epoch - 5ms/step\n",
      "Epoch 9/200\n",
      "50/50 - 0s - loss: 0.0101 - 240ms/epoch - 5ms/step\n",
      "Epoch 10/200\n",
      "50/50 - 0s - loss: 0.0098 - 242ms/epoch - 5ms/step\n",
      "Epoch 11/200\n",
      "50/50 - 0s - loss: 0.0096 - 250ms/epoch - 5ms/step\n",
      "Epoch 12/200\n",
      "50/50 - 0s - loss: 0.0094 - 237ms/epoch - 5ms/step\n",
      "Epoch 13/200\n",
      "50/50 - 0s - loss: 0.0092 - 240ms/epoch - 5ms/step\n",
      "Epoch 14/200\n",
      "50/50 - 0s - loss: 0.0090 - 250ms/epoch - 5ms/step\n",
      "Epoch 15/200\n",
      "50/50 - 0s - loss: 0.0088 - 271ms/epoch - 5ms/step\n",
      "Epoch 16/200\n",
      "50/50 - 0s - loss: 0.0086 - 246ms/epoch - 5ms/step\n",
      "Epoch 17/200\n",
      "50/50 - 0s - loss: 0.0085 - 244ms/epoch - 5ms/step\n",
      "Epoch 18/200\n",
      "50/50 - 0s - loss: 0.0083 - 249ms/epoch - 5ms/step\n",
      "Epoch 19/200\n",
      "50/50 - 0s - loss: 0.0081 - 254ms/epoch - 5ms/step\n",
      "Epoch 20/200\n",
      "50/50 - 0s - loss: 0.0080 - 272ms/epoch - 5ms/step\n",
      "Epoch 21/200\n",
      "50/50 - 0s - loss: 0.0078 - 256ms/epoch - 5ms/step\n",
      "Epoch 22/200\n",
      "50/50 - 0s - loss: 0.0077 - 242ms/epoch - 5ms/step\n",
      "Epoch 23/200\n",
      "50/50 - 0s - loss: 0.0076 - 244ms/epoch - 5ms/step\n",
      "Epoch 24/200\n",
      "50/50 - 0s - loss: 0.0075 - 234ms/epoch - 5ms/step\n",
      "Epoch 25/200\n",
      "50/50 - 0s - loss: 0.0073 - 235ms/epoch - 5ms/step\n",
      "Epoch 26/200\n",
      "50/50 - 0s - loss: 0.0072 - 232ms/epoch - 5ms/step\n",
      "Epoch 27/200\n",
      "50/50 - 0s - loss: 0.0071 - 239ms/epoch - 5ms/step\n",
      "Epoch 28/200\n",
      "50/50 - 0s - loss: 0.0070 - 232ms/epoch - 5ms/step\n",
      "Epoch 29/200\n",
      "50/50 - 0s - loss: 0.0068 - 233ms/epoch - 5ms/step\n",
      "Epoch 30/200\n",
      "50/50 - 0s - loss: 0.0067 - 233ms/epoch - 5ms/step\n",
      "Epoch 31/200\n",
      "50/50 - 0s - loss: 0.0066 - 239ms/epoch - 5ms/step\n",
      "Epoch 32/200\n",
      "50/50 - 0s - loss: 0.0066 - 234ms/epoch - 5ms/step\n",
      "Epoch 33/200\n",
      "50/50 - 0s - loss: 0.0065 - 233ms/epoch - 5ms/step\n",
      "Epoch 34/200\n",
      "50/50 - 0s - loss: 0.0063 - 233ms/epoch - 5ms/step\n",
      "Epoch 35/200\n",
      "50/50 - 0s - loss: 0.0063 - 236ms/epoch - 5ms/step\n",
      "Epoch 36/200\n",
      "50/50 - 0s - loss: 0.0062 - 237ms/epoch - 5ms/step\n",
      "Epoch 37/200\n",
      "50/50 - 0s - loss: 0.0061 - 234ms/epoch - 5ms/step\n",
      "Epoch 38/200\n",
      "50/50 - 0s - loss: 0.0060 - 239ms/epoch - 5ms/step\n",
      "Epoch 39/200\n",
      "50/50 - 0s - loss: 0.0059 - 240ms/epoch - 5ms/step\n",
      "Epoch 40/200\n",
      "50/50 - 0s - loss: 0.0058 - 246ms/epoch - 5ms/step\n",
      "Epoch 41/200\n",
      "50/50 - 0s - loss: 0.0057 - 241ms/epoch - 5ms/step\n",
      "Epoch 42/200\n",
      "50/50 - 0s - loss: 0.0056 - 242ms/epoch - 5ms/step\n",
      "Epoch 43/200\n",
      "50/50 - 0s - loss: 0.0055 - 248ms/epoch - 5ms/step\n",
      "Epoch 44/200\n",
      "50/50 - 0s - loss: 0.0054 - 249ms/epoch - 5ms/step\n",
      "Epoch 45/200\n",
      "50/50 - 0s - loss: 0.0053 - 240ms/epoch - 5ms/step\n",
      "Epoch 46/200\n",
      "50/50 - 0s - loss: 0.0052 - 242ms/epoch - 5ms/step\n",
      "Epoch 47/200\n",
      "50/50 - 0s - loss: 0.0052 - 241ms/epoch - 5ms/step\n",
      "Epoch 48/200\n",
      "50/50 - 0s - loss: 0.0053 - 244ms/epoch - 5ms/step\n",
      "Epoch 49/200\n",
      "50/50 - 0s - loss: 0.0050 - 242ms/epoch - 5ms/step\n",
      "Epoch 50/200\n",
      "50/50 - 0s - loss: 0.0050 - 240ms/epoch - 5ms/step\n",
      "Epoch 51/200\n",
      "50/50 - 0s - loss: 0.0050 - 241ms/epoch - 5ms/step\n",
      "Epoch 52/200\n",
      "50/50 - 0s - loss: 0.0049 - 242ms/epoch - 5ms/step\n",
      "Epoch 53/200\n",
      "50/50 - 0s - loss: 0.0048 - 239ms/epoch - 5ms/step\n",
      "Epoch 54/200\n",
      "50/50 - 0s - loss: 0.0048 - 241ms/epoch - 5ms/step\n",
      "Epoch 55/200\n",
      "50/50 - 0s - loss: 0.0047 - 241ms/epoch - 5ms/step\n",
      "Epoch 56/200\n",
      "50/50 - 0s - loss: 0.0046 - 248ms/epoch - 5ms/step\n",
      "Epoch 57/200\n",
      "50/50 - 0s - loss: 0.0046 - 243ms/epoch - 5ms/step\n",
      "Epoch 58/200\n",
      "50/50 - 0s - loss: 0.0046 - 245ms/epoch - 5ms/step\n",
      "Epoch 59/200\n",
      "50/50 - 0s - loss: 0.0046 - 249ms/epoch - 5ms/step\n",
      "Epoch 60/200\n",
      "50/50 - 0s - loss: 0.0045 - 253ms/epoch - 5ms/step\n",
      "Epoch 61/200\n",
      "50/50 - 0s - loss: 0.0044 - 249ms/epoch - 5ms/step\n",
      "Epoch 62/200\n",
      "50/50 - 0s - loss: 0.0044 - 251ms/epoch - 5ms/step\n",
      "Epoch 63/200\n",
      "50/50 - 0s - loss: 0.0043 - 251ms/epoch - 5ms/step\n",
      "Epoch 64/200\n",
      "50/50 - 0s - loss: 0.0043 - 252ms/epoch - 5ms/step\n",
      "Epoch 65/200\n",
      "50/50 - 0s - loss: 0.0044 - 245ms/epoch - 5ms/step\n",
      "Epoch 66/200\n",
      "50/50 - 0s - loss: 0.0045 - 247ms/epoch - 5ms/step\n",
      "Epoch 67/200\n",
      "50/50 - 0s - loss: 0.0042 - 250ms/epoch - 5ms/step\n",
      "Epoch 68/200\n",
      "50/50 - 0s - loss: 0.0043 - 250ms/epoch - 5ms/step\n",
      "Epoch 69/200\n",
      "50/50 - 0s - loss: 0.0042 - 248ms/epoch - 5ms/step\n",
      "Epoch 70/200\n",
      "50/50 - 0s - loss: 0.0041 - 247ms/epoch - 5ms/step\n",
      "Epoch 71/200\n",
      "50/50 - 0s - loss: 0.0041 - 249ms/epoch - 5ms/step\n",
      "Epoch 72/200\n",
      "50/50 - 0s - loss: 0.0040 - 252ms/epoch - 5ms/step\n",
      "Epoch 73/200\n",
      "50/50 - 0s - loss: 0.0041 - 248ms/epoch - 5ms/step\n",
      "Epoch 74/200\n",
      "50/50 - 0s - loss: 0.0041 - 245ms/epoch - 5ms/step\n",
      "Epoch 75/200\n",
      "50/50 - 0s - loss: 0.0040 - 246ms/epoch - 5ms/step\n",
      "Epoch 76/200\n",
      "50/50 - 0s - loss: 0.0040 - 251ms/epoch - 5ms/step\n",
      "Epoch 77/200\n",
      "50/50 - 0s - loss: 0.0039 - 248ms/epoch - 5ms/step\n",
      "Epoch 78/200\n",
      "50/50 - 0s - loss: 0.0038 - 250ms/epoch - 5ms/step\n",
      "Epoch 79/200\n",
      "50/50 - 0s - loss: 0.0038 - 255ms/epoch - 5ms/step\n",
      "Epoch 80/200\n",
      "50/50 - 0s - loss: 0.0041 - 257ms/epoch - 5ms/step\n",
      "Epoch 81/200\n",
      "50/50 - 0s - loss: 0.0038 - 255ms/epoch - 5ms/step\n",
      "Epoch 82/200\n",
      "50/50 - 0s - loss: 0.0038 - 291ms/epoch - 6ms/step\n",
      "Epoch 83/200\n",
      "50/50 - 0s - loss: 0.0037 - 277ms/epoch - 6ms/step\n",
      "Epoch 84/200\n",
      "50/50 - 0s - loss: 0.0040 - 272ms/epoch - 5ms/step\n",
      "Epoch 85/200\n",
      "50/50 - 0s - loss: 0.0038 - 258ms/epoch - 5ms/step\n",
      "Epoch 86/200\n",
      "50/50 - 0s - loss: 0.0037 - 264ms/epoch - 5ms/step\n",
      "Epoch 87/200\n",
      "50/50 - 0s - loss: 0.0039 - 261ms/epoch - 5ms/step\n",
      "Epoch 88/200\n",
      "50/50 - 0s - loss: 0.0036 - 263ms/epoch - 5ms/step\n",
      "Epoch 89/200\n",
      "50/50 - 0s - loss: 0.0036 - 250ms/epoch - 5ms/step\n",
      "Epoch 90/200\n",
      "50/50 - 0s - loss: 0.0036 - 251ms/epoch - 5ms/step\n",
      "Epoch 91/200\n",
      "50/50 - 0s - loss: 0.0035 - 245ms/epoch - 5ms/step\n",
      "Epoch 92/200\n",
      "50/50 - 0s - loss: 0.0036 - 254ms/epoch - 5ms/step\n",
      "Epoch 93/200\n",
      "50/50 - 0s - loss: 0.0037 - 274ms/epoch - 5ms/step\n",
      "Epoch 94/200\n",
      "50/50 - 0s - loss: 0.0035 - 250ms/epoch - 5ms/step\n",
      "Epoch 95/200\n",
      "50/50 - 0s - loss: 0.0035 - 245ms/epoch - 5ms/step\n",
      "Epoch 96/200\n",
      "50/50 - 0s - loss: 0.0035 - 259ms/epoch - 5ms/step\n",
      "Epoch 97/200\n",
      "50/50 - 0s - loss: 0.0034 - 274ms/epoch - 5ms/step\n",
      "Epoch 98/200\n",
      "50/50 - 0s - loss: 0.0034 - 255ms/epoch - 5ms/step\n",
      "Epoch 99/200\n",
      "50/50 - 0s - loss: 0.0034 - 257ms/epoch - 5ms/step\n",
      "Epoch 100/200\n",
      "50/50 - 0s - loss: 0.0033 - 255ms/epoch - 5ms/step\n",
      "Epoch 101/200\n",
      "50/50 - 0s - loss: 0.0034 - 265ms/epoch - 5ms/step\n",
      "Epoch 102/200\n",
      "50/50 - 0s - loss: 0.0033 - 264ms/epoch - 5ms/step\n",
      "Epoch 103/200\n",
      "50/50 - 0s - loss: 0.0033 - 256ms/epoch - 5ms/step\n",
      "Epoch 104/200\n",
      "50/50 - 0s - loss: 0.0033 - 250ms/epoch - 5ms/step\n",
      "Epoch 105/200\n",
      "50/50 - 0s - loss: 0.0034 - 258ms/epoch - 5ms/step\n",
      "Epoch 106/200\n",
      "50/50 - 0s - loss: 0.0035 - 250ms/epoch - 5ms/step\n",
      "Epoch 107/200\n",
      "50/50 - 0s - loss: 0.0032 - 252ms/epoch - 5ms/step\n",
      "Epoch 108/200\n",
      "50/50 - 0s - loss: 0.0032 - 248ms/epoch - 5ms/step\n",
      "Epoch 109/200\n",
      "50/50 - 0s - loss: 0.0032 - 243ms/epoch - 5ms/step\n",
      "Epoch 110/200\n",
      "50/50 - 0s - loss: 0.0032 - 244ms/epoch - 5ms/step\n",
      "Epoch 111/200\n",
      "50/50 - 0s - loss: 0.0032 - 247ms/epoch - 5ms/step\n",
      "Epoch 112/200\n",
      "50/50 - 0s - loss: 0.0032 - 245ms/epoch - 5ms/step\n",
      "Epoch 113/200\n",
      "50/50 - 0s - loss: 0.0033 - 245ms/epoch - 5ms/step\n",
      "Epoch 114/200\n",
      "50/50 - 0s - loss: 0.0031 - 248ms/epoch - 5ms/step\n",
      "Epoch 115/200\n",
      "50/50 - 0s - loss: 0.0032 - 256ms/epoch - 5ms/step\n",
      "Epoch 116/200\n",
      "50/50 - 0s - loss: 0.0032 - 250ms/epoch - 5ms/step\n",
      "Epoch 117/200\n",
      "50/50 - 0s - loss: 0.0031 - 256ms/epoch - 5ms/step\n",
      "Epoch 118/200\n",
      "50/50 - 0s - loss: 0.0032 - 258ms/epoch - 5ms/step\n",
      "Epoch 119/200\n",
      "50/50 - 0s - loss: 0.0030 - 264ms/epoch - 5ms/step\n",
      "Epoch 120/200\n",
      "50/50 - 0s - loss: 0.0030 - 261ms/epoch - 5ms/step\n",
      "Epoch 121/200\n",
      "50/50 - 0s - loss: 0.0031 - 269ms/epoch - 5ms/step\n",
      "Epoch 122/200\n",
      "50/50 - 0s - loss: 0.0030 - 270ms/epoch - 5ms/step\n",
      "Epoch 123/200\n",
      "50/50 - 0s - loss: 0.0030 - 281ms/epoch - 6ms/step\n",
      "Epoch 124/200\n",
      "50/50 - 0s - loss: 0.0030 - 265ms/epoch - 5ms/step\n",
      "Epoch 125/200\n",
      "50/50 - 0s - loss: 0.0030 - 251ms/epoch - 5ms/step\n",
      "Epoch 126/200\n",
      "50/50 - 0s - loss: 0.0030 - 280ms/epoch - 6ms/step\n",
      "Epoch 127/200\n",
      "50/50 - 0s - loss: 0.0029 - 250ms/epoch - 5ms/step\n",
      "Epoch 128/200\n",
      "50/50 - 0s - loss: 0.0031 - 246ms/epoch - 5ms/step\n",
      "Epoch 129/200\n",
      "50/50 - 0s - loss: 0.0029 - 259ms/epoch - 5ms/step\n",
      "Epoch 130/200\n",
      "50/50 - 0s - loss: 0.0029 - 273ms/epoch - 5ms/step\n",
      "Epoch 131/200\n",
      "50/50 - 0s - loss: 0.0029 - 260ms/epoch - 5ms/step\n",
      "Epoch 132/200\n",
      "50/50 - 0s - loss: 0.0029 - 257ms/epoch - 5ms/step\n",
      "Epoch 133/200\n",
      "50/50 - 0s - loss: 0.0028 - 259ms/epoch - 5ms/step\n",
      "Epoch 134/200\n",
      "50/50 - 0s - loss: 0.0028 - 264ms/epoch - 5ms/step\n",
      "Epoch 135/200\n",
      "50/50 - 0s - loss: 0.0028 - 256ms/epoch - 5ms/step\n",
      "Epoch 136/200\n",
      "50/50 - 0s - loss: 0.0028 - 267ms/epoch - 5ms/step\n",
      "Epoch 137/200\n",
      "50/50 - 0s - loss: 0.0028 - 265ms/epoch - 5ms/step\n",
      "Epoch 138/200\n",
      "50/50 - 0s - loss: 0.0027 - 260ms/epoch - 5ms/step\n",
      "Epoch 139/200\n",
      "50/50 - 0s - loss: 0.0029 - 300ms/epoch - 6ms/step\n",
      "Epoch 140/200\n",
      "50/50 - 0s - loss: 0.0027 - 257ms/epoch - 5ms/step\n",
      "Epoch 141/200\n",
      "50/50 - 0s - loss: 0.0028 - 269ms/epoch - 5ms/step\n",
      "Epoch 142/200\n",
      "50/50 - 0s - loss: 0.0028 - 300ms/epoch - 6ms/step\n",
      "Epoch 143/200\n",
      "50/50 - 0s - loss: 0.0027 - 262ms/epoch - 5ms/step\n",
      "Epoch 144/200\n",
      "50/50 - 0s - loss: 0.0028 - 288ms/epoch - 6ms/step\n",
      "Epoch 145/200\n",
      "50/50 - 0s - loss: 0.0026 - 272ms/epoch - 5ms/step\n",
      "Epoch 146/200\n",
      "50/50 - 0s - loss: 0.0027 - 273ms/epoch - 5ms/step\n",
      "Epoch 147/200\n",
      "50/50 - 0s - loss: 0.0026 - 329ms/epoch - 7ms/step\n",
      "Epoch 148/200\n",
      "50/50 - 0s - loss: 0.0027 - 317ms/epoch - 6ms/step\n",
      "Epoch 149/200\n",
      "50/50 - 0s - loss: 0.0026 - 303ms/epoch - 6ms/step\n",
      "Epoch 150/200\n",
      "50/50 - 0s - loss: 0.0027 - 273ms/epoch - 5ms/step\n",
      "Epoch 151/200\n",
      "50/50 - 0s - loss: 0.0026 - 286ms/epoch - 6ms/step\n",
      "Epoch 152/200\n",
      "50/50 - 0s - loss: 0.0027 - 316ms/epoch - 6ms/step\n",
      "Epoch 153/200\n",
      "50/50 - 0s - loss: 0.0026 - 284ms/epoch - 6ms/step\n",
      "Epoch 154/200\n",
      "50/50 - 0s - loss: 0.0026 - 270ms/epoch - 5ms/step\n",
      "Epoch 155/200\n",
      "50/50 - 0s - loss: 0.0025 - 269ms/epoch - 5ms/step\n",
      "Epoch 156/200\n",
      "50/50 - 0s - loss: 0.0026 - 276ms/epoch - 6ms/step\n",
      "Epoch 157/200\n",
      "50/50 - 0s - loss: 0.0026 - 293ms/epoch - 6ms/step\n",
      "Epoch 158/200\n",
      "50/50 - 0s - loss: 0.0025 - 275ms/epoch - 6ms/step\n",
      "Epoch 159/200\n",
      "50/50 - 0s - loss: 0.0025 - 291ms/epoch - 6ms/step\n",
      "Epoch 160/200\n",
      "50/50 - 0s - loss: 0.0026 - 294ms/epoch - 6ms/step\n",
      "Epoch 161/200\n",
      "50/50 - 0s - loss: 0.0026 - 339ms/epoch - 7ms/step\n",
      "Epoch 162/200\n",
      "50/50 - 0s - loss: 0.0025 - 328ms/epoch - 7ms/step\n",
      "Epoch 163/200\n",
      "50/50 - 0s - loss: 0.0025 - 274ms/epoch - 5ms/step\n",
      "Epoch 164/200\n",
      "50/50 - 0s - loss: 0.0025 - 272ms/epoch - 5ms/step\n",
      "Epoch 165/200\n",
      "50/50 - 0s - loss: 0.0025 - 291ms/epoch - 6ms/step\n",
      "Epoch 166/200\n",
      "50/50 - 0s - loss: 0.0025 - 288ms/epoch - 6ms/step\n",
      "Epoch 167/200\n",
      "50/50 - 0s - loss: 0.0025 - 267ms/epoch - 5ms/step\n",
      "Epoch 168/200\n",
      "50/50 - 0s - loss: 0.0025 - 267ms/epoch - 5ms/step\n",
      "Epoch 169/200\n",
      "50/50 - 0s - loss: 0.0025 - 283ms/epoch - 6ms/step\n",
      "Epoch 170/200\n",
      "50/50 - 0s - loss: 0.0024 - 266ms/epoch - 5ms/step\n",
      "Epoch 171/200\n",
      "50/50 - 0s - loss: 0.0024 - 286ms/epoch - 6ms/step\n",
      "Epoch 172/200\n",
      "50/50 - 0s - loss: 0.0024 - 290ms/epoch - 6ms/step\n",
      "Epoch 173/200\n",
      "50/50 - 0s - loss: 0.0024 - 277ms/epoch - 6ms/step\n",
      "Epoch 174/200\n",
      "50/50 - 0s - loss: 0.0024 - 276ms/epoch - 6ms/step\n",
      "Epoch 175/200\n",
      "50/50 - 0s - loss: 0.0024 - 274ms/epoch - 5ms/step\n",
      "Epoch 176/200\n",
      "50/50 - 0s - loss: 0.0024 - 276ms/epoch - 6ms/step\n",
      "Epoch 177/200\n",
      "50/50 - 0s - loss: 0.0024 - 296ms/epoch - 6ms/step\n",
      "Epoch 178/200\n",
      "50/50 - 0s - loss: 0.0024 - 268ms/epoch - 5ms/step\n",
      "Epoch 179/200\n",
      "50/50 - 0s - loss: 0.0025 - 286ms/epoch - 6ms/step\n",
      "Epoch 180/200\n",
      "50/50 - 0s - loss: 0.0025 - 271ms/epoch - 5ms/step\n",
      "Epoch 181/200\n",
      "50/50 - 0s - loss: 0.0023 - 267ms/epoch - 5ms/step\n",
      "Epoch 182/200\n",
      "50/50 - 0s - loss: 0.0023 - 268ms/epoch - 5ms/step\n",
      "Epoch 183/200\n",
      "50/50 - 0s - loss: 0.0023 - 266ms/epoch - 5ms/step\n",
      "Epoch 184/200\n",
      "50/50 - 0s - loss: 0.0023 - 281ms/epoch - 6ms/step\n",
      "Epoch 185/200\n",
      "50/50 - 0s - loss: 0.0024 - 272ms/epoch - 5ms/step\n",
      "Epoch 186/200\n",
      "50/50 - 0s - loss: 0.0024 - 258ms/epoch - 5ms/step\n",
      "Epoch 187/200\n",
      "50/50 - 0s - loss: 0.0023 - 279ms/epoch - 6ms/step\n",
      "Epoch 188/200\n",
      "50/50 - 0s - loss: 0.0023 - 285ms/epoch - 6ms/step\n",
      "Epoch 189/200\n",
      "50/50 - 0s - loss: 0.0023 - 275ms/epoch - 5ms/step\n",
      "Epoch 190/200\n",
      "50/50 - 0s - loss: 0.0024 - 262ms/epoch - 5ms/step\n",
      "Epoch 191/200\n",
      "50/50 - 0s - loss: 0.0022 - 258ms/epoch - 5ms/step\n",
      "Epoch 192/200\n",
      "50/50 - 0s - loss: 0.0022 - 266ms/epoch - 5ms/step\n",
      "Epoch 193/200\n",
      "50/50 - 0s - loss: 0.0022 - 260ms/epoch - 5ms/step\n",
      "Epoch 194/200\n",
      "50/50 - 0s - loss: 0.0023 - 254ms/epoch - 5ms/step\n",
      "Epoch 195/200\n",
      "50/50 - 0s - loss: 0.0022 - 254ms/epoch - 5ms/step\n",
      "Epoch 196/200\n",
      "50/50 - 0s - loss: 0.0022 - 248ms/epoch - 5ms/step\n",
      "Epoch 197/200\n",
      "50/50 - 0s - loss: 0.0022 - 245ms/epoch - 5ms/step\n",
      "Epoch 198/200\n",
      "50/50 - 0s - loss: 0.0022 - 246ms/epoch - 5ms/step\n",
      "Epoch 199/200\n",
      "50/50 - 0s - loss: 0.0022 - 247ms/epoch - 5ms/step\n",
      "Epoch 200/200\n",
      "50/50 - 0s - loss: 0.0022 - 247ms/epoch - 5ms/step\n"
     ]
    },
    {
     "data": {
      "text/plain": "<keras.callbacks.History at 0x1ecb1448d00>"
     },
     "execution_count": 50,
     "metadata": {},
     "output_type": "execute_result"
    }
   ],
   "source": [
    "# Treinando o modelo\n",
    "model.fit(X_treino, y_treino, epochs=200, batch_size=500, verbose=2)"
   ],
   "metadata": {
    "collapsed": false,
    "pycharm": {
     "name": "#%%\n"
    }
   }
  },
  {
   "cell_type": "code",
   "execution_count": 51,
   "outputs": [
    {
     "name": "stdout",
     "output_type": "stream",
     "text": [
      "RMSE treino: 5.13\n",
      "RMSE teste: 13.71\n"
     ]
    }
   ],
   "source": [
    "# Fazendo as previsões e avaliando a performance\n",
    "previsoes_treino = model.predict(X_treino)\n",
    "previsoes_teste = model.predict(X_teste)\n",
    "# A previsão tem como resultado um array de dimensões (n_amostra, 1), então se tentarmos executar o inverso da normalização\n",
    "# diretamente com esses dados, teremos uma mensagem de erro, afinal a normalização foi aplicada em um dataset de dimensões:\n",
    "# (n_amostra, n_features), ou seja, a função scaler.inverse_transform não saberá o que fazer para gerar o inverso das outras XX colunas.\n",
    "# Portando iremos primeiro gerar uma matriz com a mesma quantidade de colunas de X_treino (preenchida com zeros), depois iremos\n",
    "# colocar a array de previsões em uma coluna dessa matriz (no lugar onde estava o price_actual), então poderemos aplicar a função\n",
    "# scaler.inverse_transform e depois coletar somente a coluna que nos interessa.\n",
    "# Obs: para descobrir qual o índice da coluna que possui a feature \"price actual\", basta utilizar o código:\n",
    "# treino.columns.get_loc('price actual')\n",
    "\n",
    "target_column_index = dataset.columns.get_loc('price actual')\n",
    "\n",
    "# Previsões com os dados de treino:\n",
    "# previsoes_treino_dataset_size = np.zeros(shape=(len(previsoes_treino), X_treino.shape[2]))\n",
    "# previsoes_treino_dataset_size[:,target_column_index] = previsoes_treino[:,0]\n",
    "previsoes_treino = scaler_y.inverse_transform(previsoes_treino)\n",
    "\n",
    "# Previsões com os dados de teste:\n",
    "# previsoes_teste_dataset_size = np.zeros(shape=(len(previsoes_teste), X_teste.shape[2]))\n",
    "# previsoes_teste_dataset_size[:,target_column_index] = previsoes_teste[:,0]\n",
    "# previsoes_teste = scaler_X.inverse_transform(previsoes_teste_dataset_size)[:,target_column_index]\n",
    "previsoes_teste = scaler_y.inverse_transform(previsoes_teste)\n",
    "\n",
    "# Invertendo a normalização das variáveis target original\n",
    "# y_treino_dataset_size = np.zeros(shape=(len(y_treino), X_treino.shape[2]))\n",
    "# y_treino_dataset_size[:, target_column_index] = y_treino[:,0]\n",
    "# y_treino = scaler_y.inverse_transform(y_treino_dataset_size)[:,target_column_index]\n",
    "inv_y_treino = scaler_y.inverse_transform(y_treino.reshape(-1,1))\n",
    "\n",
    "# y_teste_dataset_size = np.zeros(shape=(len(y_teste), X_teste.shape[2]))\n",
    "# y_teste_dataset_size[:,target_column_index] = y_teste[:,0]\n",
    "# y_teste = scaler_X.inverse_transform(y_teste_dataset_size)[:,target_column_index]\n",
    "inv_y_teste = scaler_y.inverse_transform(y_teste.reshape(-1,1))\n",
    "\n",
    "# Calculando o RMSE:\n",
    "score_treino = math.sqrt(mean_squared_error(inv_y_treino, previsoes_treino))\n",
    "score_teste = math.sqrt(mean_squared_error(inv_y_teste, previsoes_teste))\n",
    "print('RMSE treino: %.2f' % score_treino)\n",
    "print('RMSE teste: %.2f' % score_teste)"
   ],
   "metadata": {
    "collapsed": false,
    "pycharm": {
     "name": "#%%\n"
    }
   }
  },
  {
   "cell_type": "code",
   "execution_count": 62,
   "outputs": [
    {
     "data": {
      "text/plain": "<AxesSubplot:>"
     },
     "execution_count": 62,
     "metadata": {},
     "output_type": "execute_result"
    },
    {
     "data": {
      "text/plain": "<Figure size 864x576 with 1 Axes>",
      "image/png": "[encoded data removed]"
     },
     "metadata": {
      "needs_background": "light"
     },
     "output_type": "display_data"
    }
   ],
   "source": [
    "df_plot = pd.DataFrame([previsoes_teste[:100].reshape(-1), inv_y_teste[:100].reshape(-1)]).T\n",
    "df_plot.columns = ['previsoes', 'real']\n",
    "df_plot.plot(figsize=(12,8))"
   ],
   "metadata": {
    "collapsed": false,
    "pycharm": {
     "name": "#%%\n"
    }
   }
  },
  {
   "cell_type": "code",
   "execution_count": 84,
   "outputs": [
    {
     "data": {
      "text/plain": "((24534, 10, 65), (10510, 10, 65))"
     },
     "execution_count": 84,
     "metadata": {},
     "output_type": "execute_result"
    }
   ],
   "source": [
    "# Verificando shape dos datasets\n",
    "# Pois precisam ser divisiveis por batch_size\n",
    "X_treino.shape, X_teste.shape"
   ],
   "metadata": {
    "collapsed": false,
    "pycharm": {
     "name": "#%%\n"
    }
   }
  },
  {
   "cell_type": "code",
   "execution_count": 103,
   "outputs": [],
   "source": [
    "# Calcular o maximo divisor comum de um número e outro\n",
    "def MDC(a, b):\n",
    "    while b != 0:\n",
    "        a, b = b, a % b\n",
    "    return a"
   ],
   "metadata": {
    "collapsed": false,
    "pycharm": {
     "name": "#%%\n"
    }
   }
  },
  {
   "cell_type": "code",
   "execution_count": 104,
   "outputs": [
    {
     "data": {
      "text/plain": "2"
     },
     "execution_count": 104,
     "metadata": {},
     "output_type": "execute_result"
    }
   ],
   "source": [
    "# Maximo divisor comum entre o tamanho dos datasets é 10\n",
    "MDC(X_treino.shape[0], X_teste.shape[0])"
   ],
   "metadata": {
    "collapsed": false,
    "pycharm": {
     "name": "#%%\n"
    }
   }
  },
  {
   "cell_type": "code",
   "execution_count": 106,
   "outputs": [
    {
     "name": "stdout",
     "output_type": "stream",
     "text": [
      "Epoch 1/200\n",
      "12267/12267 - 18s - loss: 0.0091 - 18s/epoch - 2ms/step\n",
      "Epoch 2/200\n",
      "12267/12267 - 18s - loss: 0.0062 - 18s/epoch - 1ms/step\n",
      "Epoch 3/200\n",
      "12267/12267 - 18s - loss: 0.0054 - 18s/epoch - 1ms/step\n",
      "Epoch 4/200\n",
      "12267/12267 - 17s - loss: 0.0048 - 17s/epoch - 1ms/step\n",
      "Epoch 5/200\n",
      "12267/12267 - 17s - loss: 0.0044 - 17s/epoch - 1ms/step\n",
      "Epoch 6/200\n",
      "12267/12267 - 17s - loss: 0.0042 - 17s/epoch - 1ms/step\n",
      "Epoch 7/200\n",
      "12267/12267 - 17s - loss: 0.0039 - 17s/epoch - 1ms/step\n",
      "Epoch 8/200\n",
      "12267/12267 - 17s - loss: 0.0037 - 17s/epoch - 1ms/step\n",
      "Epoch 9/200\n",
      "12267/12267 - 17s - loss: 0.0035 - 17s/epoch - 1ms/step\n",
      "Epoch 10/200\n",
      "12267/12267 - 17s - loss: 0.0033 - 17s/epoch - 1ms/step\n",
      "Epoch 11/200\n",
      "12267/12267 - 17s - loss: 0.0032 - 17s/epoch - 1ms/step\n",
      "Epoch 12/200\n",
      "12267/12267 - 17s - loss: 0.0030 - 17s/epoch - 1ms/step\n",
      "Epoch 13/200\n",
      "12267/12267 - 17s - loss: 0.0029 - 17s/epoch - 1ms/step\n",
      "Epoch 14/200\n",
      "12267/12267 - 18s - loss: 0.0028 - 18s/epoch - 1ms/step\n",
      "Epoch 15/200\n",
      "12267/12267 - 17s - loss: 0.0027 - 17s/epoch - 1ms/step\n",
      "Epoch 16/200\n",
      "12267/12267 - 18s - loss: 0.0027 - 18s/epoch - 1ms/step\n",
      "Epoch 17/200\n",
      "12267/12267 - 19s - loss: 0.0026 - 19s/epoch - 2ms/step\n",
      "Epoch 18/200\n",
      "12267/12267 - 19s - loss: 0.0025 - 19s/epoch - 2ms/step\n",
      "Epoch 19/200\n",
      "12267/12267 - 18s - loss: 0.0025 - 18s/epoch - 1ms/step\n",
      "Epoch 20/200\n",
      "12267/12267 - 17s - loss: 0.0024 - 17s/epoch - 1ms/step\n",
      "Epoch 21/200\n",
      "12267/12267 - 17s - loss: 0.0023 - 17s/epoch - 1ms/step\n",
      "Epoch 22/200\n",
      "12267/12267 - 17s - loss: 0.0023 - 17s/epoch - 1ms/step\n",
      "Epoch 23/200\n",
      "12267/12267 - 17s - loss: 0.0023 - 17s/epoch - 1ms/step\n",
      "Epoch 24/200\n",
      "12267/12267 - 17s - loss: 0.0022 - 17s/epoch - 1ms/step\n",
      "Epoch 25/200\n",
      "12267/12267 - 17s - loss: 0.0022 - 17s/epoch - 1ms/step\n",
      "Epoch 26/200\n",
      "12267/12267 - 18s - loss: 0.0022 - 18s/epoch - 1ms/step\n",
      "Epoch 27/200\n",
      "12267/12267 - 17s - loss: 0.0021 - 17s/epoch - 1ms/step\n",
      "Epoch 28/200\n",
      "12267/12267 - 18s - loss: 0.0021 - 18s/epoch - 1ms/step\n",
      "Epoch 29/200\n",
      "12267/12267 - 17s - loss: 0.0020 - 17s/epoch - 1ms/step\n",
      "Epoch 30/200\n",
      "12267/12267 - 17s - loss: 0.0020 - 17s/epoch - 1ms/step\n",
      "Epoch 31/200\n",
      "12267/12267 - 17s - loss: 0.0020 - 17s/epoch - 1ms/step\n",
      "Epoch 32/200\n",
      "12267/12267 - 17s - loss: 0.0020 - 17s/epoch - 1ms/step\n",
      "Epoch 33/200\n",
      "12267/12267 - 17s - loss: 0.0020 - 17s/epoch - 1ms/step\n",
      "Epoch 34/200\n",
      "12267/12267 - 17s - loss: 0.0019 - 17s/epoch - 1ms/step\n",
      "Epoch 35/200\n",
      "12267/12267 - 18s - loss: 0.0019 - 18s/epoch - 2ms/step\n",
      "Epoch 36/200\n",
      "12267/12267 - 19s - loss: 0.0019 - 19s/epoch - 2ms/step\n",
      "Epoch 37/200\n",
      "12267/12267 - 19s - loss: 0.0019 - 19s/epoch - 2ms/step\n",
      "Epoch 38/200\n",
      "12267/12267 - 18s - loss: 0.0018 - 18s/epoch - 1ms/step\n",
      "Epoch 39/200\n",
      "12267/12267 - 18s - loss: 0.0018 - 18s/epoch - 1ms/step\n",
      "Epoch 40/200\n",
      "12267/12267 - 17s - loss: 0.0018 - 17s/epoch - 1ms/step\n",
      "Epoch 41/200\n",
      "12267/12267 - 18s - loss: 0.0018 - 18s/epoch - 1ms/step\n",
      "Epoch 42/200\n",
      "12267/12267 - 18s - loss: 0.0018 - 18s/epoch - 1ms/step\n",
      "Epoch 43/200\n",
      "12267/12267 - 18s - loss: 0.0018 - 18s/epoch - 2ms/step\n",
      "Epoch 44/200\n",
      "12267/12267 - 17s - loss: 0.0017 - 17s/epoch - 1ms/step\n",
      "Epoch 45/200\n",
      "12267/12267 - 17s - loss: 0.0017 - 17s/epoch - 1ms/step\n",
      "Epoch 46/200\n",
      "12267/12267 - 17s - loss: 0.0017 - 17s/epoch - 1ms/step\n",
      "Epoch 47/200\n",
      "12267/12267 - 17s - loss: 0.0017 - 17s/epoch - 1ms/step\n",
      "Epoch 48/200\n",
      "12267/12267 - 18s - loss: 0.0017 - 18s/epoch - 1ms/step\n",
      "Epoch 49/200\n",
      "12267/12267 - 18s - loss: 0.0017 - 18s/epoch - 1ms/step\n",
      "Epoch 50/200\n",
      "12267/12267 - 18s - loss: 0.0017 - 18s/epoch - 1ms/step\n",
      "Epoch 51/200\n",
      "12267/12267 - 18s - loss: 0.0017 - 18s/epoch - 1ms/step\n",
      "Epoch 52/200\n",
      "12267/12267 - 18s - loss: 0.0016 - 18s/epoch - 1ms/step\n",
      "Epoch 53/200\n",
      "12267/12267 - 18s - loss: 0.0016 - 18s/epoch - 1ms/step\n",
      "Epoch 54/200\n",
      "12267/12267 - 18s - loss: 0.0016 - 18s/epoch - 1ms/step\n",
      "Epoch 55/200\n",
      "12267/12267 - 18s - loss: 0.0016 - 18s/epoch - 1ms/step\n",
      "Epoch 56/200\n",
      "12267/12267 - 17s - loss: 0.0016 - 17s/epoch - 1ms/step\n",
      "Epoch 57/200\n",
      "12267/12267 - 18s - loss: 0.0016 - 18s/epoch - 1ms/step\n",
      "Epoch 58/200\n",
      "12267/12267 - 17s - loss: 0.0016 - 17s/epoch - 1ms/step\n",
      "Epoch 59/200\n",
      "12267/12267 - 17s - loss: 0.0015 - 17s/epoch - 1ms/step\n",
      "Epoch 60/200\n",
      "12267/12267 - 17s - loss: 0.0015 - 17s/epoch - 1ms/step\n",
      "Epoch 61/200\n",
      "12267/12267 - 19s - loss: 0.0015 - 19s/epoch - 2ms/step\n",
      "Epoch 62/200\n",
      "12267/12267 - 18s - loss: 0.0015 - 18s/epoch - 1ms/step\n",
      "Epoch 63/200\n",
      "12267/12267 - 18s - loss: 0.0015 - 18s/epoch - 1ms/step\n",
      "Epoch 64/200\n",
      "12267/12267 - 18s - loss: 0.0015 - 18s/epoch - 1ms/step\n",
      "Epoch 65/200\n",
      "12267/12267 - 18s - loss: 0.0015 - 18s/epoch - 1ms/step\n",
      "Epoch 66/200\n",
      "12267/12267 - 18s - loss: 0.0015 - 18s/epoch - 1ms/step\n",
      "Epoch 67/200\n",
      "12267/12267 - 18s - loss: 0.0015 - 18s/epoch - 1ms/step\n",
      "Epoch 68/200\n",
      "12267/12267 - 18s - loss: 0.0015 - 18s/epoch - 1ms/step\n",
      "Epoch 69/200\n",
      "12267/12267 - 18s - loss: 0.0015 - 18s/epoch - 1ms/step\n",
      "Epoch 70/200\n",
      "12267/12267 - 18s - loss: 0.0015 - 18s/epoch - 1ms/step\n",
      "Epoch 71/200\n",
      "12267/12267 - 18s - loss: 0.0015 - 18s/epoch - 1ms/step\n",
      "Epoch 72/200\n",
      "12267/12267 - 18s - loss: 0.0014 - 18s/epoch - 2ms/step\n",
      "Epoch 73/200\n",
      "12267/12267 - 18s - loss: 0.0014 - 18s/epoch - 1ms/step\n",
      "Epoch 74/200\n",
      "12267/12267 - 17s - loss: 0.0014 - 17s/epoch - 1ms/step\n",
      "Epoch 75/200\n",
      "12267/12267 - 18s - loss: 0.0014 - 18s/epoch - 1ms/step\n",
      "Epoch 76/200\n",
      "12267/12267 - 18s - loss: 0.0014 - 18s/epoch - 1ms/step\n",
      "Epoch 77/200\n",
      "12267/12267 - 18s - loss: 0.0014 - 18s/epoch - 1ms/step\n",
      "Epoch 78/200\n",
      "12267/12267 - 18s - loss: 0.0014 - 18s/epoch - 1ms/step\n",
      "Epoch 79/200\n",
      "12267/12267 - 18s - loss: 0.0014 - 18s/epoch - 1ms/step\n",
      "Epoch 80/200\n",
      "12267/12267 - 18s - loss: 0.0015 - 18s/epoch - 1ms/step\n",
      "Epoch 81/200\n",
      "12267/12267 - 18s - loss: 0.0014 - 18s/epoch - 1ms/step\n",
      "Epoch 82/200\n",
      "12267/12267 - 18s - loss: 0.0014 - 18s/epoch - 1ms/step\n",
      "Epoch 83/200\n",
      "12267/12267 - 17s - loss: 0.0014 - 17s/epoch - 1ms/step\n",
      "Epoch 84/200\n",
      "12267/12267 - 18s - loss: 0.0014 - 18s/epoch - 1ms/step\n",
      "Epoch 85/200\n",
      "12267/12267 - 17s - loss: 0.0014 - 17s/epoch - 1ms/step\n",
      "Epoch 86/200\n",
      "12267/12267 - 18s - loss: 0.0014 - 18s/epoch - 1ms/step\n",
      "Epoch 87/200\n",
      "12267/12267 - 18s - loss: 0.0014 - 18s/epoch - 1ms/step\n",
      "Epoch 88/200\n",
      "12267/12267 - 18s - loss: 0.0014 - 18s/epoch - 1ms/step\n",
      "Epoch 89/200\n",
      "12267/12267 - 18s - loss: 0.0013 - 18s/epoch - 1ms/step\n",
      "Epoch 90/200\n",
      "12267/12267 - 19s - loss: 0.0013 - 19s/epoch - 2ms/step\n",
      "Epoch 91/200\n",
      "12267/12267 - 18s - loss: 0.0014 - 18s/epoch - 1ms/step\n",
      "Epoch 92/200\n",
      "12267/12267 - 18s - loss: 0.0013 - 18s/epoch - 1ms/step\n",
      "Epoch 93/200\n",
      "12267/12267 - 18s - loss: 0.0013 - 18s/epoch - 1ms/step\n",
      "Epoch 94/200\n",
      "12267/12267 - 18s - loss: 0.0013 - 18s/epoch - 1ms/step\n",
      "Epoch 95/200\n",
      "12267/12267 - 18s - loss: 0.0013 - 18s/epoch - 1ms/step\n",
      "Epoch 96/200\n",
      "12267/12267 - 18s - loss: 0.0013 - 18s/epoch - 1ms/step\n",
      "Epoch 97/200\n",
      "12267/12267 - 18s - loss: 0.0013 - 18s/epoch - 1ms/step\n",
      "Epoch 98/200\n",
      "12267/12267 - 17s - loss: 0.0013 - 17s/epoch - 1ms/step\n",
      "Epoch 99/200\n",
      "12267/12267 - 17s - loss: 0.0013 - 17s/epoch - 1ms/step\n",
      "Epoch 100/200\n",
      "12267/12267 - 18s - loss: 0.0013 - 18s/epoch - 1ms/step\n",
      "Epoch 101/200\n",
      "12267/12267 - 18s - loss: 0.0013 - 18s/epoch - 1ms/step\n",
      "Epoch 102/200\n",
      "12267/12267 - 17s - loss: 0.0013 - 17s/epoch - 1ms/step\n",
      "Epoch 103/200\n",
      "12267/12267 - 18s - loss: 0.0013 - 18s/epoch - 1ms/step\n",
      "Epoch 104/200\n",
      "12267/12267 - 18s - loss: 0.0013 - 18s/epoch - 1ms/step\n",
      "Epoch 105/200\n",
      "12267/12267 - 18s - loss: 0.0013 - 18s/epoch - 1ms/step\n",
      "Epoch 106/200\n",
      "12267/12267 - 18s - loss: 0.0013 - 18s/epoch - 1ms/step\n",
      "Epoch 107/200\n",
      "12267/12267 - 18s - loss: 0.0013 - 18s/epoch - 1ms/step\n",
      "Epoch 108/200\n",
      "12267/12267 - 18s - loss: 0.0013 - 18s/epoch - 1ms/step\n",
      "Epoch 109/200\n",
      "12267/12267 - 17s - loss: 0.0013 - 17s/epoch - 1ms/step\n",
      "Epoch 110/200\n",
      "12267/12267 - 17s - loss: 0.0013 - 17s/epoch - 1ms/step\n",
      "Epoch 111/200\n",
      "12267/12267 - 17s - loss: 0.0013 - 17s/epoch - 1ms/step\n",
      "Epoch 112/200\n",
      "12267/12267 - 18s - loss: 0.0013 - 18s/epoch - 1ms/step\n",
      "Epoch 113/200\n",
      "12267/12267 - 18s - loss: 0.0013 - 18s/epoch - 1ms/step\n",
      "Epoch 114/200\n",
      "12267/12267 - 17s - loss: 0.0013 - 17s/epoch - 1ms/step\n",
      "Epoch 115/200\n",
      "12267/12267 - 17s - loss: 0.0013 - 17s/epoch - 1ms/step\n",
      "Epoch 116/200\n",
      "12267/12267 - 18s - loss: 0.0012 - 18s/epoch - 1ms/step\n",
      "Epoch 117/200\n",
      "12267/12267 - 18s - loss: 0.0013 - 18s/epoch - 1ms/step\n",
      "Epoch 118/200\n",
      "12267/12267 - 18s - loss: 0.0012 - 18s/epoch - 2ms/step\n",
      "Epoch 119/200\n",
      "12267/12267 - 18s - loss: 0.0012 - 18s/epoch - 1ms/step\n",
      "Epoch 120/200\n",
      "12267/12267 - 17s - loss: 0.0012 - 17s/epoch - 1ms/step\n",
      "Epoch 121/200\n",
      "12267/12267 - 17s - loss: 0.0012 - 17s/epoch - 1ms/step\n",
      "Epoch 122/200\n",
      "12267/12267 - 18s - loss: 0.0012 - 18s/epoch - 1ms/step\n",
      "Epoch 123/200\n",
      "12267/12267 - 18s - loss: 0.0012 - 18s/epoch - 1ms/step\n",
      "Epoch 124/200\n",
      "12267/12267 - 17s - loss: 0.0012 - 17s/epoch - 1ms/step\n",
      "Epoch 125/200\n",
      "12267/12267 - 17s - loss: 0.0012 - 17s/epoch - 1ms/step\n",
      "Epoch 126/200\n",
      "12267/12267 - 18s - loss: 0.0012 - 18s/epoch - 1ms/step\n",
      "Epoch 127/200\n",
      "12267/12267 - 17s - loss: 0.0012 - 17s/epoch - 1ms/step\n",
      "Epoch 128/200\n",
      "12267/12267 - 17s - loss: 0.0012 - 17s/epoch - 1ms/step\n",
      "Epoch 129/200\n",
      "12267/12267 - 17s - loss: 0.0012 - 17s/epoch - 1ms/step\n",
      "Epoch 130/200\n",
      "12267/12267 - 17s - loss: 0.0012 - 17s/epoch - 1ms/step\n",
      "Epoch 131/200\n",
      "12267/12267 - 18s - loss: 0.0012 - 18s/epoch - 1ms/step\n",
      "Epoch 132/200\n",
      "12267/12267 - 17s - loss: 0.0012 - 17s/epoch - 1ms/step\n",
      "Epoch 133/200\n",
      "12267/12267 - 17s - loss: 0.0012 - 17s/epoch - 1ms/step\n",
      "Epoch 134/200\n",
      "12267/12267 - 18s - loss: 0.0012 - 18s/epoch - 1ms/step\n",
      "Epoch 135/200\n",
      "12267/12267 - 18s - loss: 0.0012 - 18s/epoch - 1ms/step\n",
      "Epoch 136/200\n",
      "12267/12267 - 17s - loss: 0.0012 - 17s/epoch - 1ms/step\n",
      "Epoch 137/200\n",
      "12267/12267 - 18s - loss: 0.0012 - 18s/epoch - 1ms/step\n",
      "Epoch 138/200\n",
      "12267/12267 - 18s - loss: 0.0012 - 18s/epoch - 1ms/step\n",
      "Epoch 139/200\n",
      "12267/12267 - 17s - loss: 0.0012 - 17s/epoch - 1ms/step\n",
      "Epoch 140/200\n",
      "12267/12267 - 18s - loss: 0.0012 - 18s/epoch - 1ms/step\n",
      "Epoch 141/200\n",
      "12267/12267 - 17s - loss: 0.0012 - 17s/epoch - 1ms/step\n",
      "Epoch 142/200\n",
      "12267/12267 - 18s - loss: 0.0012 - 18s/epoch - 1ms/step\n",
      "Epoch 143/200\n",
      "12267/12267 - 18s - loss: 0.0012 - 18s/epoch - 1ms/step\n",
      "Epoch 144/200\n",
      "12267/12267 - 18s - loss: 0.0012 - 18s/epoch - 1ms/step\n",
      "Epoch 145/200\n",
      "12267/12267 - 18s - loss: 0.0012 - 18s/epoch - 1ms/step\n",
      "Epoch 146/200\n",
      "12267/12267 - 18s - loss: 0.0012 - 18s/epoch - 1ms/step\n",
      "Epoch 147/200\n",
      "12267/12267 - 17s - loss: 0.0012 - 17s/epoch - 1ms/step\n",
      "Epoch 148/200\n",
      "12267/12267 - 18s - loss: 0.0012 - 18s/epoch - 1ms/step\n",
      "Epoch 149/200\n",
      "12267/12267 - 17s - loss: 0.0012 - 17s/epoch - 1ms/step\n",
      "Epoch 150/200\n",
      "12267/12267 - 17s - loss: 0.0012 - 17s/epoch - 1ms/step\n",
      "Epoch 151/200\n",
      "12267/12267 - 17s - loss: 0.0012 - 17s/epoch - 1ms/step\n",
      "Epoch 152/200\n",
      "12267/12267 - 17s - loss: 0.0012 - 17s/epoch - 1ms/step\n",
      "Epoch 153/200\n",
      "12267/12267 - 18s - loss: 0.0012 - 18s/epoch - 1ms/step\n",
      "Epoch 154/200\n",
      "12267/12267 - 18s - loss: 0.0012 - 18s/epoch - 1ms/step\n",
      "Epoch 155/200\n",
      "12267/12267 - 17s - loss: 0.0012 - 17s/epoch - 1ms/step\n",
      "Epoch 156/200\n",
      "12267/12267 - 17s - loss: 0.0011 - 17s/epoch - 1ms/step\n",
      "Epoch 157/200\n",
      "12267/12267 - 17s - loss: 0.0012 - 17s/epoch - 1ms/step\n",
      "Epoch 158/200\n",
      "12267/12267 - 18s - loss: 0.0011 - 18s/epoch - 1ms/step\n",
      "Epoch 159/200\n",
      "12267/12267 - 18s - loss: 0.0012 - 18s/epoch - 1ms/step\n",
      "Epoch 160/200\n",
      "12267/12267 - 18s - loss: 0.0011 - 18s/epoch - 1ms/step\n",
      "Epoch 161/200\n",
      "12267/12267 - 17s - loss: 0.0011 - 17s/epoch - 1ms/step\n",
      "Epoch 162/200\n",
      "12267/12267 - 17s - loss: 0.0012 - 17s/epoch - 1ms/step\n",
      "Epoch 163/200\n",
      "12267/12267 - 17s - loss: 0.0011 - 17s/epoch - 1ms/step\n",
      "Epoch 164/200\n",
      "12267/12267 - 17s - loss: 0.0011 - 17s/epoch - 1ms/step\n",
      "Epoch 165/200\n",
      "12267/12267 - 17s - loss: 0.0012 - 17s/epoch - 1ms/step\n",
      "Epoch 166/200\n",
      "12267/12267 - 17s - loss: 0.0011 - 17s/epoch - 1ms/step\n",
      "Epoch 167/200\n",
      "12267/12267 - 17s - loss: 0.0012 - 17s/epoch - 1ms/step\n",
      "Epoch 168/200\n",
      "12267/12267 - 17s - loss: 0.0011 - 17s/epoch - 1ms/step\n",
      "Epoch 169/200\n",
      "12267/12267 - 17s - loss: 0.0011 - 17s/epoch - 1ms/step\n",
      "Epoch 170/200\n",
      "12267/12267 - 17s - loss: 0.0011 - 17s/epoch - 1ms/step\n",
      "Epoch 171/200\n",
      "12267/12267 - 17s - loss: 0.0011 - 17s/epoch - 1ms/step\n",
      "Epoch 172/200\n",
      "12267/12267 - 17s - loss: 0.0011 - 17s/epoch - 1ms/step\n",
      "Epoch 173/200\n",
      "12267/12267 - 17s - loss: 0.0011 - 17s/epoch - 1ms/step\n",
      "Epoch 174/200\n",
      "12267/12267 - 17s - loss: 0.0011 - 17s/epoch - 1ms/step\n",
      "Epoch 175/200\n",
      "12267/12267 - 17s - loss: 0.0011 - 17s/epoch - 1ms/step\n",
      "Epoch 176/200\n",
      "12267/12267 - 17s - loss: 0.0011 - 17s/epoch - 1ms/step\n",
      "Epoch 177/200\n",
      "12267/12267 - 17s - loss: 0.0011 - 17s/epoch - 1ms/step\n",
      "Epoch 178/200\n",
      "12267/12267 - 17s - loss: 0.0011 - 17s/epoch - 1ms/step\n",
      "Epoch 179/200\n",
      "12267/12267 - 17s - loss: 0.0011 - 17s/epoch - 1ms/step\n",
      "Epoch 180/200\n",
      "12267/12267 - 17s - loss: 0.0011 - 17s/epoch - 1ms/step\n",
      "Epoch 181/200\n",
      "12267/12267 - 17s - loss: 0.0011 - 17s/epoch - 1ms/step\n",
      "Epoch 182/200\n",
      "12267/12267 - 17s - loss: 0.0011 - 17s/epoch - 1ms/step\n",
      "Epoch 183/200\n",
      "12267/12267 - 17s - loss: 0.0011 - 17s/epoch - 1ms/step\n",
      "Epoch 184/200\n",
      "12267/12267 - 17s - loss: 0.0011 - 17s/epoch - 1ms/step\n",
      "Epoch 185/200\n",
      "12267/12267 - 17s - loss: 0.0011 - 17s/epoch - 1ms/step\n",
      "Epoch 186/200\n",
      "12267/12267 - 17s - loss: 0.0011 - 17s/epoch - 1ms/step\n",
      "Epoch 187/200\n",
      "12267/12267 - 17s - loss: 0.0011 - 17s/epoch - 1ms/step\n",
      "Epoch 188/200\n",
      "12267/12267 - 17s - loss: 0.0011 - 17s/epoch - 1ms/step\n",
      "Epoch 189/200\n",
      "12267/12267 - 17s - loss: 0.0011 - 17s/epoch - 1ms/step\n",
      "Epoch 190/200\n",
      "12267/12267 - 17s - loss: 0.0011 - 17s/epoch - 1ms/step\n",
      "Epoch 191/200\n",
      "12267/12267 - 17s - loss: 0.0011 - 17s/epoch - 1ms/step\n",
      "Epoch 192/200\n",
      "12267/12267 - 17s - loss: 0.0011 - 17s/epoch - 1ms/step\n",
      "Epoch 193/200\n",
      "12267/12267 - 17s - loss: 0.0011 - 17s/epoch - 1ms/step\n",
      "Epoch 194/200\n",
      "12267/12267 - 17s - loss: 0.0011 - 17s/epoch - 1ms/step\n",
      "Epoch 195/200\n",
      "12267/12267 - 17s - loss: 0.0011 - 17s/epoch - 1ms/step\n",
      "Epoch 196/200\n",
      "12267/12267 - 17s - loss: 0.0011 - 17s/epoch - 1ms/step\n",
      "Epoch 197/200\n",
      "12267/12267 - 17s - loss: 0.0011 - 17s/epoch - 1ms/step\n",
      "Epoch 198/200\n",
      "12267/12267 - 17s - loss: 0.0011 - 17s/epoch - 1ms/step\n",
      "Epoch 199/200\n",
      "12267/12267 - 17s - loss: 0.0011 - 17s/epoch - 1ms/step\n",
      "Epoch 200/200\n",
      "12267/12267 - 17s - loss: 0.0011 - 17s/epoch - 1ms/step\n"
     ]
    },
    {
     "data": {
      "text/plain": "<keras.callbacks.History at 0x1ecccdfad00>"
     },
     "execution_count": 106,
     "metadata": {},
     "output_type": "execute_result"
    }
   ],
   "source": [
    "# Modelo com return_sequences\n",
    "model_2 = Sequential()\n",
    "model_2.add(LSTM(20, batch_input_shape=(2, X_treino.shape[1], X_treino.shape[2]), stateful=True))\n",
    "model_2.add(Dense(1))\n",
    "model_2.compile(loss='mean_squared_error', optimizer='adam')\n",
    "model_2.fit(X_treino, y_treino, epochs=200, batch_size=2, verbose=2)"
   ],
   "metadata": {
    "collapsed": false,
    "pycharm": {
     "name": "#%%\n"
    }
   }
  },
  {
   "cell_type": "code",
   "execution_count": 107,
   "outputs": [],
   "source": [
    "# save model\n",
    "model_2.save('model/model_2.h5')"
   ],
   "metadata": {
    "collapsed": false,
    "pycharm": {
     "name": "#%%\n"
    }
   }
  },
  {
   "cell_type": "code",
   "execution_count": 109,
   "outputs": [
    {
     "name": "stdout",
     "output_type": "stream",
     "text": [
      "RMSE treino: 3.35\n",
      "RMSE teste: 13.54\n"
     ]
    }
   ],
   "source": [
    "# Fazendo as previsões e avaliando a performance\n",
    "previsoes_treino = model_2.predict(X_treino, batch_size=2)\n",
    "previsoes_teste = model_2.predict(X_teste, batch_size=2)\n",
    "\n",
    "previsoes_treino = scaler_y.inverse_transform(previsoes_treino)\n",
    "\n",
    "previsoes_teste = scaler_y.inverse_transform(previsoes_teste)\n",
    "\n",
    "inv_y_treino = scaler_y.inverse_transform(y_treino.reshape(-1,1))\n",
    "inv_y_teste = scaler_y.inverse_transform(y_teste.reshape(-1,1))\n",
    "\n",
    "# Calculando o RMSE:\n",
    "score_treino = math.sqrt(mean_squared_error(inv_y_treino, previsoes_treino))\n",
    "score_teste = math.sqrt(mean_squared_error(inv_y_teste, previsoes_teste))\n",
    "print('RMSE treino: %.2f' % score_treino)\n",
    "print('RMSE teste: %.2f' % score_teste)"
   ],
   "metadata": {
    "collapsed": false,
    "pycharm": {
     "name": "#%%\n"
    }
   }
  },
  {
   "cell_type": "code",
   "execution_count": 110,
   "outputs": [
    {
     "data": {
      "text/plain": "<AxesSubplot:>"
     },
     "execution_count": 110,
     "metadata": {},
     "output_type": "execute_result"
    },
    {
     "data": {
      "text/plain": "<Figure size 864x576 with 1 Axes>",
      "image/png": "[encoded data removed]"
     },
     "metadata": {
      "needs_background": "light"
     },
     "output_type": "display_data"
    }
   ],
   "source": [
    "df_plot = pd.DataFrame([previsoes_teste[:100].reshape(-1), inv_y_teste[:100].reshape(-1)]).T\n",
    "df_plot.columns = ['previsoes', 'real']\n",
    "df_plot.plot(figsize=(12,8))"
   ],
   "metadata": {
    "collapsed": false,
    "pycharm": {
     "name": "#%%\n"
    }
   }
  },
  {
   "cell_type": "code",
   "execution_count": null,
   "outputs": [],
   "source": [],
   "metadata": {
    "collapsed": false,
    "pycharm": {
     "name": "#%%\n"
    }
   }
  }
 ],
 "metadata": {
  "kernelspec": {
   "display_name": "Python 3",
   "language": "python",
   "name": "python3"
  },
  "language_info": {
   "codemirror_mode": {
    "name": "ipython",
    "version": 2
   },
   "file_extension": ".py",
   "mimetype": "text/x-python",
   "name": "python",
   "nbconvert_exporter": "python",
   "pygments_lexer": "ipython2",
   "version": "2.7.6"
  }
 },
 "nbformat": 4,
 "nbformat_minor": 0
}